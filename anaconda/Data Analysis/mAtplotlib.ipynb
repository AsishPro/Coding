{
 "cells": [
  {
   "cell_type": "code",
   "execution_count": 3,
   "id": "2f1d5f0d",
   "metadata": {},
   "outputs": [],
   "source": [
    "import matplotlib.pyplot as plt\n",
    "import numpy as np"
   ]
  },
  {
   "cell_type": "code",
   "execution_count": 2,
   "id": "72c3da2b",
   "metadata": {
    "collapsed": true
   },
   "outputs": [
    {
     "name": "stdout",
     "output_type": "stream",
     "text": [
      "Help on function plot in module matplotlib.pyplot:\n",
      "\n",
      "plot(*args, scalex=True, scaley=True, data=None, **kwargs)\n",
      "    Plot y versus x as lines and/or markers.\n",
      "    \n",
      "    Call signatures::\n",
      "    \n",
      "        plot([x], y, [fmt], *, data=None, **kwargs)\n",
      "        plot([x], y, [fmt], [x2], y2, [fmt2], ..., **kwargs)\n",
      "    \n",
      "    The coordinates of the points or line nodes are given by *x*, *y*.\n",
      "    \n",
      "    The optional parameter *fmt* is a convenient way for defining basic\n",
      "    formatting like color, marker and linestyle. It's a shortcut string\n",
      "    notation described in the *Notes* section below.\n",
      "    \n",
      "    >>> plot(x, y)        # plot x and y using default line style and color\n",
      "    >>> plot(x, y, 'bo')  # plot x and y using blue circle markers\n",
      "    >>> plot(y)           # plot y using x as index array 0..N-1\n",
      "    >>> plot(y, 'r+')     # ditto, but with red plusses\n",
      "    \n",
      "    You can use `.Line2D` properties as keyword arguments for more\n",
      "    control on the appearance. Line properties and *fmt* can be mixed.\n",
      "    The following two calls yield identical results:\n",
      "    \n",
      "    >>> plot(x, y, 'go--', linewidth=2, markersize=12)\n",
      "    >>> plot(x, y, color='green', marker='o', linestyle='dashed',\n",
      "    ...      linewidth=2, markersize=12)\n",
      "    \n",
      "    When conflicting with *fmt*, keyword arguments take precedence.\n",
      "    \n",
      "    \n",
      "    **Plotting labelled data**\n",
      "    \n",
      "    There's a convenient way for plotting objects with labelled data (i.e.\n",
      "    data that can be accessed by index ``obj['y']``). Instead of giving\n",
      "    the data in *x* and *y*, you can provide the object in the *data*\n",
      "    parameter and just give the labels for *x* and *y*::\n",
      "    \n",
      "    >>> plot('xlabel', 'ylabel', data=obj)\n",
      "    \n",
      "    All indexable objects are supported. This could e.g. be a `dict`, a\n",
      "    `pandas.DataFrame` or a structured numpy array.\n",
      "    \n",
      "    \n",
      "    **Plotting multiple sets of data**\n",
      "    \n",
      "    There are various ways to plot multiple sets of data.\n",
      "    \n",
      "    - The most straight forward way is just to call `plot` multiple times.\n",
      "      Example:\n",
      "    \n",
      "      >>> plot(x1, y1, 'bo')\n",
      "      >>> plot(x2, y2, 'go')\n",
      "    \n",
      "    - If *x* and/or *y* are 2D arrays a separate data set will be drawn\n",
      "      for every column. If both *x* and *y* are 2D, they must have the\n",
      "      same shape. If only one of them is 2D with shape (N, m) the other\n",
      "      must have length N and will be used for every data set m.\n",
      "    \n",
      "      Example:\n",
      "    \n",
      "      >>> x = [1, 2, 3]\n",
      "      >>> y = np.array([[1, 2], [3, 4], [5, 6]])\n",
      "      >>> plot(x, y)\n",
      "    \n",
      "      is equivalent to:\n",
      "    \n",
      "      >>> for col in range(y.shape[1]):\n",
      "      ...     plot(x, y[:, col])\n",
      "    \n",
      "    - The third way is to specify multiple sets of *[x]*, *y*, *[fmt]*\n",
      "      groups::\n",
      "    \n",
      "      >>> plot(x1, y1, 'g^', x2, y2, 'g-')\n",
      "    \n",
      "      In this case, any additional keyword argument applies to all\n",
      "      datasets. Also this syntax cannot be combined with the *data*\n",
      "      parameter.\n",
      "    \n",
      "    By default, each line is assigned a different style specified by a\n",
      "    'style cycle'. The *fmt* and line property parameters are only\n",
      "    necessary if you want explicit deviations from these defaults.\n",
      "    Alternatively, you can also change the style cycle using\n",
      "    :rc:`axes.prop_cycle`.\n",
      "    \n",
      "    \n",
      "    Parameters\n",
      "    ----------\n",
      "    x, y : array-like or scalar\n",
      "        The horizontal / vertical coordinates of the data points.\n",
      "        *x* values are optional and default to ``range(len(y))``.\n",
      "    \n",
      "        Commonly, these parameters are 1D arrays.\n",
      "    \n",
      "        They can also be scalars, or two-dimensional (in that case, the\n",
      "        columns represent separate data sets).\n",
      "    \n",
      "        These arguments cannot be passed as keywords.\n",
      "    \n",
      "    fmt : str, optional\n",
      "        A format string, e.g. 'ro' for red circles. See the *Notes*\n",
      "        section for a full description of the format strings.\n",
      "    \n",
      "        Format strings are just an abbreviation for quickly setting\n",
      "        basic line properties. All of these and more can also be\n",
      "        controlled by keyword arguments.\n",
      "    \n",
      "        This argument cannot be passed as keyword.\n",
      "    \n",
      "    data : indexable object, optional\n",
      "        An object with labelled data. If given, provide the label names to\n",
      "        plot in *x* and *y*.\n",
      "    \n",
      "        .. note::\n",
      "            Technically there's a slight ambiguity in calls where the\n",
      "            second label is a valid *fmt*. ``plot('n', 'o', data=obj)``\n",
      "            could be ``plt(x, y)`` or ``plt(y, fmt)``. In such cases,\n",
      "            the former interpretation is chosen, but a warning is issued.\n",
      "            You may suppress the warning by adding an empty format string\n",
      "            ``plot('n', 'o', '', data=obj)``.\n",
      "    \n",
      "    Returns\n",
      "    -------\n",
      "    list of `.Line2D`\n",
      "        A list of lines representing the plotted data.\n",
      "    \n",
      "    Other Parameters\n",
      "    ----------------\n",
      "    scalex, scaley : bool, default: True\n",
      "        These parameters determine if the view limits are adapted to the\n",
      "        data limits. The values are passed on to `autoscale_view`.\n",
      "    \n",
      "    **kwargs : `.Line2D` properties, optional\n",
      "        *kwargs* are used to specify properties like a line label (for\n",
      "        auto legends), linewidth, antialiasing, marker face color.\n",
      "        Example::\n",
      "    \n",
      "        >>> plot([1, 2, 3], [1, 2, 3], 'go-', label='line 1', linewidth=2)\n",
      "        >>> plot([1, 2, 3], [1, 4, 9], 'rs', label='line 2')\n",
      "    \n",
      "        If you specify multiple lines with one plot call, the kwargs apply\n",
      "        to all those lines. In case the label object is iterable, each\n",
      "        element is used as labels for each set of data.\n",
      "    \n",
      "        Here is a list of available `.Line2D` properties:\n",
      "    \n",
      "        Properties:\n",
      "        agg_filter: a filter function, which takes a (m, n, 3) float array and a dpi value, and returns a (m, n, 3) array\n",
      "        alpha: scalar or None\n",
      "        animated: bool\n",
      "        antialiased or aa: bool\n",
      "        clip_box: `.Bbox`\n",
      "        clip_on: bool\n",
      "        clip_path: Patch or (Path, Transform) or None\n",
      "        color or c: color\n",
      "        dash_capstyle: `.CapStyle` or {'butt', 'projecting', 'round'}\n",
      "        dash_joinstyle: `.JoinStyle` or {'miter', 'round', 'bevel'}\n",
      "        dashes: sequence of floats (on/off ink in points) or (None, None)\n",
      "        data: (2, N) array or two 1D arrays\n",
      "        drawstyle or ds: {'default', 'steps', 'steps-pre', 'steps-mid', 'steps-post'}, default: 'default'\n",
      "        figure: `.Figure`\n",
      "        fillstyle: {'full', 'left', 'right', 'bottom', 'top', 'none'}\n",
      "        gid: str\n",
      "        in_layout: bool\n",
      "        label: object\n",
      "        linestyle or ls: {'-', '--', '-.', ':', '', (offset, on-off-seq), ...}\n",
      "        linewidth or lw: float\n",
      "        marker: marker style string, `~.path.Path` or `~.markers.MarkerStyle`\n",
      "        markeredgecolor or mec: color\n",
      "        markeredgewidth or mew: float\n",
      "        markerfacecolor or mfc: color\n",
      "        markerfacecoloralt or mfcalt: color\n",
      "        markersize or ms: float\n",
      "        markevery: None or int or (int, int) or slice or list[int] or float or (float, float) or list[bool]\n",
      "        path_effects: `.AbstractPathEffect`\n",
      "        picker: float or callable[[Artist, Event], tuple[bool, dict]]\n",
      "        pickradius: float\n",
      "        rasterized: bool\n",
      "        sketch_params: (scale: float, length: float, randomness: float)\n",
      "        snap: bool or None\n",
      "        solid_capstyle: `.CapStyle` or {'butt', 'projecting', 'round'}\n",
      "        solid_joinstyle: `.JoinStyle` or {'miter', 'round', 'bevel'}\n",
      "        transform: unknown\n",
      "        url: str\n",
      "        visible: bool\n",
      "        xdata: 1D array\n",
      "        ydata: 1D array\n",
      "        zorder: float\n",
      "    \n",
      "    See Also\n",
      "    --------\n",
      "    scatter : XY scatter plot with markers of varying size and/or color (\n",
      "        sometimes also called bubble chart).\n",
      "    \n",
      "    Notes\n",
      "    -----\n",
      "    **Format Strings**\n",
      "    \n",
      "    A format string consists of a part for color, marker and line::\n",
      "    \n",
      "        fmt = '[marker][line][color]'\n",
      "    \n",
      "    Each of them is optional. If not provided, the value from the style\n",
      "    cycle is used. Exception: If ``line`` is given, but no ``marker``,\n",
      "    the data will be a line without markers.\n",
      "    \n",
      "    Other combinations such as ``[color][marker][line]`` are also\n",
      "    supported, but note that their parsing may be ambiguous.\n",
      "    \n",
      "    **Markers**\n",
      "    \n",
      "    =============   ===============================\n",
      "    character       description\n",
      "    =============   ===============================\n",
      "    ``'.'``         point marker\n",
      "    ``','``         pixel marker\n",
      "    ``'o'``         circle marker\n",
      "    ``'v'``         triangle_down marker\n",
      "    ``'^'``         triangle_up marker\n",
      "    ``'<'``         triangle_left marker\n",
      "    ``'>'``         triangle_right marker\n",
      "    ``'1'``         tri_down marker\n",
      "    ``'2'``         tri_up marker\n",
      "    ``'3'``         tri_left marker\n",
      "    ``'4'``         tri_right marker\n",
      "    ``'8'``         octagon marker\n",
      "    ``'s'``         square marker\n",
      "    ``'p'``         pentagon marker\n",
      "    ``'P'``         plus (filled) marker\n",
      "    ``'*'``         star marker\n",
      "    ``'h'``         hexagon1 marker\n",
      "    ``'H'``         hexagon2 marker\n",
      "    ``'+'``         plus marker\n",
      "    ``'x'``         x marker\n",
      "    ``'X'``         x (filled) marker\n",
      "    ``'D'``         diamond marker\n",
      "    ``'d'``         thin_diamond marker\n",
      "    ``'|'``         vline marker\n",
      "    ``'_'``         hline marker\n",
      "    =============   ===============================\n",
      "    \n",
      "    **Line Styles**\n",
      "    \n",
      "    =============    ===============================\n",
      "    character        description\n",
      "    =============    ===============================\n",
      "    ``'-'``          solid line style\n",
      "    ``'--'``         dashed line style\n",
      "    ``'-.'``         dash-dot line style\n",
      "    ``':'``          dotted line style\n",
      "    =============    ===============================\n",
      "    \n",
      "    Example format strings::\n",
      "    \n",
      "        'b'    # blue markers with default shape\n",
      "        'or'   # red circles\n",
      "        '-g'   # green solid line\n",
      "        '--'   # dashed line with default color\n",
      "        '^k:'  # black triangle_up markers connected by a dotted line\n",
      "    \n",
      "    **Colors**\n",
      "    \n",
      "    The supported color abbreviations are the single letter codes\n",
      "    \n",
      "    =============    ===============================\n",
      "    character        color\n",
      "    =============    ===============================\n",
      "    ``'b'``          blue\n",
      "    ``'g'``          green\n",
      "    ``'r'``          red\n",
      "    ``'c'``          cyan\n",
      "    ``'m'``          magenta\n",
      "    ``'y'``          yellow\n",
      "    ``'k'``          black\n",
      "    ``'w'``          white\n",
      "    =============    ===============================\n",
      "    \n",
      "    and the ``'CN'`` colors that index into the default property cycle.\n",
      "    \n",
      "    If the color is the only part of the format string, you can\n",
      "    additionally use any  `matplotlib.colors` spec, e.g. full names\n",
      "    (``'green'``) or hex strings (``'#008000'``).\n",
      "\n"
     ]
    }
   ],
   "source": [
    "help(plt.plot)"
   ]
  },
  {
   "cell_type": "code",
   "execution_count": 5,
   "id": "ab4551d4",
   "metadata": {},
   "outputs": [
    {
     "data": {
      "text/plain": [
       "array([10.        , 10.40816327, 10.81632653, 11.2244898 , 11.63265306,\n",
       "       12.04081633, 12.44897959, 12.85714286, 13.26530612, 13.67346939,\n",
       "       14.08163265, 14.48979592, 14.89795918, 15.30612245, 15.71428571,\n",
       "       16.12244898, 16.53061224, 16.93877551, 17.34693878, 17.75510204,\n",
       "       18.16326531, 18.57142857, 18.97959184, 19.3877551 , 19.79591837,\n",
       "       20.20408163, 20.6122449 , 21.02040816, 21.42857143, 21.83673469,\n",
       "       22.24489796, 22.65306122, 23.06122449, 23.46938776, 23.87755102,\n",
       "       24.28571429, 24.69387755, 25.10204082, 25.51020408, 25.91836735,\n",
       "       26.32653061, 26.73469388, 27.14285714, 27.55102041, 27.95918367,\n",
       "       28.36734694, 28.7755102 , 29.18367347, 29.59183673, 30.        ])"
      ]
     },
     "execution_count": 5,
     "metadata": {},
     "output_type": "execute_result"
    }
   ],
   "source": [
    "x=np.linspace(10,30,50)\n",
    "x"
   ]
  },
  {
   "cell_type": "code",
   "execution_count": 6,
   "id": "38dbd899",
   "metadata": {},
   "outputs": [
    {
     "data": {
      "text/plain": [
       "[<matplotlib.lines.Line2D at 0x1f1dc4052e0>]"
      ]
     },
     "execution_count": 6,
     "metadata": {},
     "output_type": "execute_result"
    },
    {
     "data": {
      "image/png": "[encoded data removed]",
      "text/plain": [
       "<Figure size 432x288 with 1 Axes>"
      ]
     },
     "metadata": {
      "needs_background": "light"
     },
     "output_type": "display_data"
    }
   ],
   "source": [
    "plt.plot(x)"
   ]
  },
  {
   "cell_type": "code",
   "execution_count": 12,
   "id": "e3df68c2",
   "metadata": {},
   "outputs": [
    {
     "data": {
      "text/plain": [
       "[<matplotlib.lines.Line2D at 0x1f1dba87250>]"
      ]
     },
     "execution_count": 12,
     "metadata": {},
     "output_type": "execute_result"
    },
    {
     "data": {
      "image/png": "[encoded data removed]",
      "text/plain": [
       "<Figure size 432x288 with 1 Axes>"
      ]
     },
     "metadata": {
      "needs_background": "light"
     },
     "output_type": "display_data"
    }
   ],
   "source": [
    "#plt.plot(np.sin(x)) # takes two parametes x and y \n",
    "plt.plot(x,np.sin(x)) #here x= X array and y=sin(x)\n",
    "plt.plot(x,np.sin(x-1))\n",
    "plt.plot(x,np.sin(x-2))\n",
    "plt.plot(x,np.sin(x-3))"
   ]
  },
  {
   "cell_type": "markdown",
   "id": "0120fa15",
   "metadata": {},
   "source": [
    "### Bar chart\n",
    "* with pyplot, we can use bar() to draw bar graphs \n",
    "* The bar() takes arguments that describes the layout of bars\n",
    "* The categories and their values represented by first and second arguments as array\n",
    "* plt.bar()"
   ]
  },
  {
   "cell_type": "code",
   "execution_count": 17,
   "id": "263ecf97",
   "metadata": {},
   "outputs": [
    {
     "data": {
      "text/plain": [
       "Text(0, 0.5, 'Prices')"
      ]
     },
     "execution_count": 17,
     "metadata": {},
     "output_type": "execute_result"
    },
    {
     "data": {
      "image/png": "[encoded data removed]",
      "text/plain": [
       "<Figure size 432x288 with 1 Axes>"
      ]
     },
     "metadata": {
      "needs_background": "light"
     },
     "output_type": "display_data"
    }
   ],
   "source": [
    "year=['2021 Dec','2020 Jan','2022 Mar','2023 May']\n",
    "GlodPrice=[3500,3000,4000,3800]\n",
    "plt.bar(year,GlodPrice,color='r')\n",
    "plt.xlabel(\"year\")\n",
    "plt.ylabel(\"Prices\")"
   ]
  },
  {
   "cell_type": "code",
   "execution_count": 25,
   "id": "6bf7d2f6",
   "metadata": {},
   "outputs": [
    {
     "data": {
      "text/plain": [
       "<BarContainer object of 4 artists>"
      ]
     },
     "execution_count": 25,
     "metadata": {},
     "output_type": "execute_result"
    },
    {
     "data": {
      "image/png": "[encoded data removed]",
      "text/plain": [
       "<Figure size 432x288 with 1 Axes>"
      ]
     },
     "metadata": {
      "needs_background": "light"
     },
     "output_type": "display_data"
    }
   ],
   "source": [
    "year=['2021 Dec','2020 Jan','2022 Mar','2023 May']\n",
    "Gold=[3500,3000,4500,5000]\n",
    "silver=[1000,800,1200,750]\n",
    "plt.bar(year,Gold,width=0.33,alpha=0.7)\n",
    "plt.bar(year,silver,width=0.45,alpha=0.7)"
   ]
  },
  {
   "cell_type": "code",
   "execution_count": 49,
   "id": "2af9fe27",
   "metadata": {},
   "outputs": [
    {
     "data": {
      "text/plain": [
       "<BarContainer object of 5 artists>"
      ]
     },
     "execution_count": 49,
     "metadata": {},
     "output_type": "execute_result"
    },
    {
     "data": {
      "image/png": "[encoded data removed]",
      "text/plain": [
       "<Figure size 432x288 with 1 Axes>"
      ]
     },
     "metadata": {
      "needs_background": "light"
     },
     "output_type": "display_data"
    }
   ],
   "source": [
    "x=np.array([1,2,3,4,5])\n",
    "y=np.arange(5)\n",
    "plt.bar(x+2,y,edgecolor='y')"
   ]
  },
  {
   "cell_type": "code",
   "execution_count": 61,
   "id": "dd7ba7a0",
   "metadata": {},
   "outputs": [
    {
     "data": {
      "text/plain": [
       "<BarContainer object of 5 artists>"
      ]
     },
     "execution_count": 61,
     "metadata": {},
     "output_type": "execute_result"
    },
    {
     "data": {
      "image/png": "[encoded data removed]",
      "text/plain": [
       "<Figure size 432x288 with 1 Axes>"
      ]
     },
     "metadata": {
      "needs_background": "light"
     },
     "output_type": "display_data"
    }
   ],
   "source": [
    "# l=['lightgreen','blue','yellow','red','orange']\n",
    "l=['g','b','r','c','yellow']\n",
    "plt.barh(x,[89,98,92,34,45],color=l)"
   ]
  },
  {
   "cell_type": "markdown",
   "id": "46a6850d",
   "metadata": {},
   "source": [
    "### Scatter Plot\n",
    "\n",
    "* scatter plot is a diagram where each value in data set representing dots \n",
    "* the purpose of scatter plot is to display what happens to one variable when another variable changed (Relationship between two quantitaive variables)\n",
    "* plt.scatter()\n"
   ]
  },
  {
   "cell_type": "code",
   "execution_count": 62,
   "id": "1ddc62c6",
   "metadata": {},
   "outputs": [
    {
     "data": {
      "text/plain": [
       "<matplotlib.collections.PathCollection at 0x1f1e42f8850>"
      ]
     },
     "execution_count": 62,
     "metadata": {},
     "output_type": "execute_result"
    },
    {
     "data": {
      "image/png": "[encoded data removed]",
      "text/plain": [
       "<Figure size 432x288 with 1 Axes>"
      ]
     },
     "metadata": {
      "needs_background": "light"
     },
     "output_type": "display_data"
    }
   ],
   "source": [
    "l1=[1,4]\n",
    "l2=[2,6]\n",
    "plt.scatter(l1,l2)"
   ]
  },
  {
   "cell_type": "code",
   "execution_count": 63,
   "id": "b2cefafd",
   "metadata": {},
   "outputs": [
    {
     "data": {
      "text/plain": [
       "[<matplotlib.lines.Line2D at 0x1f1e437c880>]"
      ]
     },
     "execution_count": 63,
     "metadata": {},
     "output_type": "execute_result"
    },
    {
     "data": {
      "image/png": "[encoded data removed]",
      "text/plain": [
       "<Figure size 432x288 with 1 Axes>"
      ]
     },
     "metadata": {
      "needs_background": "light"
     },
     "output_type": "display_data"
    }
   ],
   "source": [
    "plt.plot(l1,l2)"
   ]
  },
  {
   "cell_type": "code",
   "execution_count": 67,
   "id": "c831f594",
   "metadata": {},
   "outputs": [
    {
     "data": {
      "text/plain": [
       "<matplotlib.collections.PathCollection at 0x1f1e44547f0>"
      ]
     },
     "execution_count": 67,
     "metadata": {},
     "output_type": "execute_result"
    },
    {
     "data": {
      "image/png": "[encoded data removed]",
      "text/plain": [
       "<Figure size 432x288 with 1 Axes>"
      ]
     },
     "metadata": {
      "needs_background": "light"
     },
     "output_type": "display_data"
    }
   ],
   "source": [
    "x=np.random.randint(100,1000,100)\n",
    "y=np.random.randint(500,1500,100)\n",
    "plt.scatter(x,y)"
   ]
  },
  {
   "cell_type": "markdown",
   "id": "6497a4c5",
   "metadata": {},
   "source": [
    "### Box Plot\n",
    "\n",
    "* It gives a summary of numerical data through quartiles\n",
    "* min\n",
    "* Inter quartile range(25%)\n",
    "* Median (50%)\n",
    "* Upper quartile (75%)\n",
    "* plt.boxplot()\n"
   ]
  },
  {
   "cell_type": "code",
   "execution_count": 71,
   "id": "6bb173e5",
   "metadata": {
    "collapsed": true
   },
   "outputs": [
    {
     "data": {
      "text/plain": [
       "array([4411, 7721, 3784, 7447, 3455,    2, 6805,  936, 2665, 6990, 4790,\n",
       "       1780,  392,  738, 4957, 3959, 6451, 6407, 9016, 1639, 9886, 3171,\n",
       "       1054, 9807, 8754,  996, 5816, 2926, 3486, 1142, 8818,  994, 3119,\n",
       "       4447, 7469, 9262, 4119,  105, 1142,   23,  827, 3666, 5472, 2631,\n",
       "       5784, 2759, 3873, 8636, 8521, 2754,   59, 9573,  338, 7553, 4631,\n",
       "       2394, 5241, 5274, 6589,   59, 3351, 7124, 5195, 6128, 7857, 1343,\n",
       "       7741, 2778, 7445, 2564,  673,  450, 1916,  470, 9711, 6362, 1119,\n",
       "        921, 3655, 5331, 7046, 1280, 5133, 9056, 3256, 1150, 5883,  924,\n",
       "       6265, 7460, 8997, 8608, 3156, 2801, 2602, 4422, 5547, 3761, 8798,\n",
       "       2823, 2205, 1238, 4470, 9217, 3884, 1869, 6669, 5364, 4750, 4193,\n",
       "        532, 2787, 6168, 8004, 1314, 8783, 3738, 3993,  290,  899,  389,\n",
       "       8575, 3861, 9187, 1585, 3018, 7333, 7255, 8309, 3827,   40, 8960,\n",
       "       2384, 7803,    5, 3186, 7772, 6486, 3295, 5568, 5130, 6073, 3985,\n",
       "        680, 2245, 3122, 6882, 7147, 6842, 9401, 4548,  419, 9229, 4347,\n",
       "       5844, 2908,   18, 1703, 9715, 3100, 9828, 4019, 2479, 7680, 1675,\n",
       "       8311, 6583,  192, 5435,  672, 1902, 3419, 5005, 6022, 2678, 6541,\n",
       "       4923, 1713,  604, 4242,  582, 8297, 8841,  569, 8704, 9601, 8365,\n",
       "        263, 5099, 7155, 1938,  571, 5123, 4454, 7797, 2035,  813, 7238,\n",
       "       6402, 8835, 2163, 4187, 1709, 7125, 7412,  635, 2869, 2488, 9989,\n",
       "       3852, 4309, 5720, 1060, 4139, 4755, 9658, 7039, 5913, 6693, 3785,\n",
       "       4515, 8798, 6994, 9497, 3754, 9218, 8690, 8545, 7495, 5167, 8925,\n",
       "       1165, 5070, 8251, 5735, 8393, 8223, 6658, 2659, 8309, 7595, 9724,\n",
       "        705, 1822, 4410, 8918, 7977, 1312, 3537, 4695, 8206,  240, 3891,\n",
       "       4274, 5489, 7954, 7012, 8301, 2711, 9175,    2, 1011, 8112, 4281,\n",
       "       3453, 6241, 3805, 4137, 7734, 3149,  583,  556, 6904, 1852, 8290,\n",
       "       4433, 9830, 5201, 8489, 2608, 2764, 7909,  990, 7594, 6905, 4606,\n",
       "         55, 4168, 1516, 7430, 9506, 9420, 1143, 5662, 1435, 6095,  648,\n",
       "       6142,  740, 7235, 8931,  179, 7508, 2627, 8630, 5552, 1404, 5064,\n",
       "       2245, 3887, 1834, 6041, 9850, 8886, 3523, 8017, 2158, 6155,  725,\n",
       "       7254, 5884, 9326, 5874, 7963, 7239, 9064, 8756, 4628, 1792, 5144,\n",
       "       1833, 1494, 4089,  918, 6170, 5440, 2776, 3577, 2516, 8361, 7005,\n",
       "       4898, 6777, 3466, 5753, 6698, 6246, 8016, 7752, 7444, 6885, 6841,\n",
       "       2141, 6897, 8959, 5568, 2486, 9478, 2183, 7560, 7432,   89, 7676,\n",
       "       9790, 7014,  138, 9721, 1101, 9838, 1109, 4864, 3078, 4617,  238,\n",
       "       8221, 9312,  527, 7775, 3570,  960, 1994, 9214, 1199, 9660, 1163,\n",
       "       9393, 2205, 7270, 4757, 7797, 8960, 1952, 4610, 7262, 9711, 3465,\n",
       "       7332, 9903, 6688, 4050,  613, 8977, 8897, 1992, 8258, 2455, 2529,\n",
       "       1439, 2247, 3443,  587, 7642, 5821, 4913, 2175, 4793, 9893, 7340,\n",
       "       7418, 9858, 3950, 7118, 6132, 5150,   59, 1125, 7538, 6063, 6901,\n",
       "       4989, 5315, 2102, 8864, 8906, 7142, 1473, 4346, 4926, 7716, 3777,\n",
       "       6009, 9427, 1440, 6068, 3156, 5018, 2037, 9213, 4030, 3419, 5930,\n",
       "       2070, 9855, 6671, 9433, 8615, 3563, 8641, 2674, 1935, 3601, 1124,\n",
       "       6017, 1908, 5757, 6456, 9444,  723, 6880,  442, 8104, 5249, 5196,\n",
       "       4254, 6859, 8075, 6012, 9387, 2110, 1369, 4496,  890, 3584, 6188,\n",
       "       4918, 1366, 8318, 4599, 1891, 1904, 1811, 1080,  510, 9766, 6529,\n",
       "       6152, 8386, 4096, 5727, 5264, 8431, 4381, 4291, 9039, 1440, 3335,\n",
       "       1816, 4419, 5345, 9417, 5998, 6056, 2693, 5264, 8209, 4585, 4830,\n",
       "       6855,  308, 1118, 3174, 6294, 4586, 7029, 3354, 8026, 9258, 5792,\n",
       "       6837, 3370, 9713, 2733, 1777, 9306, 3297,  732, 3502, 1090, 2390,\n",
       "       1055, 2274, 6465, 2382, 7501, 2322, 8310,  517, 7770, 6021, 2893,\n",
       "       4230, 6914, 6551, 3908, 1510, 7529, 5620, 9605, 8599, 3393, 9567,\n",
       "       6875, 7920, 1232, 6600, 3477, 4564, 7286, 3781, 8752,   13,  541,\n",
       "       4627, 1933, 1123, 7590, 5871, 9707, 4673, 1948, 4792, 1840, 4291,\n",
       "       7529, 4246,   70,  195, 8389, 5526,  793, 4033, 4154, 2239, 5051,\n",
       "       2410, 5571, 6361, 5677, 3972, 2747, 2772, 6312, 5251, 9452, 2670,\n",
       "       4489, 9729, 2217, 9002, 7801, 1583, 9384, 7818, 1040, 5036, 1768,\n",
       "       2407, 3133,  476, 4242, 9496,  810, 1576, 1539, 1170, 7332, 5467,\n",
       "       7901, 7694, 3768, 5464, 6147, 4679, 9075, 3277, 9295, 4736, 6566,\n",
       "       3827, 2345,  306, 7460, 1538, 4444,  825, 3454, 7047, 6112, 9197,\n",
       "       4351, 2702, 2198, 4369, 2020, 5252, 4300,  324, 7894, 9949, 5149,\n",
       "       8323,  468, 5936, 7565, 8449, 2500, 9630, 5908, 6164, 8417, 5664,\n",
       "       7140, 5174, 6497, 1361, 6156, 5974, 7394, 5261, 6099, 9053, 2071,\n",
       "       9439, 2312, 6644, 9829, 1692, 3984, 8363, 8203, 4528, 4949, 7356,\n",
       "       3801,  976, 6607, 5158, 3452, 5667, 1692, 4515, 8541, 6848, 1743,\n",
       "       3792,   52, 9840, 2824, 4652, 3448, 4155, 3429, 2882, 3588, 4626,\n",
       "       8127, 9800, 6119, 2989, 6100, 1180, 6374, 7014,  994, 7396, 9408,\n",
       "       8972, 8287, 1599, 1409, 5768, 4843, 5428, 4555, 2238, 2290, 4456,\n",
       "       1929, 3878, 9728, 6329, 4223, 2857, 5053, 1404, 9459, 1545, 4412,\n",
       "       6279, 6264, 9222, 4356,  610, 3804, 7788, 7882,  268, 9026, 7345,\n",
       "        322, 7851,  674, 4146, 1339, 3173, 9123, 8287, 4631, 1206, 9076,\n",
       "       6826, 7034, 2470, 5980, 2871, 6464, 2172,  561, 4402, 5947, 5801,\n",
       "       8044, 5896, 3426, 9016, 7576,  781, 8608, 2726, 8657, 3099, 2469,\n",
       "       8998, 2495, 5356,  392, 4914, 2328, 4392, 1292, 9983, 3044, 9232,\n",
       "       5052, 2172,  647, 5961, 7841,  273, 5902, 8305, 5672, 9188, 9942,\n",
       "       9575, 8048, 9462, 8016, 6600, 7163, 1687, 8474, 1205, 2799, 5026,\n",
       "       1715, 5554, 5391, 4423, 3849, 9447, 1874, 2569, 7163, 7833, 3592,\n",
       "       6561, 3897, 2186, 9314, 9375, 1921, 3968, 8880, 3445, 8997, 9825,\n",
       "       6561, 7455, 2661, 3428, 6399, 1813, 7434, 5744, 3673, 6700, 7702,\n",
       "       6458, 8630, 5601, 1169, 6094, 5527, 4134, 5367, 2760,  751, 4599,\n",
       "       4405,  278, 7876, 1418,  137,  858, 2692, 9389, 8636, 9803, 8768,\n",
       "       1460, 3101, 6635, 8572, 3081, 4922, 6498, 5967, 1366, 6478, 8416,\n",
       "       2249, 4512, 6501, 5984, 4283, 4287, 7863, 2000, 9517, 6340,  779,\n",
       "       4237, 9096, 3201, 9571, 8627, 3106, 3947, 2256, 8920, 6392, 6896,\n",
       "       1422, 5010, 6932, 7384, 9810, 3513, 9591, 9632, 2909, 9362,   72,\n",
       "       3354, 3158, 1378, 4377, 4583, 6021, 3229, 9839, 3194,  820, 9290,\n",
       "       9787, 5703, 5423, 3070, 6920, 9383, 1467, 1024, 4879, 5286, 6867,\n",
       "        541, 3696, 9535, 8456, 5772,  979, 6926, 9881,  686, 6644, 8122,\n",
       "       9096, 6655, 9736, 2402, 3418, 8213,   48, 4512, 6549, 7271, 5159,\n",
       "       4720, 4692,  125, 8088, 3247, 7208, 9614, 4567, 2136, 7341, 5001,\n",
       "       8799, 6234, 5712, 6458, 5794,  522, 6851, 2728, 3474, 8080, 7551,\n",
       "       6867, 6188, 4200, 2853, 4745, 1931, 4716, 8281, 9317, 3174])"
      ]
     },
     "execution_count": 71,
     "metadata": {},
     "output_type": "execute_result"
    }
   ],
   "source": [
    "x=np.random.randint(0,10000,1000)\n",
    "x"
   ]
  },
  {
   "cell_type": "code",
   "execution_count": 72,
   "id": "8445bc05",
   "metadata": {},
   "outputs": [
    {
     "data": {
      "text/plain": [
       "{'whiskers': [<matplotlib.lines.Line2D at 0x1f1e44c3640>,\n",
       "  <matplotlib.lines.Line2D at 0x1f1e44c3910>],\n",
       " 'caps': [<matplotlib.lines.Line2D at 0x1f1e44c3be0>,\n",
       "  <matplotlib.lines.Line2D at 0x1f1e44c3eb0>],\n",
       " 'boxes': [<matplotlib.lines.Line2D at 0x1f1e44c34c0>],\n",
       " 'medians': [<matplotlib.lines.Line2D at 0x1f1e44d31c0>],\n",
       " 'fliers': [<matplotlib.lines.Line2D at 0x1f1e44d3490>],\n",
       " 'means': []}"
      ]
     },
     "execution_count": 72,
     "metadata": {},
     "output_type": "execute_result"
    },
    {
     "data": {
      "image/png": "[encoded data removed]",
      "text/plain": [
       "<Figure size 432x288 with 1 Axes>"
      ]
     },
     "metadata": {
      "needs_background": "light"
     },
     "output_type": "display_data"
    }
   ],
   "source": [
    "plt.boxplot(x)"
   ]
  },
  {
   "cell_type": "code",
   "execution_count": 73,
   "id": "7232065c",
   "metadata": {},
   "outputs": [
    {
     "data": {
      "text/plain": [
       "{'whiskers': [<matplotlib.lines.Line2D at 0x1f1e451afa0>,\n",
       "  <matplotlib.lines.Line2D at 0x1f1e45292b0>],\n",
       " 'caps': [<matplotlib.lines.Line2D at 0x1f1e4529580>,\n",
       "  <matplotlib.lines.Line2D at 0x1f1e4529850>],\n",
       " 'boxes': [<matplotlib.lines.Line2D at 0x1f1e451adf0>],\n",
       " 'medians': [<matplotlib.lines.Line2D at 0x1f1e4529b20>],\n",
       " 'fliers': [<matplotlib.lines.Line2D at 0x1f1e4529df0>],\n",
       " 'means': []}"
      ]
     },
     "execution_count": 73,
     "metadata": {},
     "output_type": "execute_result"
    },
    {
     "data": {
      "image/png": "[encoded data removed]",
      "text/plain": [
       "<Figure size 432x288 with 1 Axes>"
      ]
     },
     "metadata": {
      "needs_background": "light"
     },
     "output_type": "display_data"
    }
   ],
   "source": [
    "plt.boxplot(x,notch=True)"
   ]
  },
  {
   "cell_type": "code",
   "execution_count": 79,
   "id": "9bf26b45",
   "metadata": {},
   "outputs": [
    {
     "data": {
      "text/plain": [
       "{'whiskers': [<matplotlib.lines.Line2D at 0x1f1e4743cd0>,\n",
       "  <matplotlib.lines.Line2D at 0x1f1e4743fa0>],\n",
       " 'caps': [<matplotlib.lines.Line2D at 0x1f1e474f2b0>,\n",
       "  <matplotlib.lines.Line2D at 0x1f1e474f580>],\n",
       " 'boxes': [<matplotlib.lines.Line2D at 0x1f1e4743a00>],\n",
       " 'medians': [<matplotlib.lines.Line2D at 0x1f1e474f850>],\n",
       " 'fliers': [<matplotlib.lines.Line2D at 0x1f1e474fb20>],\n",
       " 'means': []}"
      ]
     },
     "execution_count": 79,
     "metadata": {},
     "output_type": "execute_result"
    },
    {
     "data": {
      "image/png": "[encoded data removed]",
      "text/plain": [
       "<Figure size 432x288 with 1 Axes>"
      ]
     },
     "metadata": {
      "needs_background": "light"
     },
     "output_type": "display_data"
    }
   ],
   "source": [
    "product1_sales=np.random.randint(0,5000,50)\n",
    "product2_sales=np.random.randint(0,7000,100)\n",
    "product3_sales=np.random.randint(1000,3500,500)\n",
    "\n",
    "plt.boxplot(product1_sales)\n",
    "plt.boxplot(product2_sales)\n",
    "plt.boxplot(product3_sales)"
   ]
  },
  {
   "cell_type": "code",
   "execution_count": 92,
   "id": "c2d99842",
   "metadata": {},
   "outputs": [
    {
     "data": {
      "text/plain": [
       "{'whiskers': [<matplotlib.lines.Line2D at 0x1f1e547acd0>,\n",
       "  <matplotlib.lines.Line2D at 0x1f1e547afa0>,\n",
       "  <matplotlib.lines.Line2D at 0x1f1e5483fd0>,\n",
       "  <matplotlib.lines.Line2D at 0x1f1e548d250>,\n",
       "  <matplotlib.lines.Line2D at 0x1f1e54932b0>,\n",
       "  <matplotlib.lines.Line2D at 0x1f1e5493580>],\n",
       " 'caps': [<matplotlib.lines.Line2D at 0x1f1e54832b0>,\n",
       "  <matplotlib.lines.Line2D at 0x1f1e5483580>,\n",
       "  <matplotlib.lines.Line2D at 0x1f1e548d520>,\n",
       "  <matplotlib.lines.Line2D at 0x1f1e548d7f0>,\n",
       "  <matplotlib.lines.Line2D at 0x1f1e5493850>,\n",
       "  <matplotlib.lines.Line2D at 0x1f1e5493b20>],\n",
       " 'boxes': [<matplotlib.patches.PathPatch at 0x1f1e547a910>,\n",
       "  <matplotlib.patches.PathPatch at 0x1f1e5483be0>,\n",
       "  <matplotlib.patches.PathPatch at 0x1f1e548de20>],\n",
       " 'medians': [<matplotlib.lines.Line2D at 0x1f1e5483850>,\n",
       "  <matplotlib.lines.Line2D at 0x1f1e548da90>,\n",
       "  <matplotlib.lines.Line2D at 0x1f1e5493df0>],\n",
       " 'fliers': [<matplotlib.lines.Line2D at 0x1f1e5483b20>,\n",
       "  <matplotlib.lines.Line2D at 0x1f1e548dd60>,\n",
       "  <matplotlib.lines.Line2D at 0x1f1e549c100>],\n",
       " 'means': []}"
      ]
     },
     "execution_count": 92,
     "metadata": {},
     "output_type": "execute_result"
    },
    {
     "data": {
      "image/png": "[encoded data removed]",
      "text/plain": [
       "<Figure size 432x288 with 1 Axes>"
      ]
     },
     "metadata": {
      "needs_background": "light"
     },
     "output_type": "display_data"
    }
   ],
   "source": [
    "l1=[product1_sales,product2_sales,product3_sales]\n",
    "l=[\"maggi\",'yipee','soupy']\n",
    "plt.boxplot(l1,labels=l,vert=False,patch_artist=True,boxprops=dict(facecolor='pink',color='yellow'))"
   ]
  },
  {
   "cell_type": "code",
   "execution_count": 86,
   "id": "38942179",
   "metadata": {},
   "outputs": [
    {
     "name": "stdout",
     "output_type": "stream",
     "text": [
      "Help on function boxplot in module matplotlib.pyplot:\n",
      "\n",
      "boxplot(x, notch=None, sym=None, vert=None, whis=None, positions=None, widths=None, patch_artist=None, bootstrap=None, usermedians=None, conf_intervals=None, meanline=None, showmeans=None, showcaps=None, showbox=None, showfliers=None, boxprops=None, labels=None, flierprops=None, medianprops=None, meanprops=None, capprops=None, whiskerprops=None, manage_ticks=True, autorange=False, zorder=None, *, data=None)\n",
      "    Draw a box and whisker plot.\n",
      "    \n",
      "    The box extends from the first quartile (Q1) to the third\n",
      "    quartile (Q3) of the data, with a line at the median.  The\n",
      "    whiskers extend from the box by 1.5x the inter-quartile range\n",
      "    (IQR).  Flier points are those past the end of the whiskers.\n",
      "    See https://en.wikipedia.org/wiki/Box_plot for reference.\n",
      "    \n",
      "    .. code-block:: none\n",
      "    \n",
      "              Q1-1.5IQR   Q1   median  Q3   Q3+1.5IQR\n",
      "                           |-----:-----|\n",
      "           o      |--------|     :     |--------|    o  o\n",
      "                           |-----:-----|\n",
      "         flier             <----------->            fliers\n",
      "                                IQR\n",
      "    \n",
      "    \n",
      "    Parameters\n",
      "    ----------\n",
      "    x : Array or a sequence of vectors.\n",
      "        The input data.  If a 2D array, a boxplot is drawn for each column\n",
      "        in *x*.  If a sequence of 1D arrays, a boxplot is drawn for each\n",
      "        array in *x*.\n",
      "    \n",
      "    notch : bool, default: False\n",
      "        Whether to draw a notched boxplot (`True`), or a rectangular\n",
      "        boxplot (`False`).  The notches represent the confidence interval\n",
      "        (CI) around the median.  The documentation for *bootstrap*\n",
      "        describes how the locations of the notches are computed by\n",
      "        default, but their locations may also be overridden by setting the\n",
      "        *conf_intervals* parameter.\n",
      "    \n",
      "        .. note::\n",
      "    \n",
      "            In cases where the values of the CI are less than the\n",
      "            lower quartile or greater than the upper quartile, the\n",
      "            notches will extend beyond the box, giving it a\n",
      "            distinctive \"flipped\" appearance. This is expected\n",
      "            behavior and consistent with other statistical\n",
      "            visualization packages.\n",
      "    \n",
      "    sym : str, optional\n",
      "        The default symbol for flier points.  An empty string ('') hides\n",
      "        the fliers.  If `None`, then the fliers default to 'b+'.  More\n",
      "        control is provided by the *flierprops* parameter.\n",
      "    \n",
      "    vert : bool, default: True\n",
      "        If `True`, draws vertical boxes.\n",
      "        If `False`, draw horizontal boxes.\n",
      "    \n",
      "    whis : float or (float, float), default: 1.5\n",
      "        The position of the whiskers.\n",
      "    \n",
      "        If a float, the lower whisker is at the lowest datum above\n",
      "        ``Q1 - whis*(Q3-Q1)``, and the upper whisker at the highest datum\n",
      "        below ``Q3 + whis*(Q3-Q1)``, where Q1 and Q3 are the first and\n",
      "        third quartiles.  The default value of ``whis = 1.5`` corresponds\n",
      "        to Tukey's original definition of boxplots.\n",
      "    \n",
      "        If a pair of floats, they indicate the percentiles at which to\n",
      "        draw the whiskers (e.g., (5, 95)).  In particular, setting this to\n",
      "        (0, 100) results in whiskers covering the whole range of the data.\n",
      "    \n",
      "        In the edge case where ``Q1 == Q3``, *whis* is automatically set\n",
      "        to (0, 100) (cover the whole range of the data) if *autorange* is\n",
      "        True.\n",
      "    \n",
      "        Beyond the whiskers, data are considered outliers and are plotted\n",
      "        as individual points.\n",
      "    \n",
      "    bootstrap : int, optional\n",
      "        Specifies whether to bootstrap the confidence intervals\n",
      "        around the median for notched boxplots. If *bootstrap* is\n",
      "        None, no bootstrapping is performed, and notches are\n",
      "        calculated using a Gaussian-based asymptotic approximation\n",
      "        (see McGill, R., Tukey, J.W., and Larsen, W.A., 1978, and\n",
      "        Kendall and Stuart, 1967). Otherwise, bootstrap specifies\n",
      "        the number of times to bootstrap the median to determine its\n",
      "        95% confidence intervals. Values between 1000 and 10000 are\n",
      "        recommended.\n",
      "    \n",
      "    usermedians : 1D array-like, optional\n",
      "        A 1D array-like of length ``len(x)``.  Each entry that is not\n",
      "        `None` forces the value of the median for the corresponding\n",
      "        dataset.  For entries that are `None`, the medians are computed\n",
      "        by Matplotlib as normal.\n",
      "    \n",
      "    conf_intervals : array-like, optional\n",
      "        A 2D array-like of shape ``(len(x), 2)``.  Each entry that is not\n",
      "        None forces the location of the corresponding notch (which is\n",
      "        only drawn if *notch* is `True`).  For entries that are `None`,\n",
      "        the notches are computed by the method specified by the other\n",
      "        parameters (e.g., *bootstrap*).\n",
      "    \n",
      "    positions : array-like, optional\n",
      "        The positions of the boxes. The ticks and limits are\n",
      "        automatically set to match the positions. Defaults to\n",
      "        ``range(1, N+1)`` where N is the number of boxes to be drawn.\n",
      "    \n",
      "    widths : float or array-like\n",
      "        The widths of the boxes.  The default is 0.5, or ``0.15*(distance\n",
      "        between extreme positions)``, if that is smaller.\n",
      "    \n",
      "    patch_artist : bool, default: False\n",
      "        If `False` produces boxes with the Line2D artist. Otherwise,\n",
      "        boxes are drawn with Patch artists.\n",
      "    \n",
      "    labels : sequence, optional\n",
      "        Labels for each dataset (one per dataset).\n",
      "    \n",
      "    manage_ticks : bool, default: True\n",
      "        If True, the tick locations and labels will be adjusted to match\n",
      "        the boxplot positions.\n",
      "    \n",
      "    autorange : bool, default: False\n",
      "        When `True` and the data are distributed such that the 25th and\n",
      "        75th percentiles are equal, *whis* is set to (0, 100) such\n",
      "        that the whisker ends are at the minimum and maximum of the data.\n",
      "    \n",
      "    meanline : bool, default: False\n",
      "        If `True` (and *showmeans* is `True`), will try to render the\n",
      "        mean as a line spanning the full width of the box according to\n",
      "        *meanprops* (see below).  Not recommended if *shownotches* is also\n",
      "        True.  Otherwise, means will be shown as points.\n",
      "    \n",
      "    zorder : float, default: ``Line2D.zorder = 2``\n",
      "        The zorder of the boxplot.\n",
      "    \n",
      "    Returns\n",
      "    -------\n",
      "    dict\n",
      "      A dictionary mapping each component of the boxplot to a list\n",
      "      of the `.Line2D` instances created. That dictionary has the\n",
      "      following keys (assuming vertical boxplots):\n",
      "    \n",
      "      - ``boxes``: the main body of the boxplot showing the\n",
      "        quartiles and the median's confidence intervals if\n",
      "        enabled.\n",
      "    \n",
      "      - ``medians``: horizontal lines at the median of each box.\n",
      "    \n",
      "      - ``whiskers``: the vertical lines extending to the most\n",
      "        extreme, non-outlier data points.\n",
      "    \n",
      "      - ``caps``: the horizontal lines at the ends of the\n",
      "        whiskers.\n",
      "    \n",
      "      - ``fliers``: points representing data that extend beyond\n",
      "        the whiskers (fliers).\n",
      "    \n",
      "      - ``means``: points or lines representing the means.\n",
      "    \n",
      "    Other Parameters\n",
      "    ----------------\n",
      "    showcaps : bool, default: True\n",
      "        Show the caps on the ends of whiskers.\n",
      "    showbox : bool, default: True\n",
      "        Show the central box.\n",
      "    showfliers : bool, default: True\n",
      "        Show the outliers beyond the caps.\n",
      "    showmeans : bool, default: False\n",
      "        Show the arithmetic means.\n",
      "    capprops : dict, default: None\n",
      "        The style of the caps.\n",
      "    boxprops : dict, default: None\n",
      "        The style of the box.\n",
      "    whiskerprops : dict, default: None\n",
      "        The style of the whiskers.\n",
      "    flierprops : dict, default: None\n",
      "        The style of the fliers.\n",
      "    medianprops : dict, default: None\n",
      "        The style of the median.\n",
      "    meanprops : dict, default: None\n",
      "        The style of the mean.\n",
      "    data : indexable object, optional\n",
      "        If given, all parameters also accept a string ``s``, which is\n",
      "        interpreted as ``data[s]`` (unless this raises an exception).\n",
      "    \n",
      "    See Also\n",
      "    --------\n",
      "    violinplot : Draw an estimate of the probability density function.\n",
      "\n"
     ]
    }
   ],
   "source": [
    "help(plt.boxplot)"
   ]
  },
  {
   "cell_type": "markdown",
   "id": "9f49386b",
   "metadata": {},
   "source": [
    "### Histogram\n",
    "* A histogram is a graph showing frequency distribution \n",
    "* It is showing the number of oberservations within each given interval\n",
    "* Frequency distribution of numerical data\n",
    "* plt.hist()"
   ]
  },
  {
   "cell_type": "code",
   "execution_count": 115,
   "id": "b5bafb7e",
   "metadata": {},
   "outputs": [
    {
     "data": {
      "text/plain": [
       "(array([4., 1., 0., 0., 0., 1., 0., 0., 0., 1.]),\n",
       " array([ 3. ,  9.1, 15.2, 21.3, 27.4, 33.5, 39.6, 45.7, 51.8, 57.9, 64. ]),\n",
       " <BarContainer object of 10 artists>)"
      ]
     },
     "execution_count": 115,
     "metadata": {},
     "output_type": "execute_result"
    },
    {
     "data": {
      "image/png": "[encoded data removed]",
      "text/plain": [
       "<Figure size 432x288 with 1 Axes>"
      ]
     },
     "metadata": {
      "needs_background": "light"
     },
     "output_type": "display_data"
    }
   ],
   "source": [
    "#bar needs both x,y - can be itself\n",
    "bins=4\n",
    "plt.hist([10,5,4.5,6,3,35,64],rwidth=5)\n",
    "#rwidth= relative width"
   ]
  },
  {
   "cell_type": "markdown",
   "id": "d263f046",
   "metadata": {},
   "source": [
    "#### Pie Chart\n",
    "* plt.pie()"
   ]
  },
  {
   "cell_type": "code",
   "execution_count": 129,
   "id": "bdfb7c4b",
   "metadata": {},
   "outputs": [
    {
     "data": {
      "image/png": "[encoded data removed]",
      "text/plain": [
       "<Figure size 432x288 with 1 Axes>"
      ]
     },
     "metadata": {},
     "output_type": "display_data"
    }
   ],
   "source": [
    "games=['chess','ludo','football','hockey']\n",
    "scores=[87,56,23,90]\n",
    "plt.pie(scores,labels=games,autopct=\"%1.2f%%\",explode=[0.2,0,0,0],shadow=True)\n",
    "plt.savefig(\"pie.png\")"
   ]
  },
  {
   "cell_type": "markdown",
   "id": "c7529022",
   "metadata": {},
   "source": [
    "### Area plot or stack plot\n",
    "* plt.stackplot()\n",
    "* stackplot is used to draw a stacked area plot\n",
    "* it displays the complete data for visualization\n",
    "* it shows each part is stacked onto one another and how each part makes the complete figure \n"
   ]
  },
  {
   "cell_type": "code",
   "execution_count": 144,
   "id": "67c84bcd",
   "metadata": {},
   "outputs": [
    {
     "data": {
      "text/plain": [
       "<matplotlib.legend.Legend at 0x1f1e99962e0>"
      ]
     },
     "execution_count": 144,
     "metadata": {},
     "output_type": "execute_result"
    },
    {
     "data": {
      "image/png": "[encoded data removed]",
      "text/plain": [
       "<Figure size 432x288 with 1 Axes>"
      ]
     },
     "metadata": {
      "needs_background": "light"
     },
     "output_type": "display_data"
    }
   ],
   "source": [
    "days=[1,2,3,4,5]\n",
    "age=[56,34,26,78,45]\n",
    "weights=[9,73,65,98,80]\n",
    "leng=[100,10,35,48,40]\n",
    "plt.stackplot(days,age,weights,leng,labels=['age','weights',\"length\"])\n",
    "plt.legend()"
   ]
  }
 ],
 "metadata": {
  "kernelspec": {
   "display_name": "Python 3 (ipykernel)",
   "language": "python",
   "name": "python3"
  },
  "language_info": {
   "codemirror_mode": {
    "name": "ipython",
    "version": 3
   },
   "file_extension": ".py",
   "mimetype": "text/x-python",
   "name": "python",
   "nbconvert_exporter": "python",
   "pygments_lexer": "ipython3",
   "version": "3.9.12"
  }
 },
 "nbformat": 4,
 "nbformat_minor": 5
}
