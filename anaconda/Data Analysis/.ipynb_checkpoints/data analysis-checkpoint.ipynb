{
 "cells": [
  {
   "cell_type": "markdown",
   "id": "a0c79888",
   "metadata": {},
   "source": [
    "x=-1\n",
    "if x>=0:\n",
    "    if x>0:\n",
    "        print(\"positive\")\n",
    "    else:\n",
    "        print(\"zero\")\n",
    "else:\n",
    "    print(\"negative\")"
   ]
  },
  {
   "cell_type": "code",
   "execution_count": null,
   "id": "11a25003",
   "metadata": {},
   "outputs": [],
   "source": []
  },
  {
   "cell_type": "markdown",
   "id": "335918c0",
   "metadata": {},
   "source": [
    "<!-- <h2> this is a heading <h2> -->\n",
    "   > this is good "
   ]
  },
  {
   "cell_type": "code",
   "execution_count": 1,
   "id": "08bc133a",
   "metadata": {},
   "outputs": [
    {
     "name": "stdout",
     "output_type": "stream",
     "text": [
      "3\n",
      "6\n"
     ]
    }
   ],
   "source": [
    "n=int(input())\n",
    "i=0\n",
    "sum=0\n",
    "while i<=n:\n",
    "    sum+=(i)\n",
    "    i+=1\n",
    "print(sum)"
   ]
  },
  {
   "cell_type": "code",
   "execution_count": 2,
   "id": "b191673d",
   "metadata": {},
   "outputs": [
    {
     "name": "stdout",
     "output_type": "stream",
     "text": [
      "11\n",
      "22\n",
      "33\n",
      "44\n",
      "55\n",
      "66\n",
      "77\n",
      "88\n",
      "99\n",
      "110\n"
     ]
    }
   ],
   "source": [
    "i=11\n",
    "sum=0\n",
    "while sum<101:\n",
    "    sum+=i\n",
    "    print(sum)"
   ]
  },
  {
   "cell_type": "code",
   "execution_count": 4,
   "id": "7b7ec3c0",
   "metadata": {
    "scrolled": true
   },
   "outputs": [
    {
     "name": "stdout",
     "output_type": "stream",
     "text": [
      "1 5\n",
      "6\n",
      "7\n",
      "2 3 "
     ]
    }
   ],
   "source": [
    "i=1\n",
    "k=5\n",
    "while i<4:\n",
    "    print(i,end=\" \")\n",
    "    while k<8:\n",
    "        print(k)\n",
    "        k+=1\n",
    "    i+=1"
   ]
  },
  {
   "cell_type": "code",
   "execution_count": 8,
   "id": "75685375",
   "metadata": {},
   "outputs": [
    {
     "name": "stdout",
     "output_type": "stream",
     "text": [
      "in while\n",
      "in while\n",
      "in while\n",
      "in while\n",
      "in while\n",
      "out\n"
     ]
    }
   ],
   "source": [
    "i=2\n",
    "while i!=7:\n",
    "    print(\"in while\")\n",
    "    i+=1\n",
    "else:\n",
    "    print(\"out\")"
   ]
  },
  {
   "cell_type": "code",
   "execution_count": 12,
   "id": "713cb596",
   "metadata": {},
   "outputs": [
    {
     "name": "stdout",
     "output_type": "stream",
     "text": [
      "1\n",
      "3\n",
      "5\n",
      "7\n",
      "9\n",
      "11\n",
      "13\n",
      "15\n",
      "17\n",
      "19\n",
      "21\n",
      "23\n",
      "25\n",
      "27\n",
      "29\n",
      "31\n",
      "33\n",
      "35\n",
      "37\n",
      "39\n",
      "41\n",
      "43\n",
      "45\n",
      "47\n",
      "49\n",
      "51\n",
      "53\n",
      "55\n",
      "57\n",
      "59\n",
      "61\n",
      "63\n",
      "65\n",
      "67\n",
      "69\n",
      "71\n",
      "73\n",
      "75\n",
      "77\n",
      "79\n",
      "81\n",
      "83\n",
      "85\n",
      "87\n",
      "89\n",
      "91\n",
      "93\n",
      "95\n",
      "97\n",
      "99\n"
     ]
    }
   ],
   "source": [
    "\n",
    "for i in range(101):\n",
    "    if i%2!=0:\n",
    "        print(i)\n",
    "    i+=1"
   ]
  },
  {
   "cell_type": "code",
   "execution_count": 25,
   "id": "6a5501c3",
   "metadata": {},
   "outputs": [
    {
     "name": "stdout",
     "output_type": "stream",
     "text": [
      "2\n",
      "3\n",
      "5\n",
      "7\n",
      "11\n",
      "13\n",
      "17\n",
      "19\n"
     ]
    }
   ],
   "source": [
    "n=20\n",
    "for i in range(2,n+1):\n",
    "    flag=0\n",
    "    k=2\n",
    "    while k<i:\n",
    "        if i%k==0:\n",
    "            flag=1\n",
    "            break\n",
    "        k+=1\n",
    "    if flag!=1:\n",
    "        print(i)\n",
    "            \n",
    "        "
   ]
  },
  {
   "cell_type": "code",
   "execution_count": 37,
   "id": "fc6a314d",
   "metadata": {},
   "outputs": [
    {
     "name": "stdout",
     "output_type": "stream",
     "text": [
      "1\n",
      "2\n",
      "3\n",
      "4\n",
      "6\n",
      "7\n",
      "8\n",
      "9\n",
      "10\n"
     ]
    }
   ],
   "source": [
    "i=1\n",
    "while i<=10:\n",
    "    if i==5:\n",
    "        i+=1\n",
    "        continue\n",
    "    else:\n",
    "        print(i)\n",
    "    i+=1\n",
    "    \n"
   ]
  },
  {
   "cell_type": "code",
   "execution_count": 11,
   "id": "e251b778",
   "metadata": {},
   "outputs": [
    {
     "name": "stdout",
     "output_type": "stream",
     "text": [
      "count of a is 1\n",
      "count of h is 1\n",
      "count of i is 1\n",
      "count of s is 2\n"
     ]
    }
   ],
   "source": [
    "s=\"asish\"\n",
    "a=[0]*26\n",
    "for i in s:\n",
    "    a[ord(i)-ord('a')]+=1\n",
    "    \n",
    "for i in range(26):\n",
    "    if a[i]!=0:\n",
    "        print(f\"count of {chr(i+ord('a'))} is {a[i]}\")"
   ]
  },
  {
   "cell_type": "code",
   "execution_count": 14,
   "id": "561aaefd",
   "metadata": {},
   "outputs": [],
   "source": [
    "import numpy as np"
   ]
  },
  {
   "cell_type": "code",
   "execution_count": 46,
   "id": "d2b86446",
   "metadata": {},
   "outputs": [
    {
     "ename": "AttributeError",
     "evalue": "'numpy.ndarray' object has no attribute 'remove'",
     "output_type": "error",
     "traceback": [
      "\u001b[1;31m---------------------------------------------------------------------------\u001b[0m",
      "\u001b[1;31mAttributeError\u001b[0m                            Traceback (most recent call last)",
      "Input \u001b[1;32mIn [46]\u001b[0m, in \u001b[0;36m<cell line: 2>\u001b[1;34m()\u001b[0m\n\u001b[0;32m      1\u001b[0m a\u001b[38;5;241m=\u001b[39mnp\u001b[38;5;241m.\u001b[39marray([[\u001b[38;5;241m42\u001b[39m],[\u001b[38;5;241m54\u001b[39m]])\n\u001b[1;32m----> 2\u001b[0m \u001b[43ma\u001b[49m\u001b[38;5;241;43m.\u001b[39;49m\u001b[43mremove\u001b[49m(\u001b[38;5;241m42\u001b[39m)\n\u001b[0;32m      3\u001b[0m a\n",
      "\u001b[1;31mAttributeError\u001b[0m: 'numpy.ndarray' object has no attribute 'remove'"
     ]
    }
   ],
   "source": [
    "a=np.array([[42],[54]])\n",
    "\n",
    "a"
   ]
  },
  {
   "cell_type": "code",
   "execution_count": 42,
   "id": "ce479482",
   "metadata": {},
   "outputs": [
    {
     "name": "stdout",
     "output_type": "stream",
     "text": [
      "1\n"
     ]
    },
    {
     "data": {
      "text/plain": [
       "[1, 2, 3, 4, [3, 2]]"
      ]
     },
     "execution_count": 42,
     "metadata": {},
     "output_type": "execute_result"
    }
   ],
   "source": [
    "l=[1,2,3,4,[3,2]]\n",
    "print(l[4].index(2))\n"
   ]
  },
  {
   "cell_type": "code",
   "execution_count": 53,
   "id": "a188d1cf",
   "metadata": {},
   "outputs": [
    {
     "data": {
      "text/plain": [
       "[5, 4, 3, 2, 1]"
      ]
     },
     "execution_count": 53,
     "metadata": {},
     "output_type": "execute_result"
    }
   ],
   "source": [
    "l=[5,4,3,2,1]\n",
    "l.sort(reverse=True)\n",
    "\n",
    "l"
   ]
  },
  {
   "cell_type": "code",
   "execution_count": 55,
   "id": "5ff48c4f",
   "metadata": {},
   "outputs": [
    {
     "name": "stdout",
     "output_type": "stream",
     "text": [
      "[1, 2, 3, 44]\n"
     ]
    }
   ],
   "source": [
    "l=[1,2,3,44]\n",
    "al=l.copy()\n",
    "al.append(6)\n",
    "print(l)"
   ]
  },
  {
   "cell_type": "code",
   "execution_count": 71,
   "id": "3fb20d69",
   "metadata": {},
   "outputs": [
    {
     "name": "stdout",
     "output_type": "stream",
     "text": [
      "0\n",
      "4\n",
      "5\n",
      "6\n",
      "8\n",
      "[1, 2, 3, 4, 9]\n"
     ]
    }
   ],
   "source": [
    "l=[1,1,1,1,2,3,4,4]\n",
    "k=[]\n",
    "i=0\n",
    "while i<len(l):\n",
    "    print(i)\n",
    "    if l.count(l[i])>0:\n",
    "        k.append(l[i])\n",
    "        i=i+l.count(l[i])\n",
    "    \n",
    "print(k)    \n",
    "        "
   ]
  },
  {
   "cell_type": "code",
   "execution_count": 79,
   "id": "c0923cd1",
   "metadata": {},
   "outputs": [
    {
     "ename": "NameError",
     "evalue": "name 'A' is not defined",
     "output_type": "error",
     "traceback": [
      "\u001b[1;31m---------------------------------------------------------------------------\u001b[0m",
      "\u001b[1;31mNameError\u001b[0m                                 Traceback (most recent call last)",
      "Input \u001b[1;32mIn [79]\u001b[0m, in \u001b[0;36m<cell line: 1>\u001b[1;34m()\u001b[0m\n\u001b[1;32m----> 1\u001b[0m \u001b[43mA\u001b[49m\u001b[38;5;241m.\u001b[39msort()\n\u001b[0;32m      2\u001b[0m flag\u001b[38;5;241m=\u001b[39m\u001b[38;5;241m0\u001b[39m\n\u001b[0;32m      3\u001b[0m \u001b[38;5;28;01mfor\u001b[39;00m i \u001b[38;5;129;01min\u001b[39;00m \u001b[38;5;28mrange\u001b[39m(N):\n",
      "\u001b[1;31mNameError\u001b[0m: name 'A' is not defined"
     ]
    }
   ],
   "source": [
    "A.sort()\n",
    "flag=0\n",
    "for i in range(N):\n",
    "    if A[i] not in B:\n",
    "        flag=1\n",
    "        return A[i]\n",
    "        break\n",
    "if flag==0:\n",
    "    return -1\n",
    "        \n",
    "        \n"
   ]
  },
  {
   "cell_type": "code",
   "execution_count": 81,
   "id": "505adae9",
   "metadata": {},
   "outputs": [
    {
     "name": "stdout",
     "output_type": "stream",
     "text": [
      "5\n"
     ]
    }
   ],
   "source": [
    "def good_keys(n):\n",
    "    prime = [True for i in range(n+1)]\n",
    "    p = 2\n",
    "    while (p * p <= n):\n",
    "        if (prime[p] == True):\n",
    "            for i in range(p * p, n+1, p):\n",
    "                prime[i] = False\n",
    "        p += 1\n",
    "    l=[]\n",
    "    for p in range(2, n+1):\n",
    "        if prime[p]:\n",
    "            l.append(p)\n",
    "    size=len(l)\n",
    "    return countTriplets(l,size)\n",
    "def countTriplets(a, size):\n",
    "     \n",
    "    # To store values that are present\n",
    "    s = set()\n",
    "    for i in range(size):\n",
    "        s.add(a[i])\n",
    "     \n",
    "    # stores the count of unique triplets\n",
    "    count = 0\n",
    "     \n",
    "    # traverse for all i, j pairs such that j>i\n",
    "    for i in range(size):\n",
    "        for j in range(i + 1, size, 1):\n",
    "             \n",
    "            # xor of a[i] and a[j]\n",
    "            xr = a[i] ^ a[j]\n",
    "             \n",
    "            # if xr of two numbers is present,\n",
    "            # then increase the count\n",
    "            if (xr in s and xr != a[i] and\n",
    "                            xr != a[j]):\n",
    "                count += 1;\n",
    "         \n",
    "    # returns answer\n",
    "    return int(count / 3)\n",
    "N=int(input())\n",
    "out_=good_keys(N)"
   ]
  },
  {
   "cell_type": "code",
   "execution_count": 82,
   "id": "e0fdf7b2",
   "metadata": {},
   "outputs": [
    {
     "name": "stdout",
     "output_type": "stream",
     "text": [
      "[2, 3, 4, 5]\n"
     ]
    }
   ],
   "source": [
    "l=(5,4,3,2)\n",
    "k=sorted(l)\n",
    "print(k)"
   ]
  },
  {
   "cell_type": "code",
   "execution_count": 87,
   "id": "d4585d24",
   "metadata": {},
   "outputs": [
    {
     "name": "stdout",
     "output_type": "stream",
     "text": [
      "15\n"
     ]
    }
   ],
   "source": [
    "def f(inp):\n",
    "    if(inp==0 or inp==1):\n",
    "        return 1\n",
    "    return f(inp-1)*(2*f(inp-2)+f(inp-1))\n",
    "print(f(3))"
   ]
  },
  {
   "cell_type": "markdown",
   "id": "a59f5bc5",
   "metadata": {},
   "source": [
    "<p title=\"asish\">this is  secret</p>\n"
   ]
  },
  {
   "cell_type": "code",
   "execution_count": 6,
   "id": "50b0f550",
   "metadata": {},
   "outputs": [
    {
     "name": "stdout",
     "output_type": "stream",
     "text": [
      "0\n",
      "2\n"
     ]
    }
   ],
   "source": [
    "t=('asish',2,'asish')\n",
    "for i in range(len(t)):\n",
    "    if t[i]=='asish':\n",
    "        print(i)"
   ]
  },
  {
   "cell_type": "markdown",
   "id": "86bbbe1d",
   "metadata": {},
   "source": [
    "### Set\n",
    "    - set is a collection of different items in a single variable\n",
    "    - unordered\n",
    "    - duplicates not allowed"
   ]
  },
  {
   "cell_type": "code",
   "execution_count": 15,
   "id": "0f4fd57c",
   "metadata": {},
   "outputs": [
    {
     "name": "stdout",
     "output_type": "stream",
     "text": [
      "()\n",
      "2\n"
     ]
    }
   ],
   "source": [
    "t=tuple()\n",
    "print(t)\n",
    "s={1,2,3}\n",
    "t=tuple(s)\n",
    "print(t[1])"
   ]
  },
  {
   "cell_type": "code",
   "execution_count": 32,
   "id": "9d3e3d7e",
   "metadata": {},
   "outputs": [
    {
     "name": "stdout",
     "output_type": "stream",
     "text": [
      "{2, 3, 4}\n"
     ]
    },
    {
     "data": {
      "text/plain": [
       "{2, 3, 4}"
      ]
     },
     "execution_count": 32,
     "metadata": {},
     "output_type": "execute_result"
    }
   ],
   "source": [
    "##### l={1,2,3,4,7,7,7,4}\n",
    "# l.discard(5)\n",
    "# discard method does not raise error if nothing is there in \n",
    "print(l)\n",
    "l={1,2,3,4}\n",
    "l.pop()\n",
    "l\n"
   ]
  },
  {
   "cell_type": "code",
   "execution_count": 36,
   "id": "5b63d838",
   "metadata": {},
   "outputs": [
    {
     "name": "stdout",
     "output_type": "stream",
     "text": [
      "{'apple'}\n"
     ]
    }
   ],
   "source": [
    "x={'apple','raju','cool'}\n",
    "y={'apple','cow','raghav'}\n",
    "x.intersection_update(y)\n",
    "print(x)"
   ]
  },
  {
   "cell_type": "code",
   "execution_count": 40,
   "id": "83525b52",
   "metadata": {},
   "outputs": [
    {
     "name": "stdout",
     "output_type": "stream",
     "text": [
      "None\n"
     ]
    }
   ],
   "source": [
    "x={'apple','raju','cool'}\n",
    "y={'apple','cow','raghav'}\n",
    "x.symmetric_difference_update(y)\n",
    "print(x)"
   ]
  },
  {
   "cell_type": "code",
   "execution_count": 39,
   "id": "53d25efb",
   "metadata": {},
   "outputs": [
    {
     "name": "stdout",
     "output_type": "stream",
     "text": [
      "{'raju', 'cool'}\n"
     ]
    }
   ],
   "source": [
    "#difference - items only exist in x but not in y \n",
    "\n",
    "x={'apple','raju','cool'}\n",
    "y={'apple','cow','raghav'}\n",
    "c=x.difference(y)\n",
    "print(c)"
   ]
  },
  {
   "cell_type": "code",
   "execution_count": 41,
   "id": "25780048",
   "metadata": {},
   "outputs": [
    {
     "name": "stdout",
     "output_type": "stream",
     "text": [
      "{'apple'}\n"
     ]
    }
   ],
   "source": [
    "x={'apple','raju','cool'}\n",
    "y={'apple','cow','raghav'}\n",
    "c=x.intersection(y)\n",
    "print(c)"
   ]
  },
  {
   "cell_type": "markdown",
   "id": "df74fd18",
   "metadata": {},
   "source": [
    "### Dictionary Methods:\n"
   ]
  },
  {
   "cell_type": "code",
   "execution_count": 1,
   "id": "a61caea3",
   "metadata": {},
   "outputs": [
    {
     "name": "stdout",
     "output_type": "stream",
     "text": [
      "['__class__', '__class_getitem__', '__contains__', '__delattr__', '__delitem__', '__dir__', '__doc__', '__eq__', '__format__', '__ge__', '__getattribute__', '__getitem__', '__gt__', '__hash__', '__init__', '__init_subclass__', '__ior__', '__iter__', '__le__', '__len__', '__lt__', '__ne__', '__new__', '__or__', '__reduce__', '__reduce_ex__', '__repr__', '__reversed__', '__ror__', '__setattr__', '__setitem__', '__sizeof__', '__str__', '__subclasshook__', 'clear', 'copy', 'fromkeys', 'get', 'items', 'keys', 'pop', 'popitem', 'setdefault', 'update', 'values']\n"
     ]
    }
   ],
   "source": [
    "print(dir(dict))"
   ]
  },
  {
   "cell_type": "code",
   "execution_count": 13,
   "id": "071540ca",
   "metadata": {},
   "outputs": [
    {
     "name": "stdout",
     "output_type": "stream",
     "text": [
      "dict_keys([1, 3, 4])\n",
      "[1, 3, 4]\n"
     ]
    }
   ],
   "source": [
    "a={1:2,3:4,4:5}\n",
    "print(a.keys())\n",
    "print(list(a.keys()))"
   ]
  },
  {
   "cell_type": "code",
   "execution_count": 22,
   "id": "d65c29a1",
   "metadata": {},
   "outputs": [
    {
     "name": "stdout",
     "output_type": "stream",
     "text": [
      "5\n",
      "None\n"
     ]
    }
   ],
   "source": [
    "a={1:2,3:4,4:5}\n",
    "print(a[4])  #raises keyerror if element not present\n",
    "print(a.get(5))  #print none"
   ]
  },
  {
   "cell_type": "code",
   "execution_count": 37,
   "id": "1aed561a",
   "metadata": {},
   "outputs": [
    {
     "name": "stdout",
     "output_type": "stream",
     "text": [
      "{1: 2, 3: 4, 4: 5, 'asish': 'cool'}\n"
     ]
    },
    {
     "ename": "TypeError",
     "evalue": "pop expected at least 1 argument, got 0",
     "output_type": "error",
     "traceback": [
      "\u001b[1;31m---------------------------------------------------------------------------\u001b[0m",
      "\u001b[1;31mTypeError\u001b[0m                                 Traceback (most recent call last)",
      "Input \u001b[1;32mIn [37]\u001b[0m, in \u001b[0;36m<cell line: 3>\u001b[1;34m()\u001b[0m\n\u001b[0;32m      1\u001b[0m a\u001b[38;5;241m=\u001b[39m{\u001b[38;5;241m1\u001b[39m:\u001b[38;5;241m2\u001b[39m,\u001b[38;5;241m3\u001b[39m:\u001b[38;5;241m4\u001b[39m,\u001b[38;5;241m4\u001b[39m:\u001b[38;5;241m5\u001b[39m,\u001b[38;5;124m\"\u001b[39m\u001b[38;5;124masish\u001b[39m\u001b[38;5;124m\"\u001b[39m:\u001b[38;5;124m\"\u001b[39m\u001b[38;5;124mcool\u001b[39m\u001b[38;5;124m\"\u001b[39m}\n\u001b[0;32m      2\u001b[0m \u001b[38;5;28mprint\u001b[39m(a)\n\u001b[1;32m----> 3\u001b[0m \u001b[43ma\u001b[49m\u001b[38;5;241;43m.\u001b[39;49m\u001b[43mpop\u001b[49m\u001b[43m(\u001b[49m\u001b[43m)\u001b[49m\n\u001b[0;32m      4\u001b[0m a\n",
      "\u001b[1;31mTypeError\u001b[0m: pop expected at least 1 argument, got 0"
     ]
    }
   ],
   "source": [
    "a={1:2,3:4,4:5,\"asish\":\"cool\"}\n",
    "print(a)\n",
    "a.pop\n",
    "a"
   ]
  },
  {
   "cell_type": "code",
   "execution_count": 41,
   "id": "1b9faad6",
   "metadata": {},
   "outputs": [
    {
     "name": "stdout",
     "output_type": "stream",
     "text": [
      "[24, 80, 44]\n"
     ]
    }
   ],
   "source": [
    "d2={1:24,2:55,3:19,4:80,5:44,6:17}\n",
    "l1=[i for i in d2.values() if i%2==0]\n",
    "print(l1)"
   ]
  },
  {
   "cell_type": "code",
   "execution_count": 45,
   "id": "fb8a6238",
   "metadata": {},
   "outputs": [
    {
     "name": "stdout",
     "output_type": "stream",
     "text": [
      "[1, 4, 5]\n"
     ]
    }
   ],
   "source": [
    "d2={1:24,2:55,3:19,4:80,5:44,6:17}\n",
    "l1=[i for i,y in d2.items() if y%2==0]\n",
    "print(l1)"
   ]
  },
  {
   "cell_type": "code",
   "execution_count": null,
   "id": "6bb9a70d",
   "metadata": {},
   "outputs": [],
   "source": [
    "str=\"asish\"\n",
    "d2"
   ]
  },
  {
   "cell_type": "code",
   "execution_count": 49,
   "id": "e12794f9",
   "metadata": {},
   "outputs": [
    {
     "name": "stdout",
     "output_type": "stream",
     "text": [
      "{'python': 6, 'programm': 8, 'java': 4, 'sql': 3}\n"
     ]
    }
   ],
   "source": [
    "L=['python','programm','java','sql']\n",
    "d={}\n",
    "for i in L:\n",
    "#     d.update({i:len(i)})\n",
    "      d[i]=len(i)\n",
    "print(d)"
   ]
  },
  {
   "cell_type": "code",
   "execution_count": 51,
   "id": "7b8c8324",
   "metadata": {},
   "outputs": [
    {
     "name": "stdout",
     "output_type": "stream",
     "text": [
      "{'a': 1, 's': 2, 'i': 1, 'h': 1}\n"
     ]
    }
   ],
   "source": [
    "str=\"asish\"\n",
    "d={}\n",
    "for i in str:\n",
    "    if i in d:\n",
    "        d[i]+=1\n",
    "    else:\n",
    "        d[i]=1\n",
    "print(d)"
   ]
  },
  {
   "cell_type": "code",
   "execution_count": 6,
   "id": "09442c6f",
   "metadata": {},
   "outputs": [],
   "source": [
    "d={\n",
    "    'first year' :{\n",
    "        'name':'rajiv',\n",
    "        'age':23,\n",
    "        'depart':'cse'\n",
    "    }\n",
    "}"
   ]
  },
  {
   "cell_type": "code",
   "execution_count": 9,
   "id": "0dc62325",
   "metadata": {},
   "outputs": [
    {
     "name": "stdout",
     "output_type": "stream",
     "text": [
      "2 3\n"
     ]
    }
   ],
   "source": [
    "def prit(a,b):\n",
    "    a=20\n",
    "    b=30\n",
    "a=2\n",
    "b=3\n",
    "prit(a,b)\n",
    "print(a,b)"
   ]
  },
  {
   "cell_type": "markdown",
   "id": "c078a1f5",
   "metadata": {},
   "source": [
    "### keyword length arguments"
   ]
  },
  {
   "cell_type": "code",
   "execution_count": 30,
   "id": "baa3bc0f",
   "metadata": {},
   "outputs": [
    {
     "ename": "TypeError",
     "evalue": "sample() takes 0 positional arguments but 1 was given",
     "output_type": "error",
     "traceback": [
      "\u001b[1;31m---------------------------------------------------------------------------\u001b[0m",
      "\u001b[1;31mTypeError\u001b[0m                                 Traceback (most recent call last)",
      "Input \u001b[1;32mIn [30]\u001b[0m, in \u001b[0;36m<cell line: 4>\u001b[1;34m()\u001b[0m\n\u001b[0;32m      2\u001b[0m     \u001b[38;5;28mprint\u001b[39m(k)\n\u001b[0;32m      3\u001b[0m name\u001b[38;5;241m=\u001b[39m\u001b[38;5;124m'\u001b[39m\u001b[38;5;124mkrish\u001b[39m\u001b[38;5;124m'\u001b[39m\n\u001b[1;32m----> 4\u001b[0m \u001b[43msample\u001b[49m\u001b[43m(\u001b[49m\u001b[43mname\u001b[49m\u001b[43m,\u001b[49m\u001b[43mroll\u001b[49m\u001b[38;5;241;43m=\u001b[39;49m\u001b[38;5;241;43m50\u001b[39;49m\u001b[43m)\u001b[49m\n",
      "\u001b[1;31mTypeError\u001b[0m: sample() takes 0 positional arguments but 1 was given"
     ]
    }
   ],
   "source": [
    "def sample(**k):\n",
    "    print(k)\n",
    "name='krish'\n",
    "sample(name,roll=50)"
   ]
  },
  {
   "cell_type": "markdown",
   "id": "6c9825b7",
   "metadata": {},
   "source": [
    "### Variable Length Arguments\n"
   ]
  },
  {
   "cell_type": "code",
   "execution_count": 17,
   "id": "3e756770",
   "metadata": {},
   "outputs": [
    {
     "name": "stdout",
     "output_type": "stream",
     "text": [
      "(2, 10, 'name')\n"
     ]
    }
   ],
   "source": [
    "def sample(*k):\n",
    "    print(k)\n",
    "sample(2,10,'name')"
   ]
  },
  {
   "cell_type": "code",
   "execution_count": 25,
   "id": "2f76c2b4",
   "metadata": {},
   "outputs": [
    {
     "ename": "NameError",
     "evalue": "name 'n' is not defined",
     "output_type": "error",
     "traceback": [
      "\u001b[1;31m---------------------------------------------------------------------------\u001b[0m",
      "\u001b[1;31mNameError\u001b[0m                                 Traceback (most recent call last)",
      "Input \u001b[1;32mIn [25]\u001b[0m, in \u001b[0;36m<cell line: 4>\u001b[1;34m()\u001b[0m\n\u001b[0;32m      2\u001b[0m     \u001b[38;5;28;01mreturn\u001b[39;00m n\u001b[38;5;241m+\u001b[39m\u001b[38;5;241m25\u001b[39m\n\u001b[0;32m      3\u001b[0m fun1(\u001b[38;5;241m5\u001b[39m)\n\u001b[1;32m----> 4\u001b[0m \u001b[38;5;28mprint\u001b[39m(\u001b[43mn\u001b[49m)\n",
      "\u001b[1;31mNameError\u001b[0m: name 'n' is not defined"
     ]
    }
   ],
   "source": [
    "def fun1(n):\n",
    "    return n+25\n",
    "fun1(5)\n",
    "print(n)"
   ]
  },
  {
   "cell_type": "code",
   "execution_count": 32,
   "id": "5c6f3b81",
   "metadata": {},
   "outputs": [
    {
     "data": {
      "text/plain": [
       "{'a', 'b', 'c', 'd', 'k'}"
      ]
     },
     "execution_count": 32,
     "metadata": {},
     "output_type": "execute_result"
    }
   ],
   "source": [
    "s={'a','b','d'}\n",
    "s.update(['c','k'])\n",
    "s\n"
   ]
  },
  {
   "cell_type": "code",
   "execution_count": 33,
   "id": "befce0d2",
   "metadata": {},
   "outputs": [
    {
     "ename": "TypeError",
     "evalue": "unhashable type: 'list'",
     "output_type": "error",
     "traceback": [
      "\u001b[1;31m---------------------------------------------------------------------------\u001b[0m",
      "\u001b[1;31mTypeError\u001b[0m                                 Traceback (most recent call last)",
      "Input \u001b[1;32mIn [33]\u001b[0m, in \u001b[0;36m<cell line: 1>\u001b[1;34m()\u001b[0m\n\u001b[1;32m----> 1\u001b[0m k\u001b[38;5;241m=\u001b[39m{\u001b[38;5;241m1\u001b[39m,\u001b[38;5;124m'\u001b[39m\u001b[38;5;124mpy\u001b[39m\u001b[38;5;124m'\u001b[39m,[\u001b[38;5;124m'\u001b[39m\u001b[38;5;124mabc\u001b[39m\u001b[38;5;124m'\u001b[39m,\u001b[38;5;124m'\u001b[39m\u001b[38;5;124mxyz\u001b[39m\u001b[38;5;124m'\u001b[39m],\u001b[38;5;28;01mTrue\u001b[39;00m}\n\u001b[0;32m      2\u001b[0m \u001b[38;5;28mprint\u001b[39m(k)\n",
      "\u001b[1;31mTypeError\u001b[0m: unhashable type: 'list'"
     ]
    }
   ],
   "source": [
    "k={1,'py',['abc','xyz'],True}\n",
    "print(k)"
   ]
  },
  {
   "cell_type": "markdown",
   "id": "29f4ae4e",
   "metadata": {},
   "source": [
    " Comprehension - to reduce lines of code\n",
    " \n",
    " ### list Comprehension\n",
    "         - to create new list from another iterables\n",
    "         - Syntax\n",
    "         variable_name = [output_var for loop if conditon]\n",
    "         "
   ]
  },
  {
   "cell_type": "code",
   "execution_count": 1,
   "id": "c249aa76",
   "metadata": {},
   "outputs": [
    {
     "name": "stdout",
     "output_type": "stream",
     "text": [
      "[1, 2, 3, 4, 5, 6, 7, 8, 9, 10]\n"
     ]
    }
   ],
   "source": [
    "k= [i for i in range(1,11)]\n",
    "print(k)"
   ]
  },
  {
   "cell_type": "code",
   "execution_count": 3,
   "id": "5439f60a",
   "metadata": {},
   "outputs": [
    {
     "name": "stdout",
     "output_type": "stream",
     "text": [
      "[2, 4, 6, 8, 10, 12, 14, 16, 18, 20, 22, 24, 26, 28, 30, 32, 34, 36, 38, 40, 42, 44, 46, 48]\n"
     ]
    }
   ],
   "source": [
    "k= [i for i in range(2,50,2)]\n",
    "print(k)"
   ]
  },
  {
   "cell_type": "code",
   "execution_count": 15,
   "id": "fab5df14",
   "metadata": {},
   "outputs": [
    {
     "data": {
      "text/plain": [
       "['ASISH', 'MANOJ', 'RDDY']"
      ]
     },
     "execution_count": 15,
     "metadata": {},
     "output_type": "execute_result"
    }
   ],
   "source": [
    "l=['asish','manoj','rddy']\n",
    "k=[i.upper() for i in l]\n",
    "k"
   ]
  },
  {
   "cell_type": "code",
   "execution_count": 29,
   "id": "f3fb4b4b",
   "metadata": {},
   "outputs": [
    {
     "ename": "SyntaxError",
     "evalue": "invalid syntax (1081634887.py, line 3)",
     "output_type": "error",
     "traceback": [
      "\u001b[1;36m  Input \u001b[1;32mIn [29]\u001b[1;36m\u001b[0m\n\u001b[1;33m    k=[i for i in l if not if (i in r) or r.append(i) ]\u001b[0m\n\u001b[1;37m                           ^\u001b[0m\n\u001b[1;31mSyntaxError\u001b[0m\u001b[1;31m:\u001b[0m invalid syntax\n"
     ]
    }
   ],
   "source": [
    "l=[1,2,3,1,3,4]\n",
    "r=[]\n",
    "k=[i for i in l if not i in r : r.append(i) ]\n",
    "k"
   ]
  },
  {
   "cell_type": "code",
   "execution_count": 32,
   "id": "a2f795d6",
   "metadata": {},
   "outputs": [
    {
     "name": "stdout",
     "output_type": "stream",
     "text": [
      "[2, 3, 5, 7, 11, 13, 17, 19, 23, 29, 31, 37, 41, 43, 47, 53, 59, 61, 67, 71, 73, 79, 83, 89, 97]\n"
     ]
    }
   ],
   "source": [
    "def prime(n):\n",
    "    if n < 2:\n",
    "        return False\n",
    "    i = 2\n",
    "    while i < n:\n",
    "        if n % i == 0:\n",
    "            return False\n",
    "        i += 1\n",
    "    return True\n",
    "\n",
    "k = [i for i in range(1, 101) if prime(i)]\n",
    "print(k)"
   ]
  },
  {
   "cell_type": "markdown",
   "id": "03f309ec",
   "metadata": {},
   "source": [
    "### Dictionary Comprehension\n"
   ]
  },
  {
   "cell_type": "code",
   "execution_count": 43,
   "id": "831da75e",
   "metadata": {},
   "outputs": [
    {
     "data": {
      "text/plain": [
       "{2: 4,\n",
       " 3: 5,\n",
       " 4: 6,\n",
       " 5: 7,\n",
       " 6: 8,\n",
       " 7: 9,\n",
       " 8: 10,\n",
       " 9: 11,\n",
       " 10: 12,\n",
       " 11: 13,\n",
       " 12: 14,\n",
       " 13: 15,\n",
       " 14: 16,\n",
       " 15: 17,\n",
       " 16: 18,\n",
       " 17: 19,\n",
       " 18: 20,\n",
       " 19: 21,\n",
       " 20: 22,\n",
       " 21: 23,\n",
       " 22: 24,\n",
       " 23: 25,\n",
       " 24: 26,\n",
       " 25: 27,\n",
       " 26: 28,\n",
       " 27: 29,\n",
       " 28: 30,\n",
       " 29: 31,\n",
       " 30: 32,\n",
       " 31: 33,\n",
       " 32: 34,\n",
       " 33: 35,\n",
       " 34: 36,\n",
       " 35: 37,\n",
       " 36: 38,\n",
       " 37: 39,\n",
       " 38: 40,\n",
       " 39: 41,\n",
       " 40: 42,\n",
       " 41: 43,\n",
       " 42: 44,\n",
       " 43: 45,\n",
       " 44: 46,\n",
       " 45: 47,\n",
       " 46: 48,\n",
       " 47: 49,\n",
       " 48: 50,\n",
       " 49: 51,\n",
       " 50: 52,\n",
       " 51: 53,\n",
       " 52: 54,\n",
       " 53: 55,\n",
       " 54: 56,\n",
       " 55: 57,\n",
       " 56: 58,\n",
       " 57: 59,\n",
       " 58: 60,\n",
       " 59: 61,\n",
       " 60: 62,\n",
       " 61: 63,\n",
       " 62: 64,\n",
       " 63: 65,\n",
       " 64: 66,\n",
       " 65: 67,\n",
       " 66: 68,\n",
       " 67: 69,\n",
       " 68: 70,\n",
       " 69: 71,\n",
       " 70: 72,\n",
       " 71: 73,\n",
       " 72: 74,\n",
       " 73: 75,\n",
       " 74: 76,\n",
       " 75: 77,\n",
       " 76: 78,\n",
       " 77: 79,\n",
       " 78: 80,\n",
       " 79: 81,\n",
       " 80: 82,\n",
       " 81: 83,\n",
       " 82: 84,\n",
       " 83: 85,\n",
       " 84: 86,\n",
       " 85: 87,\n",
       " 86: 88,\n",
       " 87: 89,\n",
       " 88: 90,\n",
       " 89: 91,\n",
       " 90: 92,\n",
       " 91: 93,\n",
       " 92: 94,\n",
       " 93: 95,\n",
       " 94: 96,\n",
       " 95: 97,\n",
       " 96: 98,\n",
       " 97: 99,\n",
       " 98: 100,\n",
       " 99: 101}"
      ]
     },
     "execution_count": 43,
     "metadata": {},
     "output_type": "execute_result"
    }
   ],
   "source": [
    "k= {i:i**2 for i in range(2,100)}\n",
    "print(k)\n",
    "k"
   ]
  },
  {
   "cell_type": "code",
   "execution_count": 60,
   "id": "0b03ee13",
   "metadata": {},
   "outputs": [
    {
     "name": "stdout",
     "output_type": "stream",
     "text": [
      "{'t': 3, 'h': 1, 'i': 3, 's': 2, ' ': 4, 'o': 2, 'f': 1, 'n': 2, 'd': 1, 'c': 1, 'u': 1}\n"
     ]
    }
   ],
   "source": [
    "s1=\"this is to find count\"\n",
    "k=[]\n",
    "d={i:s1.count(i) for i in s1}\n",
    "print(d)"
   ]
  },
  {
   "cell_type": "code",
   "execution_count": 58,
   "id": "96c5cc36",
   "metadata": {},
   "outputs": [
    {
     "name": "stdout",
     "output_type": "stream",
     "text": [
      "{1: 2}\n"
     ]
    }
   ],
   "source": [
    "d={}\n",
    "d.update([(1,2)])\n",
    "print(d)"
   ]
  },
  {
   "cell_type": "code",
   "execution_count": 77,
   "id": "de9f3c4d",
   "metadata": {},
   "outputs": [
    {
     "name": "stdout",
     "output_type": "stream",
     "text": [
      "this is to find count\n",
      "{}\n"
     ]
    }
   ],
   "source": [
    "s1=\"this is to find count\"\n",
    "s2=\"\"\n",
    "d={i:s1.count(i) for i in s1 if i not in s2 and not (s2:=s2+i)}\n",
    "print(s2)\n",
    "print(d)"
   ]
  },
  {
   "cell_type": "code",
   "execution_count": 73,
   "id": "9b56fe5e",
   "metadata": {},
   "outputs": [
    {
     "ename": "SyntaxError",
     "evalue": "cannot use assignment expressions with operator (662975703.py, line 3)",
     "output_type": "error",
     "traceback": [
      "\u001b[1;36m  Input \u001b[1;32mIn [73]\u001b[1;36m\u001b[0m\n\u001b[1;33m    d = {i: s1.count(i) for i in s1 if i not in s2 and not (print(s1, s2, i) or s2 := s2 + i)}\u001b[0m\n\u001b[1;37m                                                            ^\u001b[0m\n\u001b[1;31mSyntaxError\u001b[0m\u001b[1;31m:\u001b[0m cannot use assignment expressions with operator\n"
     ]
    }
   ],
   "source": [
    "s1 = \"this is to find count\"\n",
    "s2 = \"\"\n",
    "d = {i: s1.count(i) for i in s1 if i not in s2 and not (print(s1, s2, i) or s2 := s2 + i)}\n",
    "print(d)\n"
   ]
  },
  {
   "cell_type": "markdown",
   "id": "e84edc30",
   "metadata": {},
   "source": [
    "### Generator \n",
    "- which returns multiple values contains yield keyword"
   ]
  },
  {
   "cell_type": "code",
   "execution_count": 9,
   "id": "d33947dd",
   "metadata": {},
   "outputs": [
    {
     "name": "stdout",
     "output_type": "stream",
     "text": [
      "[0, 1, 2, 3, 4]\n"
     ]
    }
   ],
   "source": [
    "def gene(k):\n",
    "    i=0\n",
    "    while(i<5):\n",
    "        yield i\n",
    "        i+=1\n",
    "k=gene(5)\n",
    "print(list(k))"
   ]
  },
  {
   "cell_type": "markdown",
   "id": "e125b6c0",
   "metadata": {},
   "source": [
    "### Lambda \n",
    "- It is a anonymous function.\n",
    "- syntax : lambda arg1,arg2 : exp \n",
    "- used for one line function definition"
   ]
  },
  {
   "cell_type": "code",
   "execution_count": 10,
   "id": "0d766d15",
   "metadata": {},
   "outputs": [
    {
     "data": {
      "text/plain": [
       "300"
      ]
     },
     "execution_count": 10,
     "metadata": {},
     "output_type": "execute_result"
    }
   ],
   "source": [
    "ad= lambda n1,n2:n1+n2\n",
    "ad(100,200)"
   ]
  },
  {
   "cell_type": "code",
   "execution_count": 11,
   "id": "133ed089",
   "metadata": {},
   "outputs": [
    {
     "data": {
      "text/plain": [
       "4"
      ]
     },
     "execution_count": 11,
     "metadata": {},
     "output_type": "execute_result"
    }
   ],
   "source": [
    "ad= lambda n1: n1**2\n",
    "ad(2)"
   ]
  },
  {
   "cell_type": "code",
   "execution_count": 21,
   "id": "a468d040",
   "metadata": {},
   "outputs": [],
   "source": [
    "#using if else in lambda\n",
    "age = lambda x:True if (x>=18) else False\n",
    "# or\n",
    "age=lambda x: x>=19\n",
    "age(2)\n",
    "\n",
    "pos= lambda x: x>0"
   ]
  },
  {
   "cell_type": "code",
   "execution_count": 46,
   "id": "bdf176af",
   "metadata": {},
   "outputs": [
    {
     "name": "stdout",
     "output_type": "stream",
     "text": [
      "[False, False, False, False, False, '1', '2', '3', '4']\n",
      "['1', '2', '3', '4']\n"
     ]
    }
   ],
   "source": [
    "def digit(k):\n",
    "    if k.isdigit():\n",
    "        return k\n",
    "    else:\n",
    "        return False\n",
    "k = filter(lambda x: x!=False,map(digit,\"manoj1234\"))\n",
    "print(list(k))"
   ]
  },
  {
   "cell_type": "code",
   "execution_count": 28,
   "id": "821465ff",
   "metadata": {},
   "outputs": [
    {
     "name": "stdout",
     "output_type": "stream",
     "text": [
      "['1', '2', '3', '4']\n"
     ]
    }
   ],
   "source": [
    "s = \"asish1234\"\n",
    "digits = [digit(c) for c in s]\n",
    "digits = [d for d in digits if d is not None]\n",
    "print(digits)"
   ]
  },
  {
   "cell_type": "markdown",
   "id": "92e8df01",
   "metadata": {},
   "source": [
    "### Filter:\n",
    "- filter takes a function and a sequence and return an iterable\n",
    "- filter filters the given iterable with the help of function that tests each element\n",
    "- syntax : filter(function, iterable)"
   ]
  },
  {
   "cell_type": "code",
   "execution_count": 33,
   "id": "f5133fe8",
   "metadata": {},
   "outputs": [
    {
     "name": "stdout",
     "output_type": "stream",
     "text": [
      "[2, 2, 4]\n"
     ]
    }
   ],
   "source": [
    "def even(k):\n",
    "    if k%2==0:\n",
    "        return True\n",
    "    else:\n",
    "        return False\n",
    "k=filter(even,[1,2,3,2,4])\n",
    "print(list(k))"
   ]
  },
  {
   "cell_type": "code",
   "execution_count": 47,
   "id": "5c946b14",
   "metadata": {},
   "outputs": [],
   "source": [
    "import functools\n",
    "#  reduce(function, iterable )"
   ]
  },
  {
   "cell_type": "code",
   "execution_count": 51,
   "id": "781c2a92",
   "metadata": {},
   "outputs": [
    {
     "ename": "SyntaxError",
     "evalue": "cannot assign to operator (2275995726.py, line 3)",
     "output_type": "error",
     "traceback": [
      "\u001b[1;36m  Input \u001b[1;32mIn [51]\u001b[1;36m\u001b[0m\n\u001b[1;33m    1+2 = 3\u001b[0m\n\u001b[1;37m    ^\u001b[0m\n\u001b[1;31mSyntaxError\u001b[0m\u001b[1;31m:\u001b[0m cannot assign to operator\n"
     ]
    }
   ],
   "source": [
    "\n",
    "l1=[1,2,3,4]\n",
    "print(functools.reduce(lambda a,b:a+b,l1))\n",
    "1+2 = 3\n",
    "3+3 = 6\n"
   ]
  },
  {
   "cell_type": "markdown",
   "id": "44bf5e0b",
   "metadata": {},
   "source": [
    "### Files\n",
    "- here open function takes two arguments \n",
    "    \n",
    "- In files we have three modes\n",
    "   1. read mode -> r \n",
    "   2. write mode -> w edit\n",
    "   3. append mode -> a add data\n"
   ]
  },
  {
   "cell_type": "code",
   "execution_count": 3,
   "id": "a64168fa",
   "metadata": {},
   "outputs": [
    {
     "name": "stdout",
     "output_type": "stream",
     "text": [
      "file created successfully\n"
     ]
    }
   ],
   "source": [
    "#to create empty text file we can use only write or append\n",
    "f1= open('data.txt','w')\n",
    "print(\"file created successfully\")\n",
    "f1.close()"
   ]
  },
  {
   "cell_type": "markdown",
   "id": "cb56b4a8",
   "metadata": {},
   "source": [
    "#### File Methods:\n",
    " - 1.read()\n",
    " - 2.write()\n",
    " - 3.readline()\n",
    " - 4.readlines()\n",
    " - 5.tell()\n",
    " - 6.seek()\n",
    " - 7.split()\n",
    " "
   ]
  },
  {
   "cell_type": "code",
   "execution_count": 4,
   "id": "ba81567e",
   "metadata": {},
   "outputs": [],
   "source": [
    "f1= open('data.txt','w')\n",
    "f1.write(\"This is first line of the product\")\n",
    "f1.close()"
   ]
  },
  {
   "cell_type": "code",
   "execution_count": 5,
   "id": "c8768148",
   "metadata": {},
   "outputs": [],
   "source": [
    "f1= open('data.txt','a')\n",
    "s=\"this is second line \"\n",
    "f1.write(s)\n",
    "f1.close()"
   ]
  },
  {
   "cell_type": "code",
   "execution_count": 17,
   "id": "07d57a8f",
   "metadata": {},
   "outputs": [
    {
     "name": "stdout",
     "output_type": "stream",
     "text": [
      "this is a text file created using good language like python \n",
      "and this is second line \n",
      "\n"
     ]
    }
   ],
   "source": [
    "#to read n number of characters\n",
    "f1= open('data.txt','r')\n",
    "print(f1.read(5))\n",
    "print(f1.read(5))\n",
    "f1.close()"
   ]
  },
  {
   "cell_type": "code",
   "execution_count": 15,
   "id": "4fc482c6",
   "metadata": {},
   "outputs": [
    {
     "name": "stdout",
     "output_type": "stream",
     "text": [
      "['this is a text file created using good language like python \\n', 'and this is second line ']\n"
     ]
    }
   ],
   "source": [
    "#readline\n",
    "with open('data.txt','r') as f1:\n",
    "    print((f1.readlines()))\n",
    "  "
   ]
  },
  {
   "cell_type": "code",
   "execution_count": 16,
   "id": "8789552d",
   "metadata": {},
   "outputs": [
    {
     "name": "stdout",
     "output_type": "stream",
     "text": [
      "this is a text file created using good language like python \n",
      "and this is second line \n"
     ]
    }
   ],
   "source": [
    "with open('data.txt','r') as f1:\n",
    "    print((f1.read()))"
   ]
  },
  {
   "cell_type": "code",
   "execution_count": 18,
   "id": "03c47959",
   "metadata": {},
   "outputs": [
    {
     "data": {
      "text/plain": [
       "17"
      ]
     },
     "execution_count": 18,
     "metadata": {},
     "output_type": "execute_result"
    }
   ],
   "source": [
    "with open('data.txt','r') as f1:\n",
    "    c=0\n",
    "    for i in f1.read():\n",
    "        if i.isspace():\n",
    "            c+=1\n",
    "c       "
   ]
  },
  {
   "cell_type": "code",
   "execution_count": 25,
   "id": "1a735ecb",
   "metadata": {},
   "outputs": [
    {
     "name": "stdout",
     "output_type": "stream",
     "text": [
      "ext file created using good language like python \n",
      "and this is second line \n",
      "85\n"
     ]
    }
   ],
   "source": [
    "#seek moves file pointer to specified location \n",
    "#tell prints the file pointer location \n",
    "with open('data.txt','r') as f1:\n",
    "    f1.seek(11)\n",
    "    print(f1.read())\n",
    "    print(f1.tell())"
   ]
  },
  {
   "cell_type": "code",
   "execution_count": 28,
   "id": "28509bd3",
   "metadata": {},
   "outputs": [],
   "source": [
    "#to copy data from one file to another file\n",
    "with open('data.txt','r') as f1,open('copy.txt','w') as f2:\n",
    "    k=f1.read()\n",
    "    f2.write(k)"
   ]
  },
  {
   "cell_type": "code",
   "execution_count": 34,
   "id": "b93973b9",
   "metadata": {},
   "outputs": [
    {
     "data": {
      "text/plain": [
       "'sample.txt'"
      ]
     },
     "execution_count": 34,
     "metadata": {},
     "output_type": "execute_result"
    }
   ],
   "source": [
    "import shutil\n",
    "shutil.copy('data.txt','copy.txt')"
   ]
  },
  {
   "cell_type": "code",
   "execution_count": null,
   "id": "315db81f",
   "metadata": {},
   "outputs": [],
   "source": []
  },
  {
   "cell_type": "code",
   "execution_count": 38,
   "id": "c79ef866",
   "metadata": {},
   "outputs": [
    {
     "name": "stdout",
     "output_type": "stream",
     "text": [
      "Name of 1asish\n",
      "Roll of 12123\n",
      "Mobile of 1123\n",
      "Aadhar of 1123\n",
      "emailid of 1123\n"
     ]
    }
   ],
   "source": [
    "f1=open('temp.txt','w')\n",
    "for i in range(1):\n",
    "    f1.write(input(f\"Name of {i+1}\")+\" \")\n",
    "    f1.write(input(f\"Roll of {i+1}\")+\" \")\n",
    "    f1.write(input(f\"Mobile of {i+1}\")+\" \")\n",
    "    f1.write(input(f\"Aadhar of {i+1}\")+\" \")\n",
    "    f1.write(input(f\"emailid of {i+1}\")+\" \")\n",
    "    f1.write(\"\\n\")\n",
    "f1.close()"
   ]
  },
  {
   "cell_type": "code",
   "execution_count": 25,
   "id": "9ea7aeec",
   "metadata": {},
   "outputs": [
    {
     "name": "stdout",
     "output_type": "stream",
     "text": [
      "Hello\n",
      "inside hello\n",
      "Help on module demo:\n",
      "\n",
      "NAME\n",
      "    demo\n",
      "\n",
      "CLASSES\n",
      "    builtins.object\n",
      "        Hello\n",
      "    \n",
      "    class Hello(builtins.object)\n",
      "     |  Methods defined here:\n",
      "     |  \n",
      "     |  p()\n",
      "     |  \n",
      "     |  ----------------------------------------------------------------------\n",
      "     |  Data descriptors defined here:\n",
      "     |  \n",
      "     |  __dict__\n",
      "     |      dictionary for instance variables (if defined)\n",
      "     |  \n",
      "     |  __weakref__\n",
      "     |      list of weak references to the object (if defined)\n",
      "\n",
      "FUNCTIONS\n",
      "    func()\n",
      "\n",
      "FILE\n",
      "    c:\\users\\kello\\downloads\\anaconda\\demo.py\n",
      "\n",
      "\n"
     ]
    }
   ],
   "source": [
    "import demo\n",
    "demo.func()\n",
    "demo.Hello.p()\n",
    "# print(demo.n)\n",
    "help(demo)\n"
   ]
  },
  {
   "cell_type": "code",
   "execution_count": 16,
   "id": "d3ac5aa2",
   "metadata": {},
   "outputs": [
    {
     "name": "stdout",
     "output_type": "stream",
     "text": [
      "Hello\n"
     ]
    }
   ],
   "source": [
    "#using alias names\n",
    "import demo as d\n",
    "d.func()"
   ]
  },
  {
   "cell_type": "code",
   "execution_count": 17,
   "id": "75412df1",
   "metadata": {},
   "outputs": [
    {
     "name": "stdout",
     "output_type": "stream",
     "text": [
      "Hello\n"
     ]
    }
   ],
   "source": [
    "#using from keyword\n",
    "from demo import func\n",
    "func()"
   ]
  },
  {
   "cell_type": "code",
   "execution_count": 26,
   "id": "d02524d4",
   "metadata": {},
   "outputs": [
    {
     "name": "stdout",
     "output_type": "stream",
     "text": [
      "Hello\n"
     ]
    }
   ],
   "source": [
    "from demo import *\n",
    "func()"
   ]
  },
  {
   "cell_type": "markdown",
   "id": "0f1659f0",
   "metadata": {},
   "source": [
    "### Package \n",
    "- it is folder or directory \n"
   ]
  },
  {
   "cell_type": "code",
   "execution_count": 88,
   "id": "8c53c4c8",
   "metadata": {},
   "outputs": [],
   "source": [
    "import package.menu"
   ]
  },
  {
   "cell_type": "code",
   "execution_count": 89,
   "id": "d867b878",
   "metadata": {
    "scrolled": true
   },
   "outputs": [
    {
     "ename": "TypeError",
     "evalue": "unsupported operand type(s) for +: 'int' and 'str'",
     "output_type": "error",
     "traceback": [
      "\u001b[1;31m---------------------------------------------------------------------------\u001b[0m",
      "\u001b[1;31mTypeError\u001b[0m                                 Traceback (most recent call last)",
      "Input \u001b[1;32mIn [89]\u001b[0m, in \u001b[0;36m<cell line: 2>\u001b[1;34m()\u001b[0m\n\u001b[0;32m      1\u001b[0m package\u001b[38;5;241m.\u001b[39mmenu\u001b[38;5;241m.\u001b[39madd(\u001b[38;5;241m10\u001b[39m,\u001b[38;5;241m22\u001b[39m)\n\u001b[1;32m----> 2\u001b[0m \u001b[43mpackage\u001b[49m\u001b[38;5;241;43m.\u001b[39;49m\u001b[43mmenu\u001b[49m\u001b[38;5;241;43m.\u001b[39;49m\u001b[43mreverse\u001b[49m\u001b[43m(\u001b[49m\u001b[38;5;241;43m244\u001b[39;49m\u001b[43m)\u001b[49m\n",
      "File \u001b[1;32m~\\Downloads\\anaconda\\package\\menu.py:5\u001b[0m, in \u001b[0;36mreverse\u001b[1;34m(n)\u001b[0m\n\u001b[0;32m      4\u001b[0m \u001b[38;5;28;01mdef\u001b[39;00m \u001b[38;5;21mreverse\u001b[39m(n):\n\u001b[1;32m----> 5\u001b[0m     \u001b[38;5;28mstr\u001b[39m\u001b[38;5;241m=\u001b[39m\u001b[43mn\u001b[49m\u001b[38;5;241;43m+\u001b[39;49m\u001b[38;5;124;43m\"\u001b[39;49m\u001b[38;5;124;43m\"\u001b[39;49m\n\u001b[0;32m      6\u001b[0m     \u001b[38;5;28mstr\u001b[39m\u001b[38;5;241m=\u001b[39m\u001b[38;5;28mstr\u001b[39m[::\u001b[38;5;241m-\u001b[39m\u001b[38;5;241m1\u001b[39m]\n\u001b[0;32m      7\u001b[0m     \u001b[38;5;28;01mreturn\u001b[39;00m \u001b[38;5;28mint\u001b[39m(\u001b[38;5;28mstr\u001b[39m)\n",
      "\u001b[1;31mTypeError\u001b[0m: unsupported operand type(s) for +: 'int' and 'str'"
     ]
    }
   ],
   "source": [
    "package.menu.add(10,22)\n",
    "package.menu.reverse(244)"
   ]
  },
  {
   "cell_type": "code",
   "execution_count": 90,
   "id": "a8f3c468",
   "metadata": {},
   "outputs": [
    {
     "data": {
      "text/plain": [
       "2"
      ]
     },
     "execution_count": 90,
     "metadata": {},
     "output_type": "execute_result"
    }
   ],
   "source": [
    "import package.f2\n",
    "package.f2.reverse(2372)\n",
    "package.f2.k"
   ]
  },
  {
   "cell_type": "code",
   "execution_count": 4,
   "id": "f44cd267",
   "metadata": {},
   "outputs": [
    {
     "name": "stdout",
     "output_type": "stream",
     "text": [
      "this is C\n"
     ]
    }
   ],
   "source": [
    "class A:\n",
    "    def pri(self):\n",
    "        print(\"this is A\")\n",
    "class B(A):\n",
    "    def pri(self):\n",
    "        print(\"this is B\")\n",
    "class C(B):\n",
    "    def pri(self):\n",
    "        print(\"this is C\")\n",
    "k=C()\n",
    "k.pri()"
   ]
  },
  {
   "cell_type": "markdown",
   "id": "48a7dd9e",
   "metadata": {},
   "source": [
    "### Data Analysis\n",
    "  - It is a process of obtaining raw data and subsequently converting it into information.\n",
    "  - It is technique to collect,transform and organize data to make future prediction.\n",
    "  - To analyse numerical data - numpy\n",
    "  - Tabular data - pandas\n",
    "  - Visualization - matplotlib\n",
    "    \n",
    "#### Types of Data \n",
    "* Structured data data: rows/columns -> tabular format -> excel , csv ,.. etc\n",
    "* unstructured data -> pictures,videos, voice etc\n",
    "* semistructured data -> xml,json,html\n",
    "\n",
    "#### Data Types in Statistics\n",
    "- Numerical data - data in form of numbers\n",
    "- Catergorical data - data in form of words\n",
    "\n",
    "#### Libraries in data analysis\n",
    "- 1.numpy\n",
    "- 2.pandas\n",
    "- 3.matplotlib\n",
    "- 4.seaborn\n",
    "- 5.scikit learn\n",
    "\n"
   ]
  },
  {
   "cell_type": "markdown",
   "id": "33a1eba2",
   "metadata": {},
   "source": [
    "- Resize changes shape of the original array. If the new shape has more elements than the original shape, the array is padded with zeros. If the new shape has fewer elements than the original shape, the array is truncated"
   ]
  },
  {
   "cell_type": "code",
   "execution_count": 1,
   "id": "2ab3a8bf",
   "metadata": {},
   "outputs": [],
   "source": [
    "import numpy as np"
   ]
  },
  {
   "cell_type": "code",
   "execution_count": 2,
   "id": "b1e1b2cc",
   "metadata": {},
   "outputs": [
    {
     "name": "stdout",
     "output_type": "stream",
     "text": [
      "[[1 2 3]\n",
      " [4 0 0]]\n"
     ]
    }
   ],
   "source": [
    "\n",
    "\n",
    "a = np.array([[1, 2], [3, 4]])\n",
    "a.resize((2, 3))\n",
    "\n",
    "print(a)\n"
   ]
  },
  {
   "cell_type": "code",
   "execution_count": 3,
   "id": "71057059",
   "metadata": {},
   "outputs": [
    {
     "name": "stdout",
     "output_type": "stream",
     "text": [
      "[[1 2]]\n"
     ]
    }
   ],
   "source": [
    "a = np.array([[1, 2], [3, 4]])\n",
    "a.resize((1, 2))\n",
    "\n",
    "print(a)\n"
   ]
  },
  {
   "cell_type": "code",
   "execution_count": 7,
   "id": "2e0f11fb",
   "metadata": {},
   "outputs": [],
   "source": [
    "k=np.arange(20).resize(2,2)\n",
    "k"
   ]
  },
  {
   "cell_type": "code",
   "execution_count": 18,
   "id": "3931b1da",
   "metadata": {},
   "outputs": [
    {
     "name": "stdout",
     "output_type": "stream",
     "text": [
      "[[8]\n",
      " [3]]\n",
      "[[4]\n",
      " [4]]\n",
      "[[8]\n",
      " [3]\n",
      " [4]\n",
      " [4]]\n"
     ]
    }
   ],
   "source": [
    "a1=np.random.randint(1,10,(2,1))\n",
    "print(a1)\n",
    "a2=np.random.randint(1,10,(2,1))\n",
    "print(a2)\n",
    "print(np.vstack((a1,a2)))"
   ]
  },
  {
   "cell_type": "code",
   "execution_count": 23,
   "id": "5490c6cb",
   "metadata": {},
   "outputs": [
    {
     "name": "stdout",
     "output_type": "stream",
     "text": [
      "[[1]\n",
      " [7]]\n",
      "[[5]\n",
      " [9]]\n",
      "[[1 5]\n",
      " [7 9]]\n",
      "\n",
      "[[8 2]\n",
      " [1 5]]\n",
      "[[6 5]\n",
      " [9 6]]\n",
      "[[8 2 6 5]\n",
      " [1 5 9 6]]\n"
     ]
    }
   ],
   "source": [
    "a1=np.random.randint(1,10,(2,1))\n",
    "a2=np.random.randint(1,10,(2,1))\n",
    "print(a1)\n",
    "print(a2)\n",
    "print(np.hstack((a1,a2)),end=\"\\n\\n\")\n",
    "a1=np.random.randint(1,10,(2,2))\n",
    "a2=np.random.randint(1,10,(2,2))\n",
    "print(a1)\n",
    "print(a2)\n",
    "print(np.hstack((a1,a2)))"
   ]
  },
  {
   "cell_type": "markdown",
   "id": "0e235842",
   "metadata": {},
   "source": [
    "### Ravel and Flatten"
   ]
  },
  {
   "cell_type": "code",
   "execution_count": 38,
   "id": "0970e7c1",
   "metadata": {},
   "outputs": [
    {
     "name": "stdout",
     "output_type": "stream",
     "text": [
      "[[3 4 8]\n",
      " [5 6 5]]\n",
      "Dimensions is:  2\n",
      "[3 4 8 5 6 5]\n",
      "Dimensions is: 1\n",
      "[[100   4   8]\n",
      " [  5   6   5]]\n"
     ]
    }
   ],
   "source": [
    "a=np.array([[3,4,8],[5,6,5]])\n",
    "print(a)\n",
    "print('Dimensions is: ',a.ndim)\n",
    "b=a.ravel()\n",
    "print(b)\n",
    "print(\"Dimensions is:\",b.ndim)\n",
    "b[0]=100 #changes original array also\n",
    "print(a)"
   ]
  },
  {
   "cell_type": "code",
   "execution_count": 39,
   "id": "caaca7b9",
   "metadata": {},
   "outputs": [
    {
     "name": "stdout",
     "output_type": "stream",
     "text": [
      "[[3 4 8]\n",
      " [5 6 5]]\n",
      "Dimensions is:  2\n",
      "[3 4 8 5 6 5]\n",
      "Dimensions is: 1\n",
      "[[3 4 8]\n",
      " [5 6 5]]\n"
     ]
    }
   ],
   "source": [
    "a=np.array([[3,4,8],[5,6,5]])\n",
    "print(a)\n",
    "print('Dimensions is: ',a.ndim)\n",
    "b=a.flatten()\n",
    "print(b)\n",
    "print(\"Dimensions is:\",b.ndim)\n",
    "b[0]=100 #does not affect original array\n",
    "print(a)"
   ]
  },
  {
   "cell_type": "markdown",
   "id": "bb7faaeb",
   "metadata": {},
   "source": [
    "### Pandas:\n",
    "- pandas stands for 'python data analysis library\"\n",
    "- It is an open source library \n",
    "- It is excellent tool for Data processing and analyzing real world data\n",
    "\n",
    "- pandas has two different Data Structures:\n",
    "    1. Series Data Structure\n",
    "    2. DataFrame data Structure\n",
    "    \n",
    "- Series Data Structure \n",
    "         - It is mainly used to create 1d with named array with named index\n",
    "- DataFrame data Structure\n",
    "         - It is minly used to create 2d array in format of rows and columns\n",
    "- Pandas is mainly used for data analysis and data manipulations\n",
    "- By using pandas we read large amt of data like .. excel,csv , tabular\n",
    "\n"
   ]
  },
  {
   "cell_type": "markdown",
   "id": "d5bca123",
   "metadata": {},
   "source": [
    "### Series Data Structure\n",
    "    - creating series object using list,tuple,dictionary and also numpy array\n",
    "        - Create pandas series from array-like object using pd.Series()\n",
    "        - syntax : pd.Series(list,tuple,dic,numpy_array,indexnames)\n",
    "        - the number of elements in index list is always equal to the number of elements in specified series\n",
    "        "
   ]
  },
  {
   "cell_type": "code",
   "execution_count": 40,
   "id": "f846852f",
   "metadata": {},
   "outputs": [],
   "source": [
    "import pandas as pd"
   ]
  },
  {
   "cell_type": "code",
   "execution_count": 45,
   "id": "4949d488",
   "metadata": {},
   "outputs": [
    {
     "name": "stdout",
     "output_type": "stream",
     "text": [
      "0    1\n",
      "1    2\n",
      "2    3\n",
      "dtype: int64\n",
      "<class 'pandas.core.series.Series'>\n"
     ]
    }
   ],
   "source": [
    "#creation of Series Data Structure using list\n",
    "l=[1,2,3]\n",
    "k=pd.Series(l)\n",
    "print(k)\n",
    "print(type(k))"
   ]
  },
  {
   "cell_type": "code",
   "execution_count": 46,
   "id": "147d1c14",
   "metadata": {},
   "outputs": [
    {
     "name": "stdout",
     "output_type": "stream",
     "text": [
      "A    1\n",
      "B    2\n",
      "C    3\n",
      "dtype: int64\n"
     ]
    }
   ],
   "source": [
    "k.index=['A','B','C']  #changes the index\n",
    "print(k)"
   ]
  },
  {
   "cell_type": "code",
   "execution_count": 55,
   "id": "00c48a5a",
   "metadata": {},
   "outputs": [
    {
     "name": "stdout",
     "output_type": "stream",
     "text": [
      "A        23\n",
      "B    Python\n",
      "C      24.5\n",
      "D        89\n",
      "dtype: object\n",
      "<class 'pandas.core.series.Series'>\n"
     ]
    }
   ],
   "source": [
    "k2=pd.Series([23,'Python',24.5,89],index=['A','B','C','D'])\n",
    "print(k2)\n",
    "print(type(k2))"
   ]
  },
  {
   "cell_type": "code",
   "execution_count": 59,
   "id": "8d7ae730",
   "metadata": {},
   "outputs": [
    {
     "name": "stdout",
     "output_type": "stream",
     "text": [
      "name      asish\n",
      "branch      cse\n",
      "dtype: object\n"
     ]
    }
   ],
   "source": [
    "d1={'name':\"asish\",'branch':'cse'}\n",
    "k=pd.Series(d1)\n",
    "print(k)"
   ]
  },
  {
   "cell_type": "code",
   "execution_count": 60,
   "id": "da26e83b",
   "metadata": {},
   "outputs": [
    {
     "data": {
      "text/plain": [
       "0    10\n",
       "1    20\n",
       "2    30\n",
       "dtype: int64"
      ]
     },
     "execution_count": 60,
     "metadata": {},
     "output_type": "execute_result"
    }
   ],
   "source": [
    "sd4=pd.Series((10,20,30))\n",
    "sd4"
   ]
  },
  {
   "cell_type": "markdown",
   "id": "e806ab18",
   "metadata": {},
   "source": [
    "### Series Indexing :\n",
    "- To get data from series..\n",
    "- To access the values from a series"
   ]
  },
  {
   "cell_type": "code",
   "execution_count": 63,
   "id": "321156a7",
   "metadata": {},
   "outputs": [
    {
     "data": {
      "text/plain": [
       "'asish'"
      ]
     },
     "execution_count": 63,
     "metadata": {},
     "output_type": "execute_result"
    }
   ],
   "source": [
    "k['name']"
   ]
  },
  {
   "cell_type": "code",
   "execution_count": 67,
   "id": "c82ee884",
   "metadata": {},
   "outputs": [
    {
     "data": {
      "text/plain": [
       "0    10\n",
       "1    20\n",
       "dtype: int64"
      ]
     },
     "execution_count": 67,
     "metadata": {},
     "output_type": "execute_result"
    }
   ],
   "source": [
    "sd4[:2] #upto 2"
   ]
  },
  {
   "cell_type": "code",
   "execution_count": 68,
   "id": "000b388c",
   "metadata": {},
   "outputs": [
    {
     "data": {
      "text/plain": [
       "2    30\n",
       "1    20\n",
       "0    10\n",
       "dtype: int64"
      ]
     },
     "execution_count": 68,
     "metadata": {},
     "output_type": "execute_result"
    }
   ],
   "source": [
    "sd4[::-1]"
   ]
  },
  {
   "cell_type": "code",
   "execution_count": 3,
   "id": "5497b6b7",
   "metadata": {},
   "outputs": [
    {
     "name": "stdout",
     "output_type": "stream",
     "text": [
      "0               10\n",
      "1           Python\n",
      "2    data analysis\n",
      "3               60\n",
      "dtype: object\n"
     ]
    }
   ],
   "source": [
    "import pandas as pd\n",
    "sd1=pd.Series([10,'Python','data analysis',60])\n",
    "print(sd1)"
   ]
  },
  {
   "cell_type": "code",
   "execution_count": 5,
   "id": "d3c7f619",
   "metadata": {},
   "outputs": [
    {
     "data": {
      "text/plain": [
       "0               10\n",
       "1                2\n",
       "2    data analysis\n",
       "3               60\n",
       "dtype: object"
      ]
     },
     "execution_count": 5,
     "metadata": {},
     "output_type": "execute_result"
    }
   ],
   "source": [
    "sd1=sd1.replace('Python',2)\n",
    "sd1"
   ]
  },
  {
   "cell_type": "code",
   "execution_count": 6,
   "id": "02275e6f",
   "metadata": {},
   "outputs": [
    {
     "ename": "NameError",
     "evalue": "name 'to_replace' is not defined",
     "output_type": "error",
     "traceback": [
      "\u001b[1;31m---------------------------------------------------------------------------\u001b[0m",
      "\u001b[1;31mNameError\u001b[0m                                 Traceback (most recent call last)",
      "Input \u001b[1;32mIn [6]\u001b[0m, in \u001b[0;36m<cell line: 1>\u001b[1;34m()\u001b[0m\n\u001b[1;32m----> 1\u001b[0m sd1\u001b[38;5;241m=\u001b[39msd1\u001b[38;5;241m.\u001b[39mreplace(\u001b[43mto_replace\u001b[49m([\u001b[38;5;124m'\u001b[39m\u001b[38;5;124mpython\u001b[39m\u001b[38;5;124m'\u001b[39m]),values\u001b[38;5;241m=\u001b[39m([\u001b[38;5;241m2\u001b[39m]))\n\u001b[0;32m      2\u001b[0m sd1\n",
      "\u001b[1;31mNameError\u001b[0m: name 'to_replace' is not defined"
     ]
    }
   ],
   "source": [
    "sd1=sd1.replace(to_replace(['python']),values=([2]))\n",
    "sd1"
   ]
  },
  {
   "cell_type": "code",
   "execution_count": 7,
   "id": "d063532e",
   "metadata": {},
   "outputs": [
    {
     "data": {
      "text/plain": [
       "0               10\n",
       "1                2\n",
       "2    data analysis\n",
       "3               60\n",
       "dtype: object"
      ]
     },
     "execution_count": 7,
     "metadata": {},
     "output_type": "execute_result"
    }
   ],
   "source": [
    "sd1.drop(labels=1)  #does not overwrite original\n",
    "sd1"
   ]
  },
  {
   "cell_type": "code",
   "execution_count": 12,
   "id": "ee136f14",
   "metadata": {},
   "outputs": [
    {
     "data": {
      "text/plain": [
       "2    data analysis\n",
       "dtype: object"
      ]
     },
     "execution_count": 12,
     "metadata": {},
     "output_type": "execute_result"
    }
   ],
   "source": [
    "sd1.drop(labels=[0,3],inplace=True)  #does not overwrite original\n",
    "sd1"
   ]
  },
  {
   "cell_type": "markdown",
   "id": "4a39ffa5",
   "metadata": {},
   "source": [
    "- Task1: To create the series values having index values starts from 10 to 20 and values are squares of index values"
   ]
  },
  {
   "cell_type": "code",
   "execution_count": 20,
   "id": "bf2addc7",
   "metadata": {},
   "outputs": [],
   "source": [
    "index=[i for i in range(10,21)]\n",
    "values=[i**2 for i in index]\n",
    "sd=pd.Series(values,index)"
   ]
  },
  {
   "cell_type": "code",
   "execution_count": 25,
   "id": "1ee98e0c",
   "metadata": {},
   "outputs": [
    {
     "data": {
      "text/plain": [
       "array([169, 225, 324], dtype=int64)"
      ]
     },
     "execution_count": 25,
     "metadata": {},
     "output_type": "execute_result"
    }
   ],
   "source": [
    "sd[[13,15,18]]"
   ]
  },
  {
   "cell_type": "code",
   "execution_count": 29,
   "id": "a84ed398",
   "metadata": {},
   "outputs": [
    {
     "name": "stderr",
     "output_type": "stream",
     "text": [
      "C:\\Users\\kello\\AppData\\Local\\Temp\\ipykernel_10932\\29100509.py:1: FutureWarning: The series.append method is deprecated and will be removed from pandas in a future version. Use pandas.concat instead.\n",
      "  sd.append(pd.Series([234],index=[21]))\n"
     ]
    },
    {
     "data": {
      "text/plain": [
       "10    100\n",
       "11    121\n",
       "12    144\n",
       "13    169\n",
       "14    196\n",
       "15    225\n",
       "16    256\n",
       "17    289\n",
       "18    324\n",
       "19    361\n",
       "20    400\n",
       "21    234\n",
       "dtype: int64"
      ]
     },
     "execution_count": 29,
     "metadata": {},
     "output_type": "execute_result"
    }
   ],
   "source": [
    "sd=sd.append(pd.Series([234],index=[21]))"
   ]
  },
  {
   "cell_type": "code",
   "execution_count": 32,
   "id": "ecc94f89",
   "metadata": {},
   "outputs": [
    {
     "name": "stderr",
     "output_type": "stream",
     "text": [
      "C:\\Users\\kello\\AppData\\Local\\Temp\\ipykernel_10932\\3837611791.py:1: FutureWarning: The series.append method is deprecated and will be removed from pandas in a future version. Use pandas.concat instead.\n",
      "  sd=sd.append(pd.Series([234]))\n"
     ]
    },
    {
     "data": {
      "text/plain": [
       "10    100\n",
       "11    121\n",
       "12    144\n",
       "13    169\n",
       "14    196\n",
       "15    225\n",
       "16    256\n",
       "17    289\n",
       "18    324\n",
       "19    361\n",
       "20    400\n",
       "0     234\n",
       "0     234\n",
       "dtype: int64"
      ]
     },
     "execution_count": 32,
     "metadata": {},
     "output_type": "execute_result"
    }
   ],
   "source": [
    "sd=sd.append(pd.Series([234]))\n",
    "sd\n"
   ]
  },
  {
   "cell_type": "code",
   "execution_count": 41,
   "id": "57286aba",
   "metadata": {},
   "outputs": [
    {
     "name": "stdout",
     "output_type": "stream",
     "text": [
      "0     100\n",
      "1     121\n",
      "2     144\n",
      "3     169\n",
      "4     196\n",
      "5     225\n",
      "6     256\n",
      "7     289\n",
      "8     324\n",
      "9     361\n",
      "10    400\n",
      "11    234\n",
      "12    234\n",
      "dtype: int64\n"
     ]
    }
   ],
   "source": [
    "sd.index=[i for i in range(13)]\n",
    "print(sd)"
   ]
  },
  {
   "attachments": {
    "image.png": {
     "image/png": "[encoded data removed]"
    }
   },
   "cell_type": "markdown",
   "id": "311e233d",
   "metadata": {},
   "source": [
    "![image.png](attachment:image.png)"
   ]
  },
  {
   "cell_type": "markdown",
   "id": "2d70bbb6",
   "metadata": {},
   "source": [
    "### DataFrame  in Pandas\n",
    "- DataFrame is used to store the data in form of rows and columns\n",
    "- It is similar to 2d array\n",
    "- To create the dataframe using dictionary,2-D numpy.\n",
    "- Dataframe are imported as .csv files,.txt,.excel etc\n"
   ]
  },
  {
   "cell_type": "code",
   "execution_count": 35,
   "id": "5be3af1d",
   "metadata": {},
   "outputs": [],
   "source": [
    "import pandas as pd"
   ]
  },
  {
   "cell_type": "code",
   "execution_count": 3,
   "id": "1367c36e",
   "metadata": {},
   "outputs": [
    {
     "data": {
      "text/html": [
       "<div>\n",
       "<style scoped>\n",
       "    .dataframe tbody tr th:only-of-type {\n",
       "        vertical-align: middle;\n",
       "    }\n",
       "\n",
       "    .dataframe tbody tr th {\n",
       "        vertical-align: top;\n",
       "    }\n",
       "\n",
       "    .dataframe thead th {\n",
       "        text-align: right;\n",
       "    }\n",
       "</style>\n",
       "<table border=\"1\" class=\"dataframe\">\n",
       "  <thead>\n",
       "    <tr style=\"text-align: right;\">\n",
       "      <th></th>\n",
       "      <th>Nme</th>\n",
       "      <th>r.no</th>\n",
       "      <th>branch</th>\n",
       "    </tr>\n",
       "  </thead>\n",
       "  <tbody>\n",
       "    <tr>\n",
       "      <th>0</th>\n",
       "      <td>mani</td>\n",
       "      <td>1</td>\n",
       "      <td>cse</td>\n",
       "    </tr>\n",
       "    <tr>\n",
       "      <th>1</th>\n",
       "      <td>krishna</td>\n",
       "      <td>2</td>\n",
       "      <td>ece</td>\n",
       "    </tr>\n",
       "    <tr>\n",
       "      <th>2</th>\n",
       "      <td>rajiv</td>\n",
       "      <td>3</td>\n",
       "      <td>mec</td>\n",
       "    </tr>\n",
       "  </tbody>\n",
       "</table>\n",
       "</div>"
      ],
      "text/plain": [
       "       Nme  r.no branch\n",
       "0     mani     1    cse\n",
       "1  krishna     2    ece\n",
       "2    rajiv     3    mec"
      ]
     },
     "execution_count": 3,
     "metadata": {},
     "output_type": "execute_result"
    }
   ],
   "source": [
    "d={'Nme':['mani','krishna','rajiv'],'r.no':[1,2,3],'branch':['cse','ece','mec']}\n",
    "df=pd.DataFrame(d)\n",
    "df"
   ]
  },
  {
   "cell_type": "code",
   "execution_count": 34,
   "id": "fd038f1e",
   "metadata": {},
   "outputs": [],
   "source": [
    "import numpy as np"
   ]
  },
  {
   "cell_type": "code",
   "execution_count": 5,
   "id": "a9801a2d",
   "metadata": {},
   "outputs": [
    {
     "name": "stdout",
     "output_type": "stream",
     "text": [
      "[[1 2 3]\n",
      " [4 5 6]]\n"
     ]
    }
   ],
   "source": [
    "#to create Dataframe using 2d numpy array\n",
    "n1=np.array([[1,2,3],[4,5,6]])\n",
    "print(np.matrix(n1))"
   ]
  },
  {
   "cell_type": "code",
   "execution_count": 6,
   "id": "db272190",
   "metadata": {},
   "outputs": [
    {
     "data": {
      "text/html": [
       "<div>\n",
       "<style scoped>\n",
       "    .dataframe tbody tr th:only-of-type {\n",
       "        vertical-align: middle;\n",
       "    }\n",
       "\n",
       "    .dataframe tbody tr th {\n",
       "        vertical-align: top;\n",
       "    }\n",
       "\n",
       "    .dataframe thead th {\n",
       "        text-align: right;\n",
       "    }\n",
       "</style>\n",
       "<table border=\"1\" class=\"dataframe\">\n",
       "  <thead>\n",
       "    <tr style=\"text-align: right;\">\n",
       "      <th></th>\n",
       "      <th>0</th>\n",
       "      <th>1</th>\n",
       "      <th>2</th>\n",
       "    </tr>\n",
       "  </thead>\n",
       "  <tbody>\n",
       "    <tr>\n",
       "      <th>0</th>\n",
       "      <td>1</td>\n",
       "      <td>2</td>\n",
       "      <td>3</td>\n",
       "    </tr>\n",
       "    <tr>\n",
       "      <th>1</th>\n",
       "      <td>4</td>\n",
       "      <td>5</td>\n",
       "      <td>6</td>\n",
       "    </tr>\n",
       "  </tbody>\n",
       "</table>\n",
       "</div>"
      ],
      "text/plain": [
       "   0  1  2\n",
       "0  1  2  3\n",
       "1  4  5  6"
      ]
     },
     "execution_count": 6,
     "metadata": {},
     "output_type": "execute_result"
    }
   ],
   "source": [
    "df=pd.DataFrame(n1)\n",
    "df"
   ]
  },
  {
   "cell_type": "code",
   "execution_count": 7,
   "id": "1f358d09",
   "metadata": {},
   "outputs": [
    {
     "data": {
      "text/html": [
       "<div>\n",
       "<style scoped>\n",
       "    .dataframe tbody tr th:only-of-type {\n",
       "        vertical-align: middle;\n",
       "    }\n",
       "\n",
       "    .dataframe tbody tr th {\n",
       "        vertical-align: top;\n",
       "    }\n",
       "\n",
       "    .dataframe thead th {\n",
       "        text-align: right;\n",
       "    }\n",
       "</style>\n",
       "<table border=\"1\" class=\"dataframe\">\n",
       "  <thead>\n",
       "    <tr style=\"text-align: right;\">\n",
       "      <th></th>\n",
       "      <th>Nme</th>\n",
       "      <th>rno</th>\n",
       "      <th>branch</th>\n",
       "    </tr>\n",
       "  </thead>\n",
       "  <tbody>\n",
       "    <tr>\n",
       "      <th>0</th>\n",
       "      <td>mani</td>\n",
       "      <td>560</td>\n",
       "      <td>cse</td>\n",
       "    </tr>\n",
       "    <tr>\n",
       "      <th>1</th>\n",
       "      <td>krishna</td>\n",
       "      <td>561</td>\n",
       "      <td>ece</td>\n",
       "    </tr>\n",
       "    <tr>\n",
       "      <th>2</th>\n",
       "      <td>rajiv</td>\n",
       "      <td>563</td>\n",
       "      <td>mec</td>\n",
       "    </tr>\n",
       "  </tbody>\n",
       "</table>\n",
       "</div>"
      ],
      "text/plain": [
       "       Nme  rno branch\n",
       "0     mani  560    cse\n",
       "1  krishna  561    ece\n",
       "2    rajiv  563    mec"
      ]
     },
     "execution_count": 7,
     "metadata": {},
     "output_type": "execute_result"
    }
   ],
   "source": [
    "d={'Nme':['mani','krishna','rajiv'],'rno':[560,561,563],'branch':['cse','ece','mec']}\n",
    "df=pd.DataFrame(d)\n",
    "df"
   ]
  },
  {
   "cell_type": "code",
   "execution_count": 8,
   "id": "f397ec98",
   "metadata": {},
   "outputs": [
    {
     "data": {
      "text/plain": [
       "Index(['Nme', 'rno', 'branch'], dtype='object')"
      ]
     },
     "execution_count": 8,
     "metadata": {},
     "output_type": "execute_result"
    }
   ],
   "source": [
    "# to print columns\n",
    "df.columns"
   ]
  },
  {
   "cell_type": "code",
   "execution_count": 9,
   "id": "8ea3cb77",
   "metadata": {},
   "outputs": [
    {
     "data": {
      "text/plain": [
       "array([['mani', 560, 'cse'],\n",
       "       ['krishna', 561, 'ece'],\n",
       "       ['rajiv', 563, 'mec']], dtype=object)"
      ]
     },
     "execution_count": 9,
     "metadata": {},
     "output_type": "execute_result"
    }
   ],
   "source": [
    "# to print dataframe row values\n",
    "df.values"
   ]
  },
  {
   "cell_type": "code",
   "execution_count": 10,
   "id": "4dc77341",
   "metadata": {},
   "outputs": [
    {
     "name": "stdout",
     "output_type": "stream",
     "text": [
      "RangeIndex(start=0, stop=3, step=1)\n"
     ]
    }
   ],
   "source": [
    "# to print data frame index names\n",
    "print(df.index)"
   ]
  },
  {
   "cell_type": "code",
   "execution_count": null,
   "id": "62943209",
   "metadata": {},
   "outputs": [],
   "source": []
  },
  {
   "cell_type": "code",
   "execution_count": 11,
   "id": "e95c5252",
   "metadata": {},
   "outputs": [
    {
     "data": {
      "text/plain": [
       "(3, 3)"
      ]
     },
     "execution_count": 11,
     "metadata": {},
     "output_type": "execute_result"
    }
   ],
   "source": [
    "# to print number of rows and columns\n",
    "# print(df.values.count())  does not work\n",
    "df.shape"
   ]
  },
  {
   "cell_type": "markdown",
   "id": "95db0d30",
   "metadata": {},
   "source": [
    "### Pandas Indexing\n",
    "- to get data from df"
   ]
  },
  {
   "cell_type": "code",
   "execution_count": 12,
   "id": "0d87e3ac",
   "metadata": {},
   "outputs": [
    {
     "data": {
      "text/plain": [
       "0       mani\n",
       "1    krishna\n",
       "2      rajiv\n",
       "Name: Nme, dtype: object"
      ]
     },
     "execution_count": 12,
     "metadata": {},
     "output_type": "execute_result"
    }
   ],
   "source": [
    "# to print specific column name\n",
    "df['Nme']"
   ]
  },
  {
   "cell_type": "code",
   "execution_count": 13,
   "id": "9b838c6b",
   "metadata": {},
   "outputs": [
    {
     "data": {
      "text/html": [
       "<div>\n",
       "<style scoped>\n",
       "    .dataframe tbody tr th:only-of-type {\n",
       "        vertical-align: middle;\n",
       "    }\n",
       "\n",
       "    .dataframe tbody tr th {\n",
       "        vertical-align: top;\n",
       "    }\n",
       "\n",
       "    .dataframe thead th {\n",
       "        text-align: right;\n",
       "    }\n",
       "</style>\n",
       "<table border=\"1\" class=\"dataframe\">\n",
       "  <thead>\n",
       "    <tr style=\"text-align: right;\">\n",
       "      <th></th>\n",
       "      <th>Nme</th>\n",
       "      <th>branch</th>\n",
       "    </tr>\n",
       "  </thead>\n",
       "  <tbody>\n",
       "    <tr>\n",
       "      <th>0</th>\n",
       "      <td>mani</td>\n",
       "      <td>cse</td>\n",
       "    </tr>\n",
       "    <tr>\n",
       "      <th>1</th>\n",
       "      <td>krishna</td>\n",
       "      <td>ece</td>\n",
       "    </tr>\n",
       "    <tr>\n",
       "      <th>2</th>\n",
       "      <td>rajiv</td>\n",
       "      <td>mec</td>\n",
       "    </tr>\n",
       "  </tbody>\n",
       "</table>\n",
       "</div>"
      ],
      "text/plain": [
       "       Nme branch\n",
       "0     mani    cse\n",
       "1  krishna    ece\n",
       "2    rajiv    mec"
      ]
     },
     "execution_count": 13,
     "metadata": {},
     "output_type": "execute_result"
    }
   ],
   "source": [
    "# to print multiple columns\n",
    "df[['Nme','branch']]"
   ]
  },
  {
   "cell_type": "code",
   "execution_count": 14,
   "id": "221dfc0b",
   "metadata": {},
   "outputs": [
    {
     "data": {
      "text/html": [
       "<div>\n",
       "<style scoped>\n",
       "    .dataframe tbody tr th:only-of-type {\n",
       "        vertical-align: middle;\n",
       "    }\n",
       "\n",
       "    .dataframe tbody tr th {\n",
       "        vertical-align: top;\n",
       "    }\n",
       "\n",
       "    .dataframe thead th {\n",
       "        text-align: right;\n",
       "    }\n",
       "</style>\n",
       "<table border=\"1\" class=\"dataframe\">\n",
       "  <thead>\n",
       "    <tr style=\"text-align: right;\">\n",
       "      <th></th>\n",
       "      <th>Nme</th>\n",
       "      <th>rno</th>\n",
       "      <th>branch</th>\n",
       "    </tr>\n",
       "  </thead>\n",
       "  <tbody>\n",
       "    <tr>\n",
       "      <th>0</th>\n",
       "      <td>mani</td>\n",
       "      <td>560</td>\n",
       "      <td>cse</td>\n",
       "    </tr>\n",
       "    <tr>\n",
       "      <th>1</th>\n",
       "      <td>krishna</td>\n",
       "      <td>561</td>\n",
       "      <td>ece</td>\n",
       "    </tr>\n",
       "  </tbody>\n",
       "</table>\n",
       "</div>"
      ],
      "text/plain": [
       "       Nme  rno branch\n",
       "0     mani  560    cse\n",
       "1  krishna  561    ece"
      ]
     },
     "execution_count": 14,
     "metadata": {},
     "output_type": "execute_result"
    }
   ],
   "source": [
    "df.head(2)"
   ]
  },
  {
   "cell_type": "code",
   "execution_count": 15,
   "id": "7b0f7680",
   "metadata": {},
   "outputs": [
    {
     "data": {
      "text/html": [
       "<div>\n",
       "<style scoped>\n",
       "    .dataframe tbody tr th:only-of-type {\n",
       "        vertical-align: middle;\n",
       "    }\n",
       "\n",
       "    .dataframe tbody tr th {\n",
       "        vertical-align: top;\n",
       "    }\n",
       "\n",
       "    .dataframe thead th {\n",
       "        text-align: right;\n",
       "    }\n",
       "</style>\n",
       "<table border=\"1\" class=\"dataframe\">\n",
       "  <thead>\n",
       "    <tr style=\"text-align: right;\">\n",
       "      <th></th>\n",
       "      <th>Nme</th>\n",
       "      <th>rno</th>\n",
       "      <th>branch</th>\n",
       "    </tr>\n",
       "  </thead>\n",
       "  <tbody>\n",
       "    <tr>\n",
       "      <th>0</th>\n",
       "      <td>mani</td>\n",
       "      <td>560</td>\n",
       "      <td>cse</td>\n",
       "    </tr>\n",
       "    <tr>\n",
       "      <th>1</th>\n",
       "      <td>krishna</td>\n",
       "      <td>561</td>\n",
       "      <td>ece</td>\n",
       "    </tr>\n",
       "  </tbody>\n",
       "</table>\n",
       "</div>"
      ],
      "text/plain": [
       "       Nme  rno branch\n",
       "0     mani  560    cse\n",
       "1  krishna  561    ece"
      ]
     },
     "execution_count": 15,
     "metadata": {},
     "output_type": "execute_result"
    }
   ],
   "source": [
    "\n",
    "df.head(-1) #for last record does not work"
   ]
  },
  {
   "cell_type": "code",
   "execution_count": 16,
   "id": "844e9d0a",
   "metadata": {},
   "outputs": [
    {
     "data": {
      "text/html": [
       "<div>\n",
       "<style scoped>\n",
       "    .dataframe tbody tr th:only-of-type {\n",
       "        vertical-align: middle;\n",
       "    }\n",
       "\n",
       "    .dataframe tbody tr th {\n",
       "        vertical-align: top;\n",
       "    }\n",
       "\n",
       "    .dataframe thead th {\n",
       "        text-align: right;\n",
       "    }\n",
       "</style>\n",
       "<table border=\"1\" class=\"dataframe\">\n",
       "  <thead>\n",
       "    <tr style=\"text-align: right;\">\n",
       "      <th></th>\n",
       "      <th>Nme</th>\n",
       "      <th>rno</th>\n",
       "      <th>branch</th>\n",
       "    </tr>\n",
       "  </thead>\n",
       "  <tbody>\n",
       "    <tr>\n",
       "      <th>0</th>\n",
       "      <td>mani</td>\n",
       "      <td>560</td>\n",
       "      <td>cse</td>\n",
       "    </tr>\n",
       "    <tr>\n",
       "      <th>1</th>\n",
       "      <td>krishna</td>\n",
       "      <td>561</td>\n",
       "      <td>ece</td>\n",
       "    </tr>\n",
       "    <tr>\n",
       "      <th>2</th>\n",
       "      <td>rajiv</td>\n",
       "      <td>563</td>\n",
       "      <td>mec</td>\n",
       "    </tr>\n",
       "  </tbody>\n",
       "</table>\n",
       "</div>"
      ],
      "text/plain": [
       "       Nme  rno branch\n",
       "0     mani  560    cse\n",
       "1  krishna  561    ece\n",
       "2    rajiv  563    mec"
      ]
     },
     "execution_count": 16,
     "metadata": {},
     "output_type": "execute_result"
    }
   ],
   "source": [
    "df.tail()  #prints last 5 records"
   ]
  },
  {
   "cell_type": "code",
   "execution_count": 17,
   "id": "4ee18f78",
   "metadata": {},
   "outputs": [
    {
     "data": {
      "text/html": [
       "<div>\n",
       "<style scoped>\n",
       "    .dataframe tbody tr th:only-of-type {\n",
       "        vertical-align: middle;\n",
       "    }\n",
       "\n",
       "    .dataframe tbody tr th {\n",
       "        vertical-align: top;\n",
       "    }\n",
       "\n",
       "    .dataframe thead th {\n",
       "        text-align: right;\n",
       "    }\n",
       "</style>\n",
       "<table border=\"1\" class=\"dataframe\">\n",
       "  <thead>\n",
       "    <tr style=\"text-align: right;\">\n",
       "      <th></th>\n",
       "      <th>Nme</th>\n",
       "      <th>rno</th>\n",
       "      <th>branch</th>\n",
       "    </tr>\n",
       "  </thead>\n",
       "  <tbody>\n",
       "    <tr>\n",
       "      <th>1</th>\n",
       "      <td>krishna</td>\n",
       "      <td>561</td>\n",
       "      <td>ece</td>\n",
       "    </tr>\n",
       "    <tr>\n",
       "      <th>2</th>\n",
       "      <td>rajiv</td>\n",
       "      <td>563</td>\n",
       "      <td>mec</td>\n",
       "    </tr>\n",
       "  </tbody>\n",
       "</table>\n",
       "</div>"
      ],
      "text/plain": [
       "       Nme  rno branch\n",
       "1  krishna  561    ece\n",
       "2    rajiv  563    mec"
      ]
     },
     "execution_count": 17,
     "metadata": {},
     "output_type": "execute_result"
    }
   ],
   "source": [
    "df.tail(-1)"
   ]
  },
  {
   "cell_type": "code",
   "execution_count": 18,
   "id": "9368bdf1",
   "metadata": {},
   "outputs": [
    {
     "ename": "KeyError",
     "evalue": "'r.no'",
     "output_type": "error",
     "traceback": [
      "\u001b[1;31m---------------------------------------------------------------------------\u001b[0m",
      "\u001b[1;31mKeyError\u001b[0m                                  Traceback (most recent call last)",
      "File \u001b[1;32m~\\anaconda3\\lib\\site-packages\\pandas\\core\\indexes\\base.py:3621\u001b[0m, in \u001b[0;36mIndex.get_loc\u001b[1;34m(self, key, method, tolerance)\u001b[0m\n\u001b[0;32m   3620\u001b[0m \u001b[38;5;28;01mtry\u001b[39;00m:\n\u001b[1;32m-> 3621\u001b[0m     \u001b[38;5;28;01mreturn\u001b[39;00m \u001b[38;5;28;43mself\u001b[39;49m\u001b[38;5;241;43m.\u001b[39;49m\u001b[43m_engine\u001b[49m\u001b[38;5;241;43m.\u001b[39;49m\u001b[43mget_loc\u001b[49m\u001b[43m(\u001b[49m\u001b[43mcasted_key\u001b[49m\u001b[43m)\u001b[49m\n\u001b[0;32m   3622\u001b[0m \u001b[38;5;28;01mexcept\u001b[39;00m \u001b[38;5;167;01mKeyError\u001b[39;00m \u001b[38;5;28;01mas\u001b[39;00m err:\n",
      "File \u001b[1;32m~\\anaconda3\\lib\\site-packages\\pandas\\_libs\\index.pyx:136\u001b[0m, in \u001b[0;36mpandas._libs.index.IndexEngine.get_loc\u001b[1;34m()\u001b[0m\n",
      "File \u001b[1;32m~\\anaconda3\\lib\\site-packages\\pandas\\_libs\\index.pyx:163\u001b[0m, in \u001b[0;36mpandas._libs.index.IndexEngine.get_loc\u001b[1;34m()\u001b[0m\n",
      "File \u001b[1;32mpandas\\_libs\\hashtable_class_helper.pxi:5198\u001b[0m, in \u001b[0;36mpandas._libs.hashtable.PyObjectHashTable.get_item\u001b[1;34m()\u001b[0m\n",
      "File \u001b[1;32mpandas\\_libs\\hashtable_class_helper.pxi:5206\u001b[0m, in \u001b[0;36mpandas._libs.hashtable.PyObjectHashTable.get_item\u001b[1;34m()\u001b[0m\n",
      "\u001b[1;31mKeyError\u001b[0m: 'r.no'",
      "\nThe above exception was the direct cause of the following exception:\n",
      "\u001b[1;31mKeyError\u001b[0m                                  Traceback (most recent call last)",
      "Input \u001b[1;32mIn [18]\u001b[0m, in \u001b[0;36m<cell line: 1>\u001b[1;34m()\u001b[0m\n\u001b[1;32m----> 1\u001b[0m \u001b[43mdf\u001b[49m\u001b[38;5;241;43m.\u001b[39;49m\u001b[43mhead\u001b[49m\u001b[43m(\u001b[49m\u001b[38;5;241;43m1\u001b[39;49m\u001b[43m)\u001b[49m\u001b[43m[\u001b[49m\u001b[38;5;124;43m'\u001b[39;49m\u001b[38;5;124;43mr.no\u001b[39;49m\u001b[38;5;124;43m'\u001b[39;49m\u001b[43m]\u001b[49m\n",
      "File \u001b[1;32m~\\anaconda3\\lib\\site-packages\\pandas\\core\\frame.py:3505\u001b[0m, in \u001b[0;36mDataFrame.__getitem__\u001b[1;34m(self, key)\u001b[0m\n\u001b[0;32m   3503\u001b[0m \u001b[38;5;28;01mif\u001b[39;00m \u001b[38;5;28mself\u001b[39m\u001b[38;5;241m.\u001b[39mcolumns\u001b[38;5;241m.\u001b[39mnlevels \u001b[38;5;241m>\u001b[39m \u001b[38;5;241m1\u001b[39m:\n\u001b[0;32m   3504\u001b[0m     \u001b[38;5;28;01mreturn\u001b[39;00m \u001b[38;5;28mself\u001b[39m\u001b[38;5;241m.\u001b[39m_getitem_multilevel(key)\n\u001b[1;32m-> 3505\u001b[0m indexer \u001b[38;5;241m=\u001b[39m \u001b[38;5;28;43mself\u001b[39;49m\u001b[38;5;241;43m.\u001b[39;49m\u001b[43mcolumns\u001b[49m\u001b[38;5;241;43m.\u001b[39;49m\u001b[43mget_loc\u001b[49m\u001b[43m(\u001b[49m\u001b[43mkey\u001b[49m\u001b[43m)\u001b[49m\n\u001b[0;32m   3506\u001b[0m \u001b[38;5;28;01mif\u001b[39;00m is_integer(indexer):\n\u001b[0;32m   3507\u001b[0m     indexer \u001b[38;5;241m=\u001b[39m [indexer]\n",
      "File \u001b[1;32m~\\anaconda3\\lib\\site-packages\\pandas\\core\\indexes\\base.py:3623\u001b[0m, in \u001b[0;36mIndex.get_loc\u001b[1;34m(self, key, method, tolerance)\u001b[0m\n\u001b[0;32m   3621\u001b[0m     \u001b[38;5;28;01mreturn\u001b[39;00m \u001b[38;5;28mself\u001b[39m\u001b[38;5;241m.\u001b[39m_engine\u001b[38;5;241m.\u001b[39mget_loc(casted_key)\n\u001b[0;32m   3622\u001b[0m \u001b[38;5;28;01mexcept\u001b[39;00m \u001b[38;5;167;01mKeyError\u001b[39;00m \u001b[38;5;28;01mas\u001b[39;00m err:\n\u001b[1;32m-> 3623\u001b[0m     \u001b[38;5;28;01mraise\u001b[39;00m \u001b[38;5;167;01mKeyError\u001b[39;00m(key) \u001b[38;5;28;01mfrom\u001b[39;00m \u001b[38;5;21;01merr\u001b[39;00m\n\u001b[0;32m   3624\u001b[0m \u001b[38;5;28;01mexcept\u001b[39;00m \u001b[38;5;167;01mTypeError\u001b[39;00m:\n\u001b[0;32m   3625\u001b[0m     \u001b[38;5;66;03m# If we have a listlike key, _check_indexing_error will raise\u001b[39;00m\n\u001b[0;32m   3626\u001b[0m     \u001b[38;5;66;03m#  InvalidIndexError. Otherwise we fall through and re-raise\u001b[39;00m\n\u001b[0;32m   3627\u001b[0m     \u001b[38;5;66;03m#  the TypeError.\u001b[39;00m\n\u001b[0;32m   3628\u001b[0m     \u001b[38;5;28mself\u001b[39m\u001b[38;5;241m.\u001b[39m_check_indexing_error(key)\n",
      "\u001b[1;31mKeyError\u001b[0m: 'r.no'"
     ]
    }
   ],
   "source": [
    "df.head(1)['r.no']"
   ]
  },
  {
   "cell_type": "code",
   "execution_count": null,
   "id": "2d0b346d",
   "metadata": {},
   "outputs": [],
   "source": [
    "# to get specific value\n",
    "df.iloc[1,1]"
   ]
  },
  {
   "cell_type": "code",
   "execution_count": null,
   "id": "c56df613",
   "metadata": {},
   "outputs": [],
   "source": [
    "df.head(1)['r.no']"
   ]
  },
  {
   "cell_type": "code",
   "execution_count": null,
   "id": "9be70d62",
   "metadata": {},
   "outputs": [],
   "source": [
    "df.rno[1]"
   ]
  },
  {
   "cell_type": "code",
   "execution_count": null,
   "id": "2fb76684",
   "metadata": {},
   "outputs": [],
   "source": [
    "#to print whole row \n",
    "df.loc[(df['rno']==561)]"
   ]
  },
  {
   "cell_type": "code",
   "execution_count": null,
   "id": "c3b020d3",
   "metadata": {},
   "outputs": [],
   "source": [
    "k=df.head(2)\n",
    "k"
   ]
  },
  {
   "cell_type": "code",
   "execution_count": null,
   "id": "e1d270f2",
   "metadata": {
    "scrolled": true
   },
   "outputs": [],
   "source": [
    "df.iloc[(df['rno']==561)]"
   ]
  },
  {
   "cell_type": "code",
   "execution_count": null,
   "id": "d49689f2",
   "metadata": {},
   "outputs": [],
   "source": [
    "df.loc[df['rno'] == 561, :]"
   ]
  },
  {
   "cell_type": "code",
   "execution_count": null,
   "id": "366573d9",
   "metadata": {},
   "outputs": [],
   "source": [
    "df.loc[3]=['adyan',567,'hec']\n",
    "df"
   ]
  },
  {
   "cell_type": "code",
   "execution_count": null,
   "id": "97393542",
   "metadata": {},
   "outputs": [],
   "source": [
    "k=df.drop(3)\n",
    "print(k)\n",
    "k"
   ]
  },
  {
   "cell_type": "code",
   "execution_count": null,
   "id": "05b004c0",
   "metadata": {
    "scrolled": true
   },
   "outputs": [],
   "source": []
  },
  {
   "cell_type": "code",
   "execution_count": null,
   "id": "dcdcbb60",
   "metadata": {
    "scrolled": false
   },
   "outputs": [],
   "source": [
    "# df.append(['raghav',580,'cse'])\n",
    "df.append([['raghav',580,'cse']],ignore_index=True)"
   ]
  },
  {
   "cell_type": "code",
   "execution_count": null,
   "id": "1c2eb79a",
   "metadata": {
    "scrolled": false
   },
   "outputs": [],
   "source": [
    "df.drop([4,5,6],inplace=True)\n"
   ]
  },
  {
   "cell_type": "code",
   "execution_count": null,
   "id": "7317c248",
   "metadata": {
    "scrolled": true
   },
   "outputs": [],
   "source": [
    "df.columns\n",
    "df"
   ]
  },
  {
   "cell_type": "code",
   "execution_count": null,
   "id": "7cc30953",
   "metadata": {},
   "outputs": [],
   "source": [
    "df.drop(2, axis=1, inplace=True)\n",
    "df"
   ]
  },
  {
   "cell_type": "code",
   "execution_count": null,
   "id": "a3f8aaef",
   "metadata": {},
   "outputs": [],
   "source": [
    "# to add a column\n",
    "df['Course']=['java','python','c','c++']"
   ]
  },
  {
   "cell_type": "code",
   "execution_count": null,
   "id": "f9c320f6",
   "metadata": {},
   "outputs": [],
   "source": [
    "df"
   ]
  },
  {
   "cell_type": "code",
   "execution_count": null,
   "id": "f7c5eeea",
   "metadata": {},
   "outputs": [],
   "source": [
    "#difference b/w iloc and loc\n",
    "print(df.iloc[1,1]) #works takes both integers\n",
    "# print(df.loc[1,1]) #label and columns names find"
   ]
  },
  {
   "cell_type": "code",
   "execution_count": null,
   "id": "519af7da",
   "metadata": {},
   "outputs": [],
   "source": [
    "df.iloc[1]"
   ]
  },
  {
   "cell_type": "code",
   "execution_count": null,
   "id": "ea65f60e",
   "metadata": {},
   "outputs": [],
   "source": [
    "df.loc[:,\"branch\"]"
   ]
  },
  {
   "cell_type": "code",
   "execution_count": null,
   "id": "37c26dbb",
   "metadata": {},
   "outputs": [],
   "source": [
    "df.iloc[:,3]"
   ]
  },
  {
   "cell_type": "code",
   "execution_count": null,
   "id": "cf29b16f",
   "metadata": {},
   "outputs": [],
   "source": [
    "df[\"branch\"]"
   ]
  },
  {
   "cell_type": "code",
   "execution_count": null,
   "id": "5708c576",
   "metadata": {},
   "outputs": [],
   "source": [
    "df.branch"
   ]
  },
  {
   "cell_type": "code",
   "execution_count": null,
   "id": "463143bd",
   "metadata": {},
   "outputs": [],
   "source": [
    "# to delete data from dataframe\n",
    "#using drop() method\n",
    "# axis=0 row wize\n",
    "# axis=1 column based\n",
    "k=df"
   ]
  },
  {
   "cell_type": "code",
   "execution_count": null,
   "id": "d71b51f4",
   "metadata": {},
   "outputs": [],
   "source": [
    "df.drop(\"Course\",axis=1,inplace=True)"
   ]
  },
  {
   "cell_type": "code",
   "execution_count": null,
   "id": "85742d97",
   "metadata": {
    "scrolled": true
   },
   "outputs": [],
   "source": [
    "df"
   ]
  },
  {
   "cell_type": "code",
   "execution_count": null,
   "id": "59bae14e",
   "metadata": {
    "scrolled": true
   },
   "outputs": [],
   "source": [
    "df.drop(1,axis=0,inplace=True)\n",
    "df"
   ]
  },
  {
   "cell_type": "code",
   "execution_count": null,
   "id": "d1613010",
   "metadata": {},
   "outputs": [],
   "source": [
    "df=k"
   ]
  },
  {
   "cell_type": "code",
   "execution_count": null,
   "id": "61e879b1",
   "metadata": {},
   "outputs": [],
   "source": [
    "df.iloc[1,1]=569\n",
    "df\n",
    "df.iloc[1,1]=np.nan"
   ]
  },
  {
   "cell_type": "code",
   "execution_count": null,
   "id": "93f2e198",
   "metadata": {},
   "outputs": [],
   "source": [
    "df[df['rno'] == 567].dropna()"
   ]
  },
  {
   "cell_type": "code",
   "execution_count": null,
   "id": "73eae6c9",
   "metadata": {},
   "outputs": [],
   "source": [
    "df=k\n",
    "df"
   ]
  },
  {
   "cell_type": "code",
   "execution_count": null,
   "id": "33d2a1b6",
   "metadata": {},
   "outputs": [],
   "source": [
    "# to rename a column name\n",
    "df.rename(columns={'rno':\"Roll number\"},inplace=True)\n",
    "df a"
   ]
  },
  {
   "cell_type": "code",
   "execution_count": null,
   "id": "f88723db",
   "metadata": {},
   "outputs": [],
   "source": [
    "df.rename({\"Roll number\":\"roll\"},inplace=True)\n",
    "df"
   ]
  },
  {
   "cell_type": "code",
   "execution_count": 23,
   "id": "5f9d4df9",
   "metadata": {},
   "outputs": [
    {
     "data": {
      "text/html": [
       "<div>\n",
       "<style scoped>\n",
       "    .dataframe tbody tr th:only-of-type {\n",
       "        vertical-align: middle;\n",
       "    }\n",
       "\n",
       "    .dataframe tbody tr th {\n",
       "        vertical-align: top;\n",
       "    }\n",
       "\n",
       "    .dataframe thead th {\n",
       "        text-align: right;\n",
       "    }\n",
       "</style>\n",
       "<table border=\"1\" class=\"dataframe\">\n",
       "  <thead>\n",
       "    <tr style=\"text-align: right;\">\n",
       "      <th></th>\n",
       "      <th>name</th>\n",
       "      <th>rno</th>\n",
       "      <th>branch</th>\n",
       "    </tr>\n",
       "  </thead>\n",
       "  <tbody>\n",
       "    <tr>\n",
       "      <th>0</th>\n",
       "      <td>asish</td>\n",
       "      <td>123</td>\n",
       "      <td>CSE</td>\n",
       "    </tr>\n",
       "    <tr>\n",
       "      <th>1</th>\n",
       "      <td>rajiv</td>\n",
       "      <td>124</td>\n",
       "      <td>ECE</td>\n",
       "    </tr>\n",
       "  </tbody>\n",
       "</table>\n",
       "</div>"
      ],
      "text/plain": [
       "    name  rno branch\n",
       "0  asish  123    CSE\n",
       "1  rajiv  124    ECE"
      ]
     },
     "execution_count": 23,
     "metadata": {},
     "output_type": "execute_result"
    }
   ],
   "source": [
    "df=pd.DataFrame({'name':[\"asish\",\"rajiv\"],'rno':[123,124],'branch':['CSE','ECE']})\n",
    "df"
   ]
  },
  {
   "cell_type": "code",
   "execution_count": 26,
   "id": "c0fc19d1",
   "metadata": {},
   "outputs": [],
   "source": [
    "df.columns=['names','r','bran']"
   ]
  },
  {
   "cell_type": "code",
   "execution_count": 27,
   "id": "fc717faf",
   "metadata": {},
   "outputs": [
    {
     "data": {
      "text/html": [
       "<div>\n",
       "<style scoped>\n",
       "    .dataframe tbody tr th:only-of-type {\n",
       "        vertical-align: middle;\n",
       "    }\n",
       "\n",
       "    .dataframe tbody tr th {\n",
       "        vertical-align: top;\n",
       "    }\n",
       "\n",
       "    .dataframe thead th {\n",
       "        text-align: right;\n",
       "    }\n",
       "</style>\n",
       "<table border=\"1\" class=\"dataframe\">\n",
       "  <thead>\n",
       "    <tr style=\"text-align: right;\">\n",
       "      <th></th>\n",
       "      <th>names</th>\n",
       "      <th>r</th>\n",
       "      <th>bran</th>\n",
       "    </tr>\n",
       "  </thead>\n",
       "  <tbody>\n",
       "    <tr>\n",
       "      <th>0</th>\n",
       "      <td>asish</td>\n",
       "      <td>123</td>\n",
       "      <td>CSE</td>\n",
       "    </tr>\n",
       "    <tr>\n",
       "      <th>1</th>\n",
       "      <td>rajiv</td>\n",
       "      <td>124</td>\n",
       "      <td>ECE</td>\n",
       "    </tr>\n",
       "  </tbody>\n",
       "</table>\n",
       "</div>"
      ],
      "text/plain": [
       "   names    r bran\n",
       "0  asish  123  CSE\n",
       "1  rajiv  124  ECE"
      ]
     },
     "execution_count": 27,
     "metadata": {},
     "output_type": "execute_result"
    }
   ],
   "source": [
    "df"
   ]
  },
  {
   "cell_type": "code",
   "execution_count": 29,
   "id": "5546cc3c",
   "metadata": {},
   "outputs": [
    {
     "data": {
      "text/html": [
       "<div>\n",
       "<style scoped>\n",
       "    .dataframe tbody tr th:only-of-type {\n",
       "        vertical-align: middle;\n",
       "    }\n",
       "\n",
       "    .dataframe tbody tr th {\n",
       "        vertical-align: top;\n",
       "    }\n",
       "\n",
       "    .dataframe thead th {\n",
       "        text-align: right;\n",
       "    }\n",
       "</style>\n",
       "<table border=\"1\" class=\"dataframe\">\n",
       "  <thead>\n",
       "    <tr style=\"text-align: right;\">\n",
       "      <th></th>\n",
       "      <th>name</th>\n",
       "      <th>rno</th>\n",
       "      <th>bran</th>\n",
       "    </tr>\n",
       "  </thead>\n",
       "  <tbody>\n",
       "    <tr>\n",
       "      <th>0</th>\n",
       "      <td>asish</td>\n",
       "      <td>123</td>\n",
       "      <td>CSE</td>\n",
       "    </tr>\n",
       "    <tr>\n",
       "      <th>1</th>\n",
       "      <td>rajiv</td>\n",
       "      <td>124</td>\n",
       "      <td>ECE</td>\n",
       "    </tr>\n",
       "  </tbody>\n",
       "</table>\n",
       "</div>"
      ],
      "text/plain": [
       "    name  rno bran\n",
       "0  asish  123  CSE\n",
       "1  rajiv  124  ECE"
      ]
     },
     "execution_count": 29,
     "metadata": {},
     "output_type": "execute_result"
    }
   ],
   "source": [
    "df.rename(columns={'names':'name','r':'rno'},inplace=True)\n",
    "df"
   ]
  },
  {
   "cell_type": "code",
   "execution_count": 30,
   "id": "98fbba50",
   "metadata": {},
   "outputs": [
    {
     "name": "stderr",
     "output_type": "stream",
     "text": [
      "C:\\Users\\kello\\AppData\\Local\\Temp\\ipykernel_3052\\3383813154.py:2: UserWarning: Pandas doesn't allow columns to be created via a new attribute name - see https://pandas.pydata.org/pandas-docs/stable/indexing.html#attribute-access\n",
      "  df.rows=['A','B']\n"
     ]
    },
    {
     "data": {
      "text/html": [
       "<div>\n",
       "<style scoped>\n",
       "    .dataframe tbody tr th:only-of-type {\n",
       "        vertical-align: middle;\n",
       "    }\n",
       "\n",
       "    .dataframe tbody tr th {\n",
       "        vertical-align: top;\n",
       "    }\n",
       "\n",
       "    .dataframe thead th {\n",
       "        text-align: right;\n",
       "    }\n",
       "</style>\n",
       "<table border=\"1\" class=\"dataframe\">\n",
       "  <thead>\n",
       "    <tr style=\"text-align: right;\">\n",
       "      <th></th>\n",
       "      <th>name</th>\n",
       "      <th>rno</th>\n",
       "      <th>bran</th>\n",
       "    </tr>\n",
       "  </thead>\n",
       "  <tbody>\n",
       "    <tr>\n",
       "      <th>0</th>\n",
       "      <td>asish</td>\n",
       "      <td>123</td>\n",
       "      <td>CSE</td>\n",
       "    </tr>\n",
       "    <tr>\n",
       "      <th>1</th>\n",
       "      <td>rajiv</td>\n",
       "      <td>124</td>\n",
       "      <td>ECE</td>\n",
       "    </tr>\n",
       "  </tbody>\n",
       "</table>\n",
       "</div>"
      ],
      "text/plain": [
       "    name  rno bran\n",
       "0  asish  123  CSE\n",
       "1  rajiv  124  ECE"
      ]
     },
     "execution_count": 30,
     "metadata": {},
     "output_type": "execute_result"
    }
   ],
   "source": [
    "#to rename index names\n",
    "df.rows=['A','B']\n",
    "df\n"
   ]
  },
  {
   "cell_type": "code",
   "execution_count": 45,
   "id": "1a17d43c",
   "metadata": {},
   "outputs": [
    {
     "data": {
      "text/html": [
       "<div>\n",
       "<style scoped>\n",
       "    .dataframe tbody tr th:only-of-type {\n",
       "        vertical-align: middle;\n",
       "    }\n",
       "\n",
       "    .dataframe tbody tr th {\n",
       "        vertical-align: top;\n",
       "    }\n",
       "\n",
       "    .dataframe thead th {\n",
       "        text-align: right;\n",
       "    }\n",
       "</style>\n",
       "<table border=\"1\" class=\"dataframe\">\n",
       "  <thead>\n",
       "    <tr style=\"text-align: right;\">\n",
       "      <th></th>\n",
       "      <th>0</th>\n",
       "      <th>1</th>\n",
       "      <th>2</th>\n",
       "    </tr>\n",
       "  </thead>\n",
       "  <tbody>\n",
       "    <tr>\n",
       "      <th>0</th>\n",
       "      <td>1</td>\n",
       "      <td>2</td>\n",
       "      <td>3</td>\n",
       "    </tr>\n",
       "    <tr>\n",
       "      <th>1</th>\n",
       "      <td>4</td>\n",
       "      <td>5</td>\n",
       "      <td>6</td>\n",
       "    </tr>\n",
       "  </tbody>\n",
       "</table>\n",
       "</div>"
      ],
      "text/plain": [
       "   0  1  2\n",
       "0  1  2  3\n",
       "1  4  5  6"
      ]
     },
     "execution_count": 45,
     "metadata": {},
     "output_type": "execute_result"
    }
   ],
   "source": [
    "df=pd.DataFrame(np.array([[1,2,3],[4,5,6]]))\n",
    "df"
   ]
  },
  {
   "cell_type": "code",
   "execution_count": 48,
   "id": "178b6654",
   "metadata": {},
   "outputs": [
    {
     "data": {
      "text/html": [
       "<div>\n",
       "<style scoped>\n",
       "    .dataframe tbody tr th:only-of-type {\n",
       "        vertical-align: middle;\n",
       "    }\n",
       "\n",
       "    .dataframe tbody tr th {\n",
       "        vertical-align: top;\n",
       "    }\n",
       "\n",
       "    .dataframe thead th {\n",
       "        text-align: right;\n",
       "    }\n",
       "</style>\n",
       "<table border=\"1\" class=\"dataframe\">\n",
       "  <thead>\n",
       "    <tr style=\"text-align: right;\">\n",
       "      <th></th>\n",
       "    </tr>\n",
       "  </thead>\n",
       "  <tbody>\n",
       "    <tr>\n",
       "      <th>0</th>\n",
       "    </tr>\n",
       "    <tr>\n",
       "      <th>1</th>\n",
       "    </tr>\n",
       "  </tbody>\n",
       "</table>\n",
       "</div>"
      ],
      "text/plain": [
       "Empty DataFrame\n",
       "Columns: []\n",
       "Index: [0, 1]"
      ]
     },
     "execution_count": 48,
     "metadata": {},
     "output_type": "execute_result"
    }
   ],
   "source": [
    "# df.drop(df.index,inplace=True)\n",
    "# df\n",
    "df.drop(df.columns,axis=1,inplace=True)\n",
    "df"
   ]
  },
  {
   "cell_type": "code",
   "execution_count": 59,
   "id": "20373fef",
   "metadata": {},
   "outputs": [],
   "source": [
    "df=pd.read_csv('data.csv')\n"
   ]
  },
  {
   "cell_type": "code",
   "execution_count": 56,
   "id": "113f4ae4",
   "metadata": {},
   "outputs": [
    {
     "data": {
      "text/plain": [
       "Int64Index([0, 2, 4, 6, 8, 10, 12, 14, 16, 18], dtype='int64')"
      ]
     },
     "execution_count": 56,
     "metadata": {},
     "output_type": "execute_result"
    }
   ],
   "source": [
    "df.index"
   ]
  }
 ],
 "metadata": {
  "kernelspec": {
   "display_name": "Python 3 (ipykernel)",
   "language": "python",
   "name": "python3"
  },
  "language_info": {
   "codemirror_mode": {
    "name": "ipython",
    "version": 3
   },
   "file_extension": ".py",
   "mimetype": "text/x-python",
   "name": "python",
   "nbconvert_exporter": "python",
   "pygments_lexer": "ipython3",
   "version": "3.9.12"
  }
 },
 "nbformat": 4,
 "nbformat_minor": 5
}
