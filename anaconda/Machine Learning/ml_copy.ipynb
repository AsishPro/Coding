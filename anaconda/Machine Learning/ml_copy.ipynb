{
 "cells": [
  {
   "cell_type": "code",
   "execution_count": 20,
   "id": "1d46ebba",
   "metadata": {},
   "outputs": [],
   "source": [
    "import numpy as np"
   ]
  },
  {
   "cell_type": "code",
   "execution_count": 21,
   "id": "b73ea850",
   "metadata": {},
   "outputs": [
    {
     "name": "stdout",
     "output_type": "stream",
     "text": [
      "[[ 0.01360746 -0.53415597]\n",
      " [ 0.53512071 -0.32880334]]\n",
      "[[ 0.01522486]\n",
      " [-0.0910962 ]]\n",
      "[[0.52587016 0.21187999]]\n",
      "[[-0.49352437]]\n"
     ]
    }
   ],
   "source": [
    "x=np.array([[0,0],[0,1],[1,0],[1,1]])\n",
    "y=np.array([[0],[1],[1],[0]])\n",
    "\n",
    "\n",
    "input_nodes=2\n",
    "hidden_nodes=2\n",
    "output_nodes=1\n",
    "\n",
    "w1=np.random.uniform(low=-1,high=1,size=(input_nodes,hidden_nodes))\n",
    "w2=np.random.uniform(low=-1,high=1,size=(hidden_nodes,output_nodes))\n",
    "\n",
    "b1=np.random.uniform(low=-1,high=1,size=(1,hidden_nodes))\n",
    "b2=np.random.uniform(low=-1,high=1,size=(1,output_nodes))\n",
    "\n",
    "print(w1)\n",
    "print(w2)\n",
    "print(b1)\n",
    "print(b2)\n"
   ]
  },
  {
   "cell_type": "code",
   "execution_count": 22,
   "id": "d9ff6c88",
   "metadata": {},
   "outputs": [
    {
     "name": "stdout",
     "output_type": "stream",
     "text": [
      "(3,)\n",
      "(3, 4)\n",
      "[15 18 21 24]\n"
     ]
    }
   ],
   "source": [
    "mae=0\n",
    "index=0      # for output (y) \n",
    "l=0.1\n",
    "el=np.array([])\n",
    "\n",
    "i=np.array([1,1,1])\n",
    "# same as [[1,1,1]]\n",
    "w=np.array([[1, 2, 3, 4],\n",
    "            [5, 6, 7, 8],\n",
    "            [9, 10, 11, 12]])\n",
    "print(i.shape)\n",
    "print(w.shape)\n",
    "print(i@w)\n"
   ]
  },
  {
   "cell_type": "code",
   "execution_count": 23,
   "id": "840c9275",
   "metadata": {},
   "outputs": [
    {
     "data": {
      "text/plain": [
       "array([15, 18, 21, 24])"
      ]
     },
     "execution_count": 23,
     "metadata": {},
     "output_type": "execute_result"
    }
   ],
   "source": [
    "i=[1,1,1]\n",
    "w=[[1, 2, 3, 4],[5, 6, 7, 8],[9, 10, 11, 12]]\n",
    "np.dot(i,w)\n"
   ]
  },
  {
   "cell_type": "code",
   "execution_count": 24,
   "id": "e566d537",
   "metadata": {},
   "outputs": [
    {
     "name": "stdout",
     "output_type": "stream",
     "text": [
      "(4,)\n"
     ]
    },
    {
     "data": {
      "text/plain": [
       "array([24., 58., 92.])"
      ]
     },
     "execution_count": 24,
     "metadata": {},
     "output_type": "execute_result"
    }
   ],
   "source": [
    "inputs=np.array([1,2,3,2.5])\n",
    "print(inputs.shape)\n",
    "w=[[1, 2, 3, 4],[5, 6, 7, 8],[9, 10, 11, 12]]\n",
    "np.dot(w,inputs)"
   ]
  },
  {
   "cell_type": "markdown",
   "id": "ba5e363e",
   "metadata": {},
   "source": [
    "#### suppose if there are 4 inputs and 3 hidden neuron which means 4x3 matrix will be weight matrix\n",
    "#### In a weight matrix W of dimensions m x n, each column represents the weights of one neuron in the next layer."
   ]
  },
  {
   "cell_type": "code",
   "execution_count": 25,
   "id": "b9cc81ff",
   "metadata": {
    "scrolled": true
   },
   "outputs": [],
   "source": [
    "# i=np.array([[1,1,1,1]])\n",
    "# print(i.shape)\n",
    "# w=[[1, 2, 3, 4],[5, 6, 7, 8],[9, 10, 11, 12]]\n",
    "# np.dot(i,w)\n",
    "import numpy as np"
   ]
  },
  {
   "cell_type": "code",
   "execution_count": 26,
   "id": "4b1995b5",
   "metadata": {},
   "outputs": [],
   "source": [
    "def act(x):\n",
    "    return 1/(1+np.exp(-x))\n",
    "def bound(x):\n",
    "    return np.clip(x,-1,1)"
   ]
  },
  {
   "cell_type": "code",
   "execution_count": 27,
   "id": "1ac1a89b",
   "metadata": {
    "scrolled": false
   },
   "outputs": [
    {
     "name": "stdout",
     "output_type": "stream",
     "text": [
      "[[-0.38328979  0.92211194]\n",
      " [ 0.69269428  0.79720527]]\n",
      "[[-0.58273326]\n",
      " [ 0.01451159]]\n",
      "[[ 0.88449055 -0.40286921]]\n",
      "[[0.8439646]]\n"
     ]
    }
   ],
   "source": [
    "x=np.array([[0,0],[0,1],[1,0],[1,1]])\n",
    "y=np.array([[0],[1],[1],[0]])\n",
    "\n",
    "\n",
    "input_nodes=2\n",
    "hidden_nodes=2\n",
    "output_nodes=1\n",
    "\n",
    "w1=np.random.uniform(low=-1,high=1,size=(input_nodes,hidden_nodes))\n",
    "w2=np.random.uniform(low=-1,high=1,size=(hidden_nodes,output_nodes))\n",
    "\n",
    "b1=np.random.uniform(low=-1,high=1,size=(1,hidden_nodes))\n",
    "b2=np.random.uniform(low=-1,high=1,size=(1,output_nodes))\n",
    "\n",
    "print(w1)\n",
    "print(w2)\n",
    "print(b1)\n",
    "print(b2)\n"
   ]
  },
  {
   "cell_type": "code",
   "execution_count": 28,
   "id": "dff53f85",
   "metadata": {},
   "outputs": [
    {
     "name": "stdout",
     "output_type": "stream",
     "text": [
      "[0 1]\n",
      "(2,)\n",
      "[[ 0.          0.01181582]\n",
      " [ 0.         -0.00049881]]\n",
      "[[ 0.          0.        ]\n",
      " [ 0.01181582 -0.00049881]]\n"
     ]
    }
   ],
   "source": [
    "me=0\n",
    "mae=0\n",
    "index=0      # for output (y) \n",
    "l=0.1\n",
    "el=np.array([])\n",
    "\n",
    "# for i in range(1000):\n",
    "#     me=0\n",
    "#     mae=0\n",
    "x=np.array([[0,1]])\n",
    "for i in x:   \n",
    "        print(i)\n",
    "        print(i.shape)\n",
    "        hidden_output=act(i@w1+b1)  # 1x2\n",
    "        final_output=act(hidden_output@w2+b2) #1x1\n",
    "\n",
    "        #w2= 2x1\n",
    "        final_error=final_output*(1-final_output)*(y[index]-final_output) #1x1  \n",
    "        hidden_error=hidden_output*(1-hidden_output)*(final_error@w2.T) #should be 1x2 #print((w2@final_error).T) also works\n",
    "\n",
    "        me+=final_error\n",
    "        \n",
    "        #w1 2x2\n",
    "        #i 1x2\n",
    "        w2=bound(w2+(l*(hidden_output.T@final_error)))\n",
    "\n",
    "        # i 1x2 h 1x2  i.T 2x1,h 1x2 = 2x2 (w1)\n",
    "        \n",
    "        print(hidden_error.T@i.reshape(1,2))\n",
    "        print(i.reshape(1,2).T@hidden_error)\n",
    "\n",
    "#         w1=bound(w1+(l*(i.reshape(1,2).T@hidden_error)))\n",
    "\n",
    "        b2=bound(b2+(l*final_error))  #?\n",
    "        b1=bound(b1+(l*hidden_error))\n",
    "\n",
    "        index=(index+1)%4\n",
    "        \n",
    "#     me=me/4\n",
    "#     el=np.append(el,me)\n",
    "# print(el)\n",
    "    \n",
    "    "
   ]
  },
  {
   "cell_type": "code",
   "execution_count": 29,
   "id": "c7212196",
   "metadata": {},
   "outputs": [],
   "source": [
    "def output(i):\n",
    "    hidden_output=act(i@w1+b1)  # 1x2\n",
    "    final_output=act(hidden_output@w2+b2)\n",
    "    return final_output"
   ]
  },
  {
   "cell_type": "code",
   "execution_count": 30,
   "id": "488501ef",
   "metadata": {},
   "outputs": [
    {
     "name": "stdout",
     "output_type": "stream",
     "text": [
      "[[0.60135381]]\n",
      "[[0.6137226]]\n",
      "[[0.58427664]]\n",
      "[[0.59338099]]\n"
     ]
    }
   ],
   "source": [
    "k=np.array([0,0])\n",
    "print(output(k))\n",
    "k=np.array([1,0])\n",
    "print(output(k))\n",
    "k=np.array([0,1])\n",
    "print(output(k))\n",
    "k=np.array([1,1])\n",
    "print(output(k))"
   ]
  },
  {
   "cell_type": "code",
   "execution_count": 31,
   "id": "34e9005a",
   "metadata": {
    "scrolled": true
   },
   "outputs": [
    {
     "name": "stdout",
     "output_type": "stream",
     "text": [
      "[[1.]]\n",
      "[[1.]]\n",
      "[[1.]]\n",
      "[[1.]]\n",
      "[[1.]]\n"
     ]
    }
   ],
   "source": [
    "test=np.array([[1,1],[0,0],[1,0],[0,1],[0,0]])\n",
    "for i in test:\n",
    "  print(np.round(output(i)))"
   ]
  },
  {
   "cell_type": "code",
   "execution_count": 32,
   "id": "8b46fc98",
   "metadata": {},
   "outputs": [],
   "source": [
    "import numpy as np"
   ]
  },
  {
   "cell_type": "code",
   "execution_count": 33,
   "id": "c0e71074",
   "metadata": {},
   "outputs": [
    {
     "name": "stdout",
     "output_type": "stream",
     "text": [
      "[10 20 30]\n",
      "[10 20 30]\n"
     ]
    }
   ],
   "source": [
    "i=[1,2,3,4]\n",
    "w=[[1,1,1,1],[2,2,2,2],[3,3,3,3]]\n",
    "print(np.dot(i,np.array(w).T))\n",
    "print(np.dot(w,i))"
   ]
  },
  {
   "cell_type": "code",
   "execution_count": 43,
   "id": "9450edca",
   "metadata": {},
   "outputs": [
    {
     "name": "stdout",
     "output_type": "stream",
     "text": [
      "[[-0.57688043  0.74665858]\n",
      " [ 0.54581718 -0.27749508]]\n",
      "[[0.14340194]\n",
      " [0.3097334 ]]\n",
      "[[0.36896947 0.61864882]]\n",
      "[[-0.10723194]]\n"
     ]
    }
   ],
   "source": [
    "x=np.array([[0,0],[0,1],[1,0],[1,1]])\n",
    "y=np.array([[0],[0],[0],[1]])\n",
    "\n",
    "\n",
    "input_nodes=2\n",
    "hidden_nodes=2\n",
    "output_nodes=1\n",
    "\n",
    "w1=np.random.uniform(low=-1,high=1,size=(input_nodes,hidden_nodes))\n",
    "w2=np.random.uniform(low=-1,high=1,size=(hidden_nodes,output_nodes))\n",
    "\n",
    "b1=np.random.uniform(low=-1,high=1,size=(1,hidden_nodes))\n",
    "b2=np.random.uniform(low=-1,high=1,size=(1,output_nodes))\n",
    "\n",
    "print(w1)\n",
    "print(w2)\n",
    "print(b1)\n",
    "print(b2)"
   ]
  },
  {
   "cell_type": "code",
   "execution_count": 44,
   "id": "ca279937",
   "metadata": {},
   "outputs": [],
   "source": [
    "def act(x):\n",
    "    return 1/(1+ np.exp(-x))\n",
    "def derivative(x):\n",
    "    return x*(1-x)"
   ]
  },
  {
   "cell_type": "code",
   "execution_count": 49,
   "id": "98a15c23",
   "metadata": {},
   "outputs": [],
   "source": [
    "l=1\n",
    "for j in range(1000):\n",
    "#     for i in range(len(x)):\n",
    "        i=x\n",
    "        t=y\n",
    "\n",
    "        # i - 1x2 w1 2x4 o = 1x4 \n",
    "        hidden_o=act(i@w1+b1) #1x4\n",
    "        final_o=act(hidden_o@w2+b2) #1x1\n",
    "    #     print(final_o)\n",
    "\n",
    "\n",
    "        final_e=derivative(final_o)*(t-final_o) #1x1\n",
    "        hidden_e=derivative(hidden_o)*(final_e@w2.T)  #should be 1x4\n",
    "\n",
    "        #final_e 1x1 and hidden_o is 1x4\n",
    "        #i is 1x2 and hidden_e is 1x4\n",
    "        w2+=l*(hidden_o.T@final_e)   #should be 4x1\n",
    "        w1+=l*(i.T@hidden_e)         #should be 2x4\n",
    "\n",
    "\n",
    "        b2+=l*np.mean(final_e,axis=0)\n",
    "        b1+=l*np.mean(hidden_e,axis=0)    \n"
   ]
  },
  {
   "cell_type": "code",
   "execution_count": 50,
   "id": "226d4ab2",
   "metadata": {},
   "outputs": [
    {
     "name": "stdout",
     "output_type": "stream",
     "text": [
      "[[0.00148427]]\n",
      "[[0.03862863]]\n",
      "[[0.03829347]]\n",
      "[[0.91982385]]\n"
     ]
    }
   ],
   "source": [
    "test=x\n",
    "for i in test:\n",
    "    print(predict(i))"
   ]
  },
  {
   "cell_type": "code",
   "execution_count": 47,
   "id": "0d2680b0",
   "metadata": {},
   "outputs": [],
   "source": [
    "def predict(x):\n",
    "    hidden_o=act(x@w1+b1)\n",
    "    final_o=act(hidden_o@w2+b2)\n",
    "    return final_o\n"
   ]
  }
 ],
 "metadata": {
  "kernelspec": {
   "display_name": "Python 3 (ipykernel)",
   "language": "python",
   "name": "python3"
  },
  "language_info": {
   "codemirror_mode": {
    "name": "ipython",
    "version": 3
   },
   "file_extension": ".py",
   "mimetype": "text/x-python",
   "name": "python",
   "nbconvert_exporter": "python",
   "pygments_lexer": "ipython3",
   "version": "3.9.12"
  }
 },
 "nbformat": 4,
 "nbformat_minor": 5
}
