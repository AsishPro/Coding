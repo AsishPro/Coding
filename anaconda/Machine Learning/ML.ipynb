{
 "cells": [
  {
   "cell_type": "code",
   "execution_count": 37,
   "id": "1d46ebba",
   "metadata": {},
   "outputs": [],
   "source": [
    "import numpy as np"
   ]
  },
  {
   "cell_type": "code",
   "execution_count": 38,
   "id": "b73ea850",
   "metadata": {},
   "outputs": [
    {
     "name": "stdout",
     "output_type": "stream",
     "text": [
      "[[-0.48998782 -0.23936535]\n",
      " [ 0.13172404 -0.5913752 ]]\n",
      "[[ 0.08552021]\n",
      " [-0.18351461]]\n",
      "[[-0.233033   -0.85989058]]\n",
      "[[-0.06354105]]\n"
     ]
    }
   ],
   "source": [
    "x=np.array([[0,0],[0,1],[1,0],[1,1]])\n",
    "y=np.array([[0],[1],[1],[0]])\n",
    "\n",
    "\n",
    "input_nodes=2\n",
    "hidden_nodes=2\n",
    "output_nodes=1\n",
    "\n",
    "w1=np.random.uniform(low=-1,high=1,size=(input_nodes,hidden_nodes))\n",
    "w2=np.random.uniform(low=-1,high=1,size=(hidden_nodes,output_nodes))\n",
    "\n",
    "b1=np.random.uniform(low=-1,high=1,size=(1,hidden_nodes))\n",
    "b2=np.random.uniform(low=-1,high=1,size=(1,output_nodes))\n",
    "\n",
    "print(w1)\n",
    "print(w2)\n",
    "print(b1)\n",
    "print(b2)\n"
   ]
  },
  {
   "cell_type": "code",
   "execution_count": 39,
   "id": "b274109f",
   "metadata": {},
   "outputs": [],
   "source": [
    "def act(x):\n",
    "    return 1/(1+np.exp(-x))\n",
    "def bound(x):\n",
    "    return np.clip(x,-1,1)"
   ]
  },
  {
   "cell_type": "code",
   "execution_count": 40,
   "id": "d9ff6c88",
   "metadata": {},
   "outputs": [],
   "source": [
    "mae=0\n",
    "index=0      # for output (y) \n",
    "l=1\n",
    "el=np.array([])\n",
    "for k in range(1000):\n",
    "    me=0\n",
    "    for i in x:\n",
    "        hidden_output=act(i@w1+b1)  #1x2\n",
    "        final_output=act(hidden_output@w2+b2) #1x1\n",
    "\n",
    "        final_error=final_output*(1-final_output)*(y[index]-final_output)\n",
    "#         print(final_error)\n",
    "        me+=final_error\n",
    "#         print(me)\n",
    "        hidden_error=hidden_output*(1-hidden_output)*(final_error@w2.T)\n",
    "\n",
    "        w2=w2+(l*(hidden_output.T@final_error))\n",
    "        w1=w1+(l*np.outer(i,hidden_error))\n",
    "\n",
    "        b2+=(l*final_error)\n",
    "        b1+=(l*hidden_error)\n",
    "\n",
    "        index=(index+1)%4\n",
    "    me=me/4\n",
    "    el=np.append(el,me)\n",
    "# print(el)"
   ]
  },
  {
   "cell_type": "code",
   "execution_count": 41,
   "id": "9cde5895",
   "metadata": {},
   "outputs": [],
   "source": [
    "def output(i):\n",
    "    hidden_output=act(i@w1+b1)  #1x2\n",
    "    final_output=act(hidden_output@w2+b2) #1x1\n",
    "    return final_output"
   ]
  },
  {
   "cell_type": "code",
   "execution_count": 42,
   "id": "14095e84",
   "metadata": {
    "scrolled": false
   },
   "outputs": [
    {
     "name": "stdout",
     "output_type": "stream",
     "text": [
      "[[0.05340172]]\n",
      "[[0.93833206]]\n",
      "[[0.93841315]]\n",
      "[[0.07932715]]\n"
     ]
    }
   ],
   "source": [
    "k=np.array([0,0])\n",
    "print(output(k))\n",
    "k=np.array([1,0])\n",
    "print(output(k))\n",
    "k=np.array([0,1])\n",
    "print(output(k))\n",
    "k=np.array([1,1])\n",
    "print(output(k))"
   ]
  }
 ],
 "metadata": {
  "kernelspec": {
   "display_name": "Python 3 (ipykernel)",
   "language": "python",
   "name": "python3"
  },
  "language_info": {
   "codemirror_mode": {
    "name": "ipython",
    "version": 3
   },
   "file_extension": ".py",
   "mimetype": "text/x-python",
   "name": "python",
   "nbconvert_exporter": "python",
   "pygments_lexer": "ipython3",
   "version": "3.9.12"
  }
 },
 "nbformat": 4,
 "nbformat_minor": 5
}
