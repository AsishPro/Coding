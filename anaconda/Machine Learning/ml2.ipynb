{
 "cells": [
  {
   "cell_type": "code",
   "execution_count": 5,
   "id": "f86b91db",
   "metadata": {},
   "outputs": [],
   "source": [
    "import numpy as np"
   ]
  },
  {
   "cell_type": "code",
   "execution_count": 6,
   "id": "c301782f",
   "metadata": {},
   "outputs": [],
   "source": [
    "x=np.array([[0,0],[0,1],[1,0],[1,1]])\n",
    "y=np.array([[0],[1],[1],[0]])\n",
    "\n",
    "\n",
    "input_nodes=2\n",
    "hidden_nodes=2\n",
    "output_nodes=1\n",
    "\n",
    "w1=np.random.uniform(low=-1,high=1,size=(input_nodes,hidden_nodes))\n",
    "w2=np.random.uniform(low=-1,high=1,size=(hidden_nodes,output_nodes))\n",
    "\n",
    "b1=np.random.uniform(low=-1,high=1,size=(1,hidden_nodes))\n",
    "b2=np.random.uniform(low=-1,high=1,size=(1,output_nodes))"
   ]
  },
  {
   "cell_type": "code",
   "execution_count": 7,
   "id": "2324d34c",
   "metadata": {},
   "outputs": [],
   "source": [
    "def act(x):\n",
    "    return 1/(1+np.exp(-x))\n",
    "def bound(x):\n",
    "    return np.clip(x,-1,1)\n"
   ]
  },
  {
   "cell_type": "code",
   "execution_count": 14,
   "id": "ad52378b",
   "metadata": {},
   "outputs": [],
   "source": [
    "me=0\n",
    "index=0      # for output (y)\n",
    "l=0.05\n",
    "lme=np.array([])\n",
    "for k in range(10000):\n",
    "    for i in x:\n",
    "        hidden_output=act(i@w1+b1)  #1x2\n",
    "        final_output=act(hidden_output@w2+b2) #1x1\n",
    "\n",
    "        final_error=final_output*(1-final_output)*(y[index]-final_output)\n",
    "        me+=final_error\n",
    "\n",
    "        hidden_error=hidden_output*(1-hidden_output)*(final_error@w2.T)\n",
    "\n",
    "        w2=w2+(l*(hidden_output.T@final_error))\n",
    "        w1=w1+(l*np.outer(i,hidden_error))\n",
    "\n",
    "        b2=b2+(l*final_error)\n",
    "        b1=b1+(l*hidden_error)\n",
    "\n",
    "        index=(index+1)%4\n",
    "    mae=me/4\n",
    "    lme=np.append(lme,mae)\n",
    "\n",
    "# print(lme)"
   ]
  },
  {
   "cell_type": "code",
   "execution_count": 16,
   "id": "827f0581",
   "metadata": {},
   "outputs": [],
   "source": [
    "def output(i):\n",
    "    hidden_output=act(i@w1+b1)  #1x2\n",
    "    final_output=act(hidden_output@w2+b2) #1x1\n",
    "    return final_output"
   ]
  },
  {
   "cell_type": "code",
   "execution_count": 17,
   "id": "f0cf2d25",
   "metadata": {},
   "outputs": [
    {
     "name": "stdout",
     "output_type": "stream",
     "text": [
      "[[0.1095256]]\n",
      "[[0.86503251]]\n",
      "[[0.86526879]]\n",
      "[[0.18009539]]\n"
     ]
    }
   ],
   "source": [
    "\n",
    "k=np.array([0,0])\n",
    "print(output(k))\n",
    "k=np.array([1,0])\n",
    "print(output(k))\n",
    "k=np.array([0,1])\n",
    "print(output(k))\n",
    "k=np.array([1,1])\n",
    "print(output(k))\n",
    "\n",
    "#add more hidden layers or more nodes in one hidden layer\n",
    "#why output for 1,1 is greater than all others sometimes ????\n",
    "#and why correct answer coming without using bound function\n"
   ]
  },
  {
   "cell_type": "code",
   "execution_count": 18,
   "id": "73dcf7d0",
   "metadata": {},
   "outputs": [
    {
     "name": "stdout",
     "output_type": "stream",
     "text": [
      "[[0.]]\n",
      "[[0.]]\n",
      "[[1.]]\n",
      "[[1.]]\n",
      "[[0.]]\n"
     ]
    }
   ],
   "source": [
    "\n",
    "test=np.array([[1,1],[0,0],[1,0],[0,1],[0,0]])\n",
    "for i in test:\n",
    "  print(np.round(output(i)))"
   ]
  },
  {
   "cell_type": "code",
   "execution_count": 4,
   "id": "c2cbc957",
   "metadata": {},
   "outputs": [
    {
     "data": {
      "text/plain": [
       "True"
      ]
     },
     "execution_count": 4,
     "metadata": {},
     "output_type": "execute_result"
    }
   ],
   "source": [
    "(-0.02)>(-0.73)"
   ]
  }
 ],
 "metadata": {
  "kernelspec": {
   "display_name": "Python 3 (ipykernel)",
   "language": "python",
   "name": "python3"
  },
  "language_info": {
   "codemirror_mode": {
    "name": "ipython",
    "version": 3
   },
   "file_extension": ".py",
   "mimetype": "text/x-python",
   "name": "python",
   "nbconvert_exporter": "python",
   "pygments_lexer": "ipython3",
   "version": "3.9.12"
  }
 },
 "nbformat": 4,
 "nbformat_minor": 5
}
