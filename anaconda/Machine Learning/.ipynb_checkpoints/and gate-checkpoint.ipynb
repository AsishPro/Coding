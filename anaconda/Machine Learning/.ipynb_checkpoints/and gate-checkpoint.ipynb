{
 "cells": [
  {
   "cell_type": "code",
   "execution_count": 54,
   "id": "d12d45ba",
   "metadata": {},
   "outputs": [],
   "source": [
    "import numpy as np"
   ]
  },
  {
   "cell_type": "code",
   "execution_count": 55,
   "id": "74a48084",
   "metadata": {},
   "outputs": [],
   "source": [
    "def act(x):\n",
    "    return 1/(1+ np.exp(-x))\n",
    "def derivative(x):\n",
    "    return x*(1-x)"
   ]
  },
  {
   "cell_type": "code",
   "execution_count": 56,
   "id": "5c5edf98",
   "metadata": {},
   "outputs": [
    {
     "data": {
      "text/plain": [
       "(2, 4)"
      ]
     },
     "execution_count": 56,
     "metadata": {},
     "output_type": "execute_result"
    }
   ],
   "source": [
    "x=np.array([[0,0],[0,1],[1,0],[1,1]])\n",
    "y=np.array([[0],[0],[0],[1]])\n",
    "\n",
    "i_n=2\n",
    "h_n=4\n",
    "h_o=1\n",
    "\n",
    "w1=np.array([[0.1,0.2,0.3,0.1],[0.2,0.2,0.6,0.2]])\n",
    "w2=np.array([[0.3],[0.1],[0.4],[0.2]])\n",
    "\n",
    "b1=np.array([[0.1,0.2,0.3,0.4]])\n",
    "b2=np.array([[0.1]])\n",
    "\n",
    "w1.shape"
   ]
  },
  {
   "cell_type": "code",
   "execution_count": 57,
   "id": "ceb997c9",
   "metadata": {},
   "outputs": [],
   "source": [
    "l=0.1\n",
    "for j in range(1000):\n",
    "    for i in range(len(x)):\n",
    "        t=y[i]\n",
    "        i=x[i].reshape(1,2)\n",
    "\n",
    "        # i - 1x2 w1 2x4 o = 1x4 \n",
    "        hidden_o=act(i@w1+b1) #1x4\n",
    "        final_o=act(hidden_o@w2+b2) #1x1\n",
    "    #     print(final_o)\n",
    "\n",
    "\n",
    "        final_e=derivative(final_o)*(t-final_o) #1x1\n",
    "        hidden_e=derivative(hidden_o)*(final_e@w2.T)  #should be 1x4\n",
    "\n",
    "        #final_e 1x1 and hidden_o is 1x4\n",
    "        #i is 1x2 and hidden_e is 1x4\n",
    "        w2+=l*(hidden_o.T@final_e)   #should be 4x1\n",
    "        w1+=l*(i.T@hidden_e)         #should be 2x4\n",
    "\n",
    "\n",
    "        b2+=l*np.mean(final_e,axis=0)\n",
    "        b1+=l*np.mean(hidden_e,axis=0)    \n"
   ]
  },
  {
   "cell_type": "code",
   "execution_count": 58,
   "id": "e80bbb3d",
   "metadata": {},
   "outputs": [],
   "source": [
    "def predict(x):\n",
    "    hidden_o=act(x@w1+b1)\n",
    "    final_o=act(hidden_o@w2+b2)\n",
    "    return np.round(final_o)\n"
   ]
  },
  {
   "cell_type": "code",
   "execution_count": 59,
   "id": "72c15d46",
   "metadata": {},
   "outputs": [
    {
     "name": "stdout",
     "output_type": "stream",
     "text": [
      "[[0.]]\n",
      "[[0.]]\n",
      "[[0.]]\n",
      "[[1.]]\n"
     ]
    }
   ],
   "source": [
    "test=x\n",
    "for i in test:\n",
    "    print(predict(i))"
   ]
  },
  {
   "cell_type": "code",
   "execution_count": null,
   "id": "c605061d",
   "metadata": {},
   "outputs": [],
   "source": []
  }
 ],
 "metadata": {
  "kernelspec": {
   "display_name": "Python 3 (ipykernel)",
   "language": "python",
   "name": "python3"
  },
  "language_info": {
   "codemirror_mode": {
    "name": "ipython",
    "version": 3
   },
   "file_extension": ".py",
   "mimetype": "text/x-python",
   "name": "python",
   "nbconvert_exporter": "python",
   "pygments_lexer": "ipython3",
   "version": "3.9.12"
  }
 },
 "nbformat": 4,
 "nbformat_minor": 5
}
