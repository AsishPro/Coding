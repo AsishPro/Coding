{
 "cells": [
  {
   "cell_type": "code",
   "execution_count": 106,
   "id": "e2d414a0",
   "metadata": {},
   "outputs": [],
   "source": [
    "import numpy as np\n",
    "import pandas as pd\n",
    "import matplotlib.pyplot as plt"
   ]
  },
  {
   "cell_type": "code",
   "execution_count": 107,
   "id": "9b341bf7",
   "metadata": {
    "scrolled": true
   },
   "outputs": [
    {
     "data": {
      "text/html": [
       "<div>\n",
       "<style scoped>\n",
       "    .dataframe tbody tr th:only-of-type {\n",
       "        vertical-align: middle;\n",
       "    }\n",
       "\n",
       "    .dataframe tbody tr th {\n",
       "        vertical-align: top;\n",
       "    }\n",
       "\n",
       "    .dataframe thead th {\n",
       "        text-align: right;\n",
       "    }\n",
       "</style>\n",
       "<table border=\"1\" class=\"dataframe\">\n",
       "  <thead>\n",
       "    <tr style=\"text-align: right;\">\n",
       "      <th></th>\n",
       "      <th>AT</th>\n",
       "      <th>V</th>\n",
       "      <th>AP</th>\n",
       "      <th>RH</th>\n",
       "      <th>PE</th>\n",
       "    </tr>\n",
       "  </thead>\n",
       "  <tbody>\n",
       "    <tr>\n",
       "      <th>0</th>\n",
       "      <td>8.34</td>\n",
       "      <td>40.77</td>\n",
       "      <td>1010.84</td>\n",
       "      <td>90.01</td>\n",
       "      <td>480.48</td>\n",
       "    </tr>\n",
       "    <tr>\n",
       "      <th>1</th>\n",
       "      <td>23.64</td>\n",
       "      <td>58.49</td>\n",
       "      <td>1011.40</td>\n",
       "      <td>74.20</td>\n",
       "      <td>445.75</td>\n",
       "    </tr>\n",
       "    <tr>\n",
       "      <th>2</th>\n",
       "      <td>29.74</td>\n",
       "      <td>56.90</td>\n",
       "      <td>1007.15</td>\n",
       "      <td>41.91</td>\n",
       "      <td>438.76</td>\n",
       "    </tr>\n",
       "    <tr>\n",
       "      <th>3</th>\n",
       "      <td>19.07</td>\n",
       "      <td>49.69</td>\n",
       "      <td>1007.22</td>\n",
       "      <td>76.79</td>\n",
       "      <td>453.09</td>\n",
       "    </tr>\n",
       "    <tr>\n",
       "      <th>4</th>\n",
       "      <td>11.80</td>\n",
       "      <td>40.66</td>\n",
       "      <td>1017.13</td>\n",
       "      <td>97.20</td>\n",
       "      <td>464.43</td>\n",
       "    </tr>\n",
       "  </tbody>\n",
       "</table>\n",
       "</div>"
      ],
      "text/plain": [
       "      AT      V       AP     RH      PE\n",
       "0   8.34  40.77  1010.84  90.01  480.48\n",
       "1  23.64  58.49  1011.40  74.20  445.75\n",
       "2  29.74  56.90  1007.15  41.91  438.76\n",
       "3  19.07  49.69  1007.22  76.79  453.09\n",
       "4  11.80  40.66  1017.13  97.20  464.43"
      ]
     },
     "execution_count": 107,
     "metadata": {},
     "output_type": "execute_result"
    }
   ],
   "source": [
    "df = pd.read_csv(\"power.csv\")\n",
    "df.head()"
   ]
  },
  {
   "cell_type": "code",
   "execution_count": 108,
   "id": "5015e5f0",
   "metadata": {},
   "outputs": [
    {
     "name": "stdout",
     "output_type": "stream",
     "text": [
      "4\n"
     ]
    },
    {
     "data": {
      "text/plain": [
       "(9568, 1)"
      ]
     },
     "execution_count": 108,
     "metadata": {},
     "output_type": "execute_result"
    }
   ],
   "source": [
    "X = df.drop(\"PE\", axis=1).values\n",
    "y = df[\"PE\"].values\n",
    "print(X.shape[1])\n",
    "y=y.reshape(-1,1)\n",
    "y.shape"
   ]
  },
  {
   "cell_type": "code",
   "execution_count": 110,
   "id": "dd99d423",
   "metadata": {},
   "outputs": [
    {
     "name": "stdout",
     "output_type": "stream",
     "text": [
      "Epoch 0, Loss: 455.75532456718906\n",
      "Epoch 100, Loss: 8.173645578856253e+26\n",
      "Epoch 200, Loss: 1.318651757753483e+28\n",
      "Epoch 300, Loss: 6.694125505835668e+28\n",
      "Epoch 400, Loss: 2.1185965117248706e+29\n",
      "Epoch 500, Loss: 5.176640582661118e+29\n",
      "Epoch 600, Loss: 1.0740211068595233e+30\n",
      "Epoch 700, Loss: 1.9905417056469887e+30\n",
      "Epoch 800, Loss: 3.3967810414970265e+30\n",
      "Epoch 900, Loss: 5.44223857945177e+30\n"
     ]
    }
   ],
   "source": [
    "import numpy as np\n",
    "from sklearn.preprocessing import MinMaxScaler\n",
    "\n",
    "\n",
    "# Define the neural network training function\n",
    "def train(X, y, hidden_nodes, learning_rate, num_epochs, clip_threshold):\n",
    "    # Initialize weights and biases\n",
    "    input_nodes = X.shape[1]\n",
    "    output_nodes = 1\n",
    "    w1 = np.random.randn(input_nodes, hidden_nodes)\n",
    "    b1 = np.ones((1, hidden_nodes))\n",
    "    w2 = np.random.randn(hidden_nodes, output_nodes)\n",
    "    b2 = np.ones((1, output_nodes))\n",
    "\n",
    "    # Scale the input data using MinMaxScaler\n",
    "    scaler_X = MinMaxScaler()\n",
    "    X_scaled = scaler_X.fit_transform(X)\n",
    "    \n",
    "    scaler_y = MinMaxScaler()\n",
    "    y_scaled = scaler_y.fit_transform(y).flatten().reshape(-1,1)\n",
    "\n",
    "    for epoch in range(num_epochs):\n",
    "        # Forward pass\n",
    "        hidden_output = relu(np.dot(X_scaled, w1) + b1)\n",
    "        final_output = np.dot(hidden_output, w2) + b2\n",
    "        # Calculate the mean squared error loss\n",
    "        loss = mse(y_scaled, final_output)\n",
    "\n",
    "        # Backpropagation\n",
    "        final_error = final_output - y_scaled\n",
    "        hidden_error = final_error.dot(w2.T)\n",
    "        hidden_delta = hidden_error * relu_derivative(hidden_output)\n",
    "\n",
    "        # Gradient Clipping\n",
    "        np.clip(final_error, -clip_threshold, clip_threshold, out=final_error)\n",
    "        np.clip(hidden_delta, -clip_threshold, clip_threshold, out=hidden_delta)\n",
    "\n",
    "        # Weight and bias updates\n",
    "        w2 -= learning_rate * hidden_output.T.dot(final_error)\n",
    "        b2 -= learning_rate * final_error.sum(axis=0, keepdims=True)\n",
    "        w1 -= learning_rate * X_scaled.T.dot(hidden_delta)\n",
    "        b1 -= learning_rate * hidden_delta.sum(axis=0, keepdims=True)\n",
    "\n",
    "        # Print the loss for every 100 epochs\n",
    "        if epoch % 100 == 0:\n",
    "            print(f\"Epoch {epoch}, Loss: {loss}\")\n",
    "\n",
    "    return 0\n",
    "\n",
    "\n",
    "# Hyperparameters\n",
    "hidden_nodes = 16\n",
    "learning_rate = 0.01\n",
    "num_epochs = 1000\n",
    "clip_threshold = 5.0\n",
    "\n",
    "# Training the neural network\n",
    "trained_weights = train(X, y, hidden_nodes, learning_rate, num_epochs, clip_threshold)\n"
   ]
  }
 ],
 "metadata": {
  "kernelspec": {
   "display_name": "Python 3 (ipykernel)",
   "language": "python",
   "name": "python3"
  },
  "language_info": {
   "codemirror_mode": {
    "name": "ipython",
    "version": 3
   },
   "file_extension": ".py",
   "mimetype": "text/x-python",
   "name": "python",
   "nbconvert_exporter": "python",
   "pygments_lexer": "ipython3",
   "version": "3.9.12"
  }
 },
 "nbformat": 4,
 "nbformat_minor": 5
}
