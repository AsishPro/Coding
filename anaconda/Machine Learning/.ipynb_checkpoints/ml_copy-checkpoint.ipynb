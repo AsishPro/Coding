{
 "cells": [
  {
   "cell_type": "code",
   "execution_count": 3,
   "id": "1d46ebba",
   "metadata": {},
   "outputs": [],
   "source": [
    "import numpy as np"
   ]
  },
  {
   "cell_type": "code",
   "execution_count": 4,
   "id": "b73ea850",
   "metadata": {
    "collapsed": true
   },
   "outputs": [
    {
     "name": "stdout",
     "output_type": "stream",
     "text": [
      "[[ 0.37190788  0.61138401]\n",
      " [-0.80519045  0.2220474 ]]\n",
      "[[-0.18172707]\n",
      " [-0.97008217]]\n",
      "[[-0.27428464 -0.60366839]]\n",
      "[[0.33324326]]\n"
     ]
    }
   ],
   "source": [
    "x=np.array([[0,0],[0,1],[1,0],[1,1]])\n",
    "y=np.array([[0],[1],[1],[0]])\n",
    "\n",
    "\n",
    "input_nodes=2\n",
    "hidden_nodes=2\n",
    "output_nodes=1\n",
    "\n",
    "w1=np.random.uniform(low=-1,high=1,size=(input_nodes,hidden_nodes))\n",
    "w2=np.random.uniform(low=-1,high=1,size=(hidden_nodes,output_nodes))\n",
    "\n",
    "b1=np.random.uniform(low=-1,high=1,size=(1,hidden_nodes))\n",
    "b2=np.random.uniform(low=-1,high=1,size=(1,output_nodes))\n",
    "\n",
    "print(w1)\n",
    "print(w2)\n",
    "print(b1)\n",
    "print(b2)\n"
   ]
  },
  {
   "cell_type": "code",
   "execution_count": 5,
   "id": "b274109f",
   "metadata": {},
   "outputs": [],
   "source": [
    "def act(x):\n",
    "    return 1/(1+np.exp(-x))\n",
    "def bound(x):\n",
    "    return np.clip(x,-1,1)"
   ]
  },
  {
   "cell_type": "code",
   "execution_count": 61,
   "id": "d9ff6c88",
   "metadata": {
    "scrolled": true
   },
   "outputs": [
    {
     "name": "stdout",
     "output_type": "stream",
     "text": [
      "[9.06281251e-10 9.05659870e-10 9.05038898e-10 9.04418367e-10\n",
      " 9.03798255e-10 9.03178560e-10 9.02559312e-10 9.01940477e-10\n",
      " 9.01322048e-10 9.00704070e-10 9.00086498e-10 8.99469381e-10\n",
      " 8.98852642e-10 8.98236360e-10 8.97620492e-10 8.97005019e-10\n",
      " 8.96390014e-10 8.95775395e-10 8.95161223e-10 8.94547429e-10\n",
      " 8.93934107e-10 8.93321174e-10 8.92708674e-10 8.92096598e-10\n",
      " 8.91484945e-10 8.90873684e-10 8.90262863e-10 8.89652470e-10\n",
      " 8.89042468e-10 8.88432914e-10 8.87823752e-10 8.87215027e-10\n",
      " 8.86606712e-10 8.85998833e-10 8.85391337e-10 8.84784263e-10\n",
      " 8.84177641e-10 8.83571397e-10 8.82965572e-10 8.82360181e-10\n",
      " 8.81755186e-10 8.81150600e-10 8.80546462e-10 8.79942709e-10\n",
      " 8.79339383e-10 8.78736486e-10 8.78133965e-10 8.77531874e-10\n",
      " 8.76930199e-10 8.76328950e-10 8.75728080e-10 8.75127654e-10\n",
      " 8.74527620e-10 8.73927986e-10 8.73328798e-10 8.72730010e-10\n",
      " 8.72131634e-10 8.71533651e-10 8.70936101e-10 8.70338933e-10\n",
      " 8.69742181e-10 8.69145866e-10 8.68549919e-10 8.67954403e-10\n",
      " 8.67359313e-10 8.66764605e-10 8.66170299e-10 8.65576440e-10\n",
      " 8.64982936e-10 8.64389872e-10 8.63797218e-10 8.63204952e-10\n",
      " 8.62613089e-10 8.62021649e-10 8.61430618e-10 8.60839965e-10\n",
      " 8.60249743e-10 8.59659909e-10 8.59070488e-10 8.58481456e-10\n",
      " 8.57892875e-10 8.57304647e-10 8.56716836e-10 8.56129435e-10\n",
      " 8.55542432e-10 8.54955842e-10 8.54369651e-10 8.53783842e-10\n",
      " 8.53198467e-10 8.52613462e-10 8.52028861e-10 8.51444693e-10\n",
      " 8.50860899e-10 8.50277498e-10 8.49694516e-10 8.49111923e-10\n",
      " 8.48529733e-10 8.47947934e-10 8.47366555e-10 8.46785555e-10]\n"
     ]
    }
   ],
   "source": [
    "mae=0\n",
    "index=0      # for output (y) \n",
    "l=0.1\n",
    "el=np.array([])\n",
    "for k in range(100):\n",
    "    me=0\n",
    "    for i in x:\n",
    "        hidden_output=act(i@w1+b1)  #1x2\n",
    "        final_output=act(hidden_output@w2+b2) #1x1\n",
    "\n",
    "        final_error=final_output*(1-final_output)*(y[index]-final_output)\n",
    "#         print(final_error)\n",
    "        me+=final_error\n",
    "#         print(me)\n",
    "        hidden_error=hidden_output*(1-hidden_output)*(final_error@w2.T)\n",
    "\n",
    "        w2=bound(w2+(l*(hidden_output.T@final_error)))\n",
    "        w1=bound(w1+(l*np.outer(i,hidden_error)))\n",
    "\n",
    "        b2=bound(b2+(l*final_error))\n",
    "        b1=bound(b1+(l*hidden_error))\n",
    "\n",
    "        index=(index+1)%4\n",
    "    me=me/4\n",
    "    el=np.append(el,me)\n",
    "print(el)"
   ]
  },
  {
   "cell_type": "code",
   "execution_count": 6,
   "id": "9cde5895",
   "metadata": {},
   "outputs": [],
   "source": [
    "def output(i):\n",
    "    hidden_output=act(i@w1+b1)  #1x2\n",
    "    final_output=act(hidden_output@w2+b2) #1x1\n",
    "    return final_output"
   ]
  },
  {
   "cell_type": "code",
   "execution_count": 7,
   "id": "14095e84",
   "metadata": {
    "scrolled": false
   },
   "outputs": [
    {
     "name": "stdout",
     "output_type": "stream",
     "text": [
      "[[0.51253564]]\n",
      "[[0.48259651]]\n",
      "[[0.52794654]]\n",
      "[[0.47745194]]\n"
     ]
    }
   ],
   "source": [
    "k=np.array([0,0])\n",
    "print(output(k))\n",
    "k=np.array([1,0])\n",
    "print(output(k))\n",
    "k=np.array([0,1])\n",
    "print(output(k))\n",
    "k=np.array([1,1])\n",
    "print(output(k))"
   ]
  },
  {
   "cell_type": "code",
   "execution_count": 22,
   "id": "8f02aacc",
   "metadata": {},
   "outputs": [
    {
     "name": "stdout",
     "output_type": "stream",
     "text": [
      "[2.324]\n"
     ]
    }
   ],
   "source": [
    "\n",
    "k=[]\n",
    "a=2.324\n",
    "k.append(a)\n",
    "print(k)"
   ]
  },
  {
   "cell_type": "code",
   "execution_count": 51,
   "id": "0340b597",
   "metadata": {},
   "outputs": [
    {
     "name": "stdout",
     "output_type": "stream",
     "text": [
      "[9.99999999e-09]\n"
     ]
    }
   ],
   "source": [
    "a=np.array([0.11615254])\n",
    "b=np.array([-0.11615253])\n",
    "print(a+b)"
   ]
  }
 ],
 "metadata": {
  "kernelspec": {
   "display_name": "Python 3 (ipykernel)",
   "language": "python",
   "name": "python3"
  },
  "language_info": {
   "codemirror_mode": {
    "name": "ipython",
    "version": 3
   },
   "file_extension": ".py",
   "mimetype": "text/x-python",
   "name": "python",
   "nbconvert_exporter": "python",
   "pygments_lexer": "ipython3",
   "version": "3.9.12"
  }
 },
 "nbformat": 4,
 "nbformat_minor": 5
}
