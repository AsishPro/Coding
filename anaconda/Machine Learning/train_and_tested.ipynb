{
 "cells": [
  {
   "cell_type": "code",
   "execution_count": 2,
   "id": "d12d45ba",
   "metadata": {},
   "outputs": [],
   "source": [
    "import numpy as np\n",
    "import matplotlib.pyplot as plt"
   ]
  },
  {
   "cell_type": "code",
   "execution_count": 3,
   "id": "74a48084",
   "metadata": {},
   "outputs": [],
   "source": [
    "def act(x):\n",
    "    return 1/(1+ np.exp(-x))\n",
    "def derivative(x):\n",
    "    return x*(1-x)"
   ]
  },
  {
   "cell_type": "code",
   "execution_count": 9,
   "id": "5c5edf98",
   "metadata": {},
   "outputs": [
    {
     "data": {
      "text/plain": [
       "array([[0],\n",
       "       [0],\n",
       "       [0],\n",
       "       [1]])"
      ]
     },
     "execution_count": 9,
     "metadata": {},
     "output_type": "execute_result"
    }
   ],
   "source": [
    "x=np.array([[0,0],[0,1],[1,0],[1,1]])\n",
    "y=np.array([[0],[0],[0],[1]])\n",
    "\n",
    "i_n=2\n",
    "h_n=4\n",
    "h_o=1\n",
    "\n",
    "w1=np.array([[0.1,0.2,0.3,0.1],[0.2,0.2,0.6,0.2]])\n",
    "w2=np.array([[0.3],[0.1],[0.4],[0.2]])\n",
    "\n",
    "b1=np.array([[0.1,0.2,0.3,0.4]])\n",
    "b2=np.array([[0.1]])\n",
    "\n",
    "x[0].shape"
   ]
  },
  {
   "cell_type": "code",
   "execution_count": 62,
   "id": "ceb997c9",
   "metadata": {},
   "outputs": [
    {
     "data": {
      "text/plain": [
       "[<matplotlib.lines.Line2D at 0x1ffd7d92460>]"
      ]
     },
     "execution_count": 62,
     "metadata": {},
     "output_type": "execute_result"
    },
    {
     "data": {
      "image/png": "[encoded data removed]",
      "text/plain": [
       "<Figure size 432x288 with 1 Axes>"
      ]
     },
     "metadata": {
      "needs_background": "light"
     },
     "output_type": "display_data"
    }
   ],
   "source": [
    "l=0.1\n",
    "error=0\n",
    "lt=np.array([])\n",
    "for j in range(1000):\n",
    "    error=0\n",
    "    for i in range(len(x)):   #directly can also give input matrix without iterating each input\n",
    "        t=y[i]\n",
    "        i=x[i].reshape(1,len(x[i]))\n",
    "\n",
    "        \n",
    "        # i - 1x2 w1 2x4 o = 1x4 \n",
    "        10x2 x 4x10 - 1x4\n",
    "        hidden_o=act(i@w1+b1) #1x4\n",
    "        final_o=act(hidden_o@w2+b2) #1x1\n",
    "        #print(final_o)\n",
    "        error+=abs(t-final_o)\n",
    "\n",
    "\n",
    "        final_e=derivative(final_o)*(t-final_o) #1x1\n",
    "        hidden_e=derivative(hidden_o)*(final_e@w2.T)  #should be 1x4\n",
    "\n",
    "        #final_e 1x1 and hidden_o is 1x4\n",
    "        #i is 1x2 and hidden_e is 1x4\n",
    "        w2+=l*(hidden_o.T@final_e)   #should be 4x1\n",
    "        w1+=l*(i.T@hidden_e)         #should be 2x4\n",
    "\n",
    "\n",
    "        b2+=l*np.mean(final_e,axis=0)\n",
    "        b1+=l*np.mean(hidden_e,axis=0)  \n",
    "    error=error/4\n",
    "    lt=np.append(lt,error)\n",
    "lt #to check if error reducing\n",
    "\n",
    "plt.plot(lt)"
   ]
  },
  {
   "cell_type": "code",
   "execution_count": 63,
   "id": "e80bbb3d",
   "metadata": {},
   "outputs": [],
   "source": [
    "def predict(x):\n",
    "    hidden_o=act(x@w1+b1)\n",
    "    final_o=act(hidden_o@w2+b2)\n",
    "    return final_o\n"
   ]
  },
  {
   "cell_type": "code",
   "execution_count": 64,
   "id": "72c15d46",
   "metadata": {
    "scrolled": true
   },
   "outputs": [
    {
     "name": "stdout",
     "output_type": "stream",
     "text": [
      "[[0.11080168]]\n",
      "[[0.29059987]]\n",
      "[[0.27485237]]\n",
      "[[0.5101212]]\n"
     ]
    }
   ],
   "source": [
    "test=x\n",
    "for i in test:\n",
    "    print(predict(i))"
   ]
  },
  {
   "cell_type": "code",
   "execution_count": 65,
   "id": "c605061d",
   "metadata": {},
   "outputs": [
    {
     "name": "stdout",
     "output_type": "stream",
     "text": [
      "[[0.]]\n",
      "[[0.]]\n",
      "[[0.]]\n",
      "[[1.]]\n"
     ]
    }
   ],
   "source": [
    "test=x\n",
    "for i in test:\n",
    "    print(np.round(predict(i)))"
   ]
  },
  {
   "cell_type": "markdown",
   "id": "4696446c",
   "metadata": {},
   "source": [
    "### Predicting and Metrics\n"
   ]
  },
  {
   "cell_type": "code",
   "execution_count": 66,
   "id": "23b4c2d6",
   "metadata": {
    "scrolled": true
   },
   "outputs": [
    {
     "name": "stdout",
     "output_type": "stream",
     "text": [
      "[[0.11080168]\n",
      " [0.29059987]\n",
      " [0.27485237]\n",
      " [0.5101212 ]\n",
      " [0.27485237]]\n",
      "mae=0.28819701902097095\n",
      "accuracy=1.0\n"
     ]
    }
   ],
   "source": [
    "\n",
    "test_data=np.array([[0,0],[0,1],[1,0],[1,1],[1,0]])\n",
    "target=np.array([[0],[0],[0],[1],[0]])\n",
    "\n",
    "print(predict(test_data))  #at a time everything we can pass\n",
    "p=np.array(predict(test_data))\n",
    "\n",
    "errors=abs(p-target)\n",
    "mae=errors.mean()\n",
    "print(f\"mae={mae}\")\n",
    "accuracy=np.mean(np.round(p)==target)  # if we do not round it would be zero\n",
    "print(f\"accuracy={accuracy}\")\n",
    "                   "
   ]
  },
  {
   "cell_type": "code",
   "execution_count": 1,
   "id": "f48027ba",
   "metadata": {},
   "outputs": [
    {
     "ename": "NameError",
     "evalue": "name 'X' is not defined",
     "output_type": "error",
     "traceback": [
      "\u001b[1;31m---------------------------------------------------------------------------\u001b[0m",
      "\u001b[1;31mNameError\u001b[0m                                 Traceback (most recent call last)",
      "Input \u001b[1;32mIn [1]\u001b[0m, in \u001b[0;36m<cell line: 7>\u001b[1;34m()\u001b[0m\n\u001b[0;32m      4\u001b[0m     \u001b[38;5;28;01mreturn\u001b[39;00m final_o\n\u001b[0;32m      6\u001b[0m \u001b[38;5;66;03m#testing on same data\u001b[39;00m\n\u001b[1;32m----> 7\u001b[0m \u001b[38;5;28mprint\u001b[39m(output(\u001b[43mX\u001b[49m))\n\u001b[0;32m      8\u001b[0m y\n",
      "\u001b[1;31mNameError\u001b[0m: name 'X' is not defined"
     ]
    }
   ],
   "source": []
  }
 ],
 "metadata": {
  "kernelspec": {
   "display_name": "Python 3 (ipykernel)",
   "language": "python",
   "name": "python3"
  },
  "language_info": {
   "codemirror_mode": {
    "name": "ipython",
    "version": 3
   },
   "file_extension": ".py",
   "mimetype": "text/x-python",
   "name": "python",
   "nbconvert_exporter": "python",
   "pygments_lexer": "ipython3",
   "version": "3.9.12"
  }
 },
 "nbformat": 4,
 "nbformat_minor": 5
}
