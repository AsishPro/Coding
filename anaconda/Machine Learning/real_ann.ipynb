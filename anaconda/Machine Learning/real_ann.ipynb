{
 "cells": [
  {
   "cell_type": "code",
   "execution_count": 728,
   "id": "b2cd89b1",
   "metadata": {},
   "outputs": [],
   "source": [
    "import numpy as np\n",
    "import pandas as pd"
   ]
  },
  {
   "cell_type": "code",
   "execution_count": 729,
   "id": "6e5ebd80",
   "metadata": {},
   "outputs": [
    {
     "data": {
      "text/html": [
       "<div>\n",
       "<style scoped>\n",
       "    .dataframe tbody tr th:only-of-type {\n",
       "        vertical-align: middle;\n",
       "    }\n",
       "\n",
       "    .dataframe tbody tr th {\n",
       "        vertical-align: top;\n",
       "    }\n",
       "\n",
       "    .dataframe thead th {\n",
       "        text-align: right;\n",
       "    }\n",
       "</style>\n",
       "<table border=\"1\" class=\"dataframe\">\n",
       "  <thead>\n",
       "    <tr style=\"text-align: right;\">\n",
       "      <th></th>\n",
       "      <th>Country</th>\n",
       "      <th>Age</th>\n",
       "      <th>Salary</th>\n",
       "      <th>Purchased</th>\n",
       "    </tr>\n",
       "  </thead>\n",
       "  <tbody>\n",
       "    <tr>\n",
       "      <th>0</th>\n",
       "      <td>France</td>\n",
       "      <td>44.0</td>\n",
       "      <td>72000.0</td>\n",
       "      <td>No</td>\n",
       "    </tr>\n",
       "    <tr>\n",
       "      <th>1</th>\n",
       "      <td>Spain</td>\n",
       "      <td>27.0</td>\n",
       "      <td>48000.0</td>\n",
       "      <td>Yes</td>\n",
       "    </tr>\n",
       "    <tr>\n",
       "      <th>2</th>\n",
       "      <td>Germany</td>\n",
       "      <td>30.0</td>\n",
       "      <td>54000.0</td>\n",
       "      <td>No</td>\n",
       "    </tr>\n",
       "    <tr>\n",
       "      <th>3</th>\n",
       "      <td>Spain</td>\n",
       "      <td>38.0</td>\n",
       "      <td>61000.0</td>\n",
       "      <td>No</td>\n",
       "    </tr>\n",
       "    <tr>\n",
       "      <th>4</th>\n",
       "      <td>Germany</td>\n",
       "      <td>40.0</td>\n",
       "      <td>NaN</td>\n",
       "      <td>Yes</td>\n",
       "    </tr>\n",
       "    <tr>\n",
       "      <th>5</th>\n",
       "      <td>France</td>\n",
       "      <td>35.0</td>\n",
       "      <td>58000.0</td>\n",
       "      <td>Yes</td>\n",
       "    </tr>\n",
       "    <tr>\n",
       "      <th>6</th>\n",
       "      <td>Spain</td>\n",
       "      <td>NaN</td>\n",
       "      <td>52000.0</td>\n",
       "      <td>No</td>\n",
       "    </tr>\n",
       "    <tr>\n",
       "      <th>7</th>\n",
       "      <td>France</td>\n",
       "      <td>48.0</td>\n",
       "      <td>79000.0</td>\n",
       "      <td>Yes</td>\n",
       "    </tr>\n",
       "    <tr>\n",
       "      <th>8</th>\n",
       "      <td>Germany</td>\n",
       "      <td>50.0</td>\n",
       "      <td>83000.0</td>\n",
       "      <td>No</td>\n",
       "    </tr>\n",
       "    <tr>\n",
       "      <th>9</th>\n",
       "      <td>France</td>\n",
       "      <td>37.0</td>\n",
       "      <td>67000.0</td>\n",
       "      <td>Yes</td>\n",
       "    </tr>\n",
       "  </tbody>\n",
       "</table>\n",
       "</div>"
      ],
      "text/plain": [
       "   Country   Age   Salary Purchased\n",
       "0   France  44.0  72000.0        No\n",
       "1    Spain  27.0  48000.0       Yes\n",
       "2  Germany  30.0  54000.0        No\n",
       "3    Spain  38.0  61000.0        No\n",
       "4  Germany  40.0      NaN       Yes\n",
       "5   France  35.0  58000.0       Yes\n",
       "6    Spain   NaN  52000.0        No\n",
       "7   France  48.0  79000.0       Yes\n",
       "8  Germany  50.0  83000.0        No\n",
       "9   France  37.0  67000.0       Yes"
      ]
     },
     "execution_count": 729,
     "metadata": {},
     "output_type": "execute_result"
    }
   ],
   "source": [
    "df=pd.read_csv(\"Data.csv\")\n",
    "df"
   ]
  },
  {
   "cell_type": "code",
   "execution_count": 730,
   "id": "656dc638",
   "metadata": {},
   "outputs": [
    {
     "name": "stdout",
     "output_type": "stream",
     "text": [
      "[0 1 0 0 1 1 0 1 0 1]\n"
     ]
    },
    {
     "data": {
      "text/plain": [
       "array([0, 1, 0, 0, 1, 1, 0, 1, 0, 1])"
      ]
     },
     "execution_count": 730,
     "metadata": {},
     "output_type": "execute_result"
    }
   ],
   "source": [
    "\n",
    "# x=df.iloc[:,:-1]\n",
    "# print(x.iloc[:,1].sum())\n",
    "x=df.iloc[:,1:-1].values\n",
    "y=(df[\"Purchased\"]==\"Yes\").astype(int).values\n",
    "print(y)\n",
    "y"
   ]
  },
  {
   "cell_type": "code",
   "execution_count": 731,
   "id": "d82095d8",
   "metadata": {},
   "outputs": [
    {
     "name": "stdout",
     "output_type": "stream",
     "text": [
      "[[4.4e+01 7.2e+04]\n",
      " [2.7e+01 4.8e+04]\n",
      " [3.0e+01 5.4e+04]\n",
      " [3.8e+01 6.1e+04]\n",
      " [4.0e+01     nan]\n",
      " [3.5e+01 5.8e+04]\n",
      " [    nan 5.2e+04]\n",
      " [4.8e+01 7.9e+04]\n",
      " [5.0e+01 8.3e+04]\n",
      " [3.7e+01 6.7e+04]]\n"
     ]
    }
   ],
   "source": [
    "print(x)"
   ]
  },
  {
   "cell_type": "code",
   "execution_count": 732,
   "id": "df3a847c",
   "metadata": {},
   "outputs": [
    {
     "data": {
      "text/plain": [
       "array([[4.40000000e+01, 7.20000000e+04],\n",
       "       [2.70000000e+01, 4.80000000e+04],\n",
       "       [3.00000000e+01, 5.40000000e+04],\n",
       "       [3.80000000e+01, 6.10000000e+04],\n",
       "       [4.00000000e+01, 6.37777778e+04],\n",
       "       [3.50000000e+01, 5.80000000e+04],\n",
       "       [3.87777778e+01, 5.20000000e+04],\n",
       "       [4.80000000e+01, 7.90000000e+04],\n",
       "       [5.00000000e+01, 8.30000000e+04],\n",
       "       [3.70000000e+01, 6.70000000e+04]])"
      ]
     },
     "execution_count": 732,
     "metadata": {},
     "output_type": "execute_result"
    }
   ],
   "source": [
    "from sklearn.impute import SimpleImputer\n",
    "imputer=SimpleImputer(strategy=\"mean\")\n",
    "# fit method find missing values and find mean.\n",
    "# transform applies transformation\n",
    "\n",
    "x[:,:]=imputer.fit_transform(x[:,:])\n",
    "x"
   ]
  },
  {
   "cell_type": "code",
   "execution_count": 733,
   "id": "faf1f72b",
   "metadata": {},
   "outputs": [
    {
     "data": {
      "text/plain": [
       "63777.777777777774"
      ]
     },
     "execution_count": 733,
     "metadata": {},
     "output_type": "execute_result"
    }
   ],
   "source": [
    "x[:,1].mean()"
   ]
  },
  {
   "cell_type": "code",
   "execution_count": 734,
   "id": "d12d45ba",
   "metadata": {},
   "outputs": [
    {
     "data": {
      "text/html": [
       "<div>\n",
       "<style scoped>\n",
       "    .dataframe tbody tr th:only-of-type {\n",
       "        vertical-align: middle;\n",
       "    }\n",
       "\n",
       "    .dataframe tbody tr th {\n",
       "        vertical-align: top;\n",
       "    }\n",
       "\n",
       "    .dataframe thead th {\n",
       "        text-align: right;\n",
       "    }\n",
       "</style>\n",
       "<table border=\"1\" class=\"dataframe\">\n",
       "  <thead>\n",
       "    <tr style=\"text-align: right;\">\n",
       "      <th></th>\n",
       "      <th>0</th>\n",
       "      <th>1</th>\n",
       "    </tr>\n",
       "  </thead>\n",
       "  <tbody>\n",
       "    <tr>\n",
       "      <th>0</th>\n",
       "      <td>0.748148</td>\n",
       "      <td>0.610229</td>\n",
       "    </tr>\n",
       "    <tr>\n",
       "      <th>1</th>\n",
       "      <td>-1.518519</td>\n",
       "      <td>-0.913580</td>\n",
       "    </tr>\n",
       "    <tr>\n",
       "      <th>2</th>\n",
       "      <td>-1.118519</td>\n",
       "      <td>-0.532628</td>\n",
       "    </tr>\n",
       "    <tr>\n",
       "      <th>3</th>\n",
       "      <td>-0.051852</td>\n",
       "      <td>-0.088183</td>\n",
       "    </tr>\n",
       "    <tr>\n",
       "      <th>4</th>\n",
       "      <td>0.214815</td>\n",
       "      <td>0.088183</td>\n",
       "    </tr>\n",
       "    <tr>\n",
       "      <th>5</th>\n",
       "      <td>-0.451852</td>\n",
       "      <td>-0.278660</td>\n",
       "    </tr>\n",
       "    <tr>\n",
       "      <th>6</th>\n",
       "      <td>0.051852</td>\n",
       "      <td>-0.659612</td>\n",
       "    </tr>\n",
       "    <tr>\n",
       "      <th>7</th>\n",
       "      <td>1.281481</td>\n",
       "      <td>1.054674</td>\n",
       "    </tr>\n",
       "    <tr>\n",
       "      <th>8</th>\n",
       "      <td>1.548148</td>\n",
       "      <td>1.308642</td>\n",
       "    </tr>\n",
       "    <tr>\n",
       "      <th>9</th>\n",
       "      <td>-0.185185</td>\n",
       "      <td>0.292769</td>\n",
       "    </tr>\n",
       "  </tbody>\n",
       "</table>\n",
       "</div>"
      ],
      "text/plain": [
       "          0         1\n",
       "0  0.748148  0.610229\n",
       "1 -1.518519 -0.913580\n",
       "2 -1.118519 -0.532628\n",
       "3 -0.051852 -0.088183\n",
       "4  0.214815  0.088183\n",
       "5 -0.451852 -0.278660\n",
       "6  0.051852 -0.659612\n",
       "7  1.281481  1.054674\n",
       "8  1.548148  1.308642\n",
       "9 -0.185185  0.292769"
      ]
     },
     "execution_count": 734,
     "metadata": {},
     "output_type": "execute_result"
    }
   ],
   "source": [
    "import numpy as np\n",
    "import matplotlib.pyplot as plt\n",
    "from sklearn.preprocessing import MinMaxScaler\n",
    "mnscl=MinMaxScaler()\n",
    "x=mnscl.fit_transform(x)\n",
    "x"
   ]
  },
  {
   "cell_type": "code",
   "execution_count": 735,
   "id": "74a48084",
   "metadata": {},
   "outputs": [],
   "source": [
    "def act(x):\n",
    "    return 1/(1+ np.exp(-x))\n",
    "def derivative(x):\n",
    "    return x*(1-x)"
   ]
  },
  {
   "cell_type": "code",
   "execution_count": 736,
   "id": "5c5edf98",
   "metadata": {},
   "outputs": [
    {
     "data": {
      "text/plain": [
       "array([[0],\n",
       "       [1],\n",
       "       [0],\n",
       "       [0],\n",
       "       [1],\n",
       "       [1],\n",
       "       [0],\n",
       "       [1],\n",
       "       [0],\n",
       "       [1]])"
      ]
     },
     "execution_count": 736,
     "metadata": {},
     "output_type": "execute_result"
    }
   ],
   "source": [
    "\n",
    "i_n=2\n",
    "h_n=9\n",
    "h_o=1\n",
    "\n",
    "np.random.seed(42)\n",
    "w1 = np.random.randn(input_size, hidden_size)\n",
    "b1 = np.zeros((1, hidden_size))\n",
    "w2 = np.random.randn(hidden_size, output_size)\n",
    "b2 = np.zeros((1, output_size))\n",
    "w1.shape\n",
    "\n",
    "y=y.reshape(len(x),1)\n",
    "y"
   ]
  },
  {
   "cell_type": "code",
   "execution_count": 737,
   "id": "ceb997c9",
   "metadata": {},
   "outputs": [
    {
     "name": "stdout",
     "output_type": "stream",
     "text": [
      "[0.02830977 0.07169023 0.02830977 0.02830977 0.07169023 0.07169023\n",
      " 0.02830977 0.07169023 0.02830977 0.07169023 0.03022296 0.06977704\n",
      " 0.03022296 0.03022296 0.06977704 0.06977704 0.03022296 0.06977704\n",
      " 0.03022296 0.06977704 0.03210135 0.06789865 0.03210135 0.03210135\n",
      " 0.06789865 0.06789865 0.03210135 0.06789865 0.03210135 0.06789865\n",
      " 0.03391259 0.06608741 0.03391259 0.03391259 0.06608741 0.06608741\n",
      " 0.03391259 0.06608741 0.03391259 0.06608741 0.03562962 0.06437038\n",
      " 0.03562962 0.03562962 0.06437038 0.06437038 0.03562962 0.06437038\n",
      " 0.03562962 0.06437038 0.03723231 0.06276769 0.03723231 0.03723231\n",
      " 0.06276769 0.06276769 0.03723231 0.06276769 0.03723231 0.06276769\n",
      " 0.03870798 0.06129202 0.03870798 0.03870798 0.06129202 0.06129202\n",
      " 0.03870798 0.06129202 0.03870798 0.06129202 0.0400509  0.0599491\n",
      " 0.0400509  0.0400509  0.0599491  0.0599491  0.0400509  0.0599491\n",
      " 0.0400509  0.0599491  0.04126115 0.05873885 0.04126115 0.04126115\n",
      " 0.05873885 0.05873885 0.04126115 0.05873885 0.04126115 0.05873885\n",
      " 0.04234315 0.05765685 0.04234315 0.04234315 0.05765685 0.05765685\n",
      " 0.04234315 0.05765685 0.04234315 0.05765685 0.0433043  0.0566957\n",
      " 0.0433043  0.0433043  0.0566957  0.0566957  0.0433043  0.0566957\n",
      " 0.0433043  0.0566957  0.04415375 0.05584625 0.04415375 0.04415375\n",
      " 0.05584625 0.05584625 0.04415375 0.05584625 0.04415375 0.05584625\n",
      " 0.0449015  0.0550985  0.0449015  0.0449015  0.0550985  0.0550985\n",
      " 0.0449015  0.0550985  0.0449015  0.0550985  0.04555768 0.05444232\n",
      " 0.04555768 0.04555768 0.05444232 0.05444232 0.04555768 0.05444232\n",
      " 0.04555768 0.05444232 0.04613213 0.05386787 0.04613213 0.04613213\n",
      " 0.05386787 0.05386787 0.04613213 0.05386787 0.04613213 0.05386787\n",
      " 0.04663411 0.05336589 0.04663411 0.04663411 0.05336589 0.05336589\n",
      " 0.04663411 0.05336589 0.04663411 0.05336589 0.04707213 0.05292787\n",
      " 0.04707213 0.04707213 0.05292787 0.05292787 0.04707213 0.05292787\n",
      " 0.04707213 0.05292787 0.04745395 0.05254605 0.04745395 0.04745395\n",
      " 0.05254605 0.05254605 0.04745395 0.05254605 0.04745395 0.05254605\n",
      " 0.04778649 0.05221351 0.04778649 0.04778649 0.05221351 0.05221351\n",
      " 0.04778649 0.05221351 0.04778649 0.05221351 0.04807595 0.05192405\n",
      " 0.04807595 0.04807595 0.05192405 0.05192405 0.04807595 0.05192405\n",
      " 0.04807595 0.05192405 0.04832778 0.05167222 0.04832778 0.04832778\n",
      " 0.05167222 0.05167222 0.04832778 0.05167222 0.04832778 0.05167222\n",
      " 0.0485468  0.0514532  0.0485468  0.0485468  0.0514532  0.0514532\n",
      " 0.0485468  0.0514532  0.0485468  0.0514532  0.04873723 0.05126277\n",
      " 0.04873723 0.04873723 0.05126277 0.05126277 0.04873723 0.05126277\n",
      " 0.04873723 0.05126277 0.04890277 0.05109723 0.04890277 0.04890277\n",
      " 0.05109723 0.05109723 0.04890277 0.05109723 0.04890277 0.05109723\n",
      " 0.04904665 0.05095335 0.04904665 0.04904665 0.05095335 0.05095335\n",
      " 0.04904665 0.05095335 0.04904665 0.05095335 0.04917169 0.05082831\n",
      " 0.04917169 0.04917169 0.05082831 0.05082831 0.04917169 0.05082831\n",
      " 0.04917169 0.05082831 0.04928035 0.05071965 0.04928035 0.04928035\n",
      " 0.05071965 0.05071965 0.04928035 0.05071965 0.04928035 0.05071965\n",
      " 0.04937477 0.05062523 0.04937477 0.04937477 0.05062523 0.05062523\n",
      " 0.04937477 0.05062523 0.04937477 0.05062523 0.04945681 0.05054319\n",
      " 0.04945681 0.04945681 0.05054319 0.05054319 0.04945681 0.05054319\n",
      " 0.04945681 0.05054319 0.04952809 0.05047191 0.04952809 0.04952809\n",
      " 0.05047191 0.05047191 0.04952809 0.05047191 0.04952809 0.05047191\n",
      " 0.04959001 0.05040999 0.04959001 0.04959001 0.05040999 0.05040999\n",
      " 0.04959001 0.05040999 0.04959001 0.05040999 0.04964382 0.05035618\n",
      " 0.04964382 0.04964382 0.05035618 0.05035618 0.04964382 0.05035618\n",
      " 0.04964382 0.05035618 0.04969056 0.05030944 0.04969056 0.04969056\n",
      " 0.05030944 0.05030944 0.04969056 0.05030944 0.04969056 0.05030944\n",
      " 0.04973117 0.05026883 0.04973117 0.04973117 0.05026883 0.05026883\n",
      " 0.04973117 0.05026883 0.04973117 0.05026883 0.04976645 0.05023355\n",
      " 0.04976645 0.04976645 0.05023355 0.05023355 0.04976645 0.05023355\n",
      " 0.04976645 0.05023355 0.04979711 0.05020289 0.04979711 0.04979711\n",
      " 0.05020289 0.05020289 0.04979711 0.05020289 0.04979711 0.05020289\n",
      " 0.04982374 0.05017626 0.04982374 0.04982374 0.05017626 0.05017626\n",
      " 0.04982374 0.05017626 0.04982374 0.05017626 0.04984687 0.05015313\n",
      " 0.04984687 0.04984687 0.05015313 0.05015313 0.04984687 0.05015313\n",
      " 0.04984687 0.05015313 0.04986697 0.05013303 0.04986697 0.04986697\n",
      " 0.05013303 0.05013303 0.04986697 0.05013303 0.04986697 0.05013303\n",
      " 0.04988443 0.05011557 0.04988443 0.04988443 0.05011557 0.05011557\n",
      " 0.04988443 0.05011557 0.04988443 0.05011557 0.0498996  0.0501004\n",
      " 0.0498996  0.0498996  0.0501004  0.0501004  0.0498996  0.0501004\n",
      " 0.0498996  0.0501004  0.04991277 0.05008723 0.04991277 0.04991277\n",
      " 0.05008723 0.05008723 0.04991277 0.05008723 0.04991277 0.05008723\n",
      " 0.04992422 0.05007578 0.04992422 0.04992422 0.05007578 0.05007578\n",
      " 0.04992422 0.05007578 0.04992422 0.05007578 0.04993417 0.05006583\n",
      " 0.04993417 0.04993417 0.05006583 0.05006583 0.04993417 0.05006583\n",
      " 0.04993417 0.05006583 0.04994281 0.05005719 0.04994281 0.04994281\n",
      " 0.05005719 0.05005719 0.04994281 0.05005719 0.04994281 0.05005719\n",
      " 0.04995032 0.05004968 0.04995032 0.04995032 0.05004968 0.05004968\n",
      " 0.04995032 0.05004968 0.04995032 0.05004968 0.04995684 0.05004316\n",
      " 0.04995684 0.04995684 0.05004316 0.05004316 0.04995684 0.05004316\n",
      " 0.04995684 0.05004316 0.0499625  0.0500375  0.0499625  0.0499625\n",
      " 0.0500375  0.0500375  0.0499625  0.0500375  0.0499625  0.0500375\n",
      " 0.04996742 0.05003258 0.04996742 0.04996742 0.05003258 0.05003258\n",
      " 0.04996742 0.05003258 0.04996742 0.05003258 0.0499717  0.0500283\n",
      " 0.0499717  0.0499717  0.0500283  0.0500283  0.0499717  0.0500283\n",
      " 0.0499717  0.0500283 ]\n"
     ]
    },
    {
     "name": "stderr",
     "output_type": "stream",
     "text": [
      "C:\\Users\\kello\\AppData\\Local\\Temp\\ipykernel_17608\\3516417595.py:2: RuntimeWarning: overflow encountered in exp\n",
      "  return 1/(1+ np.exp(-x))\n"
     ]
    },
    {
     "data": {
      "text/plain": [
       "[<matplotlib.lines.Line2D at 0x29adf6cb130>]"
      ]
     },
     "execution_count": 737,
     "metadata": {},
     "output_type": "execute_result"
    },
    {
     "data": {
      "image/png": "[encoded data removed]",
      "text/plain": [
       "<Figure size 432x288 with 1 Axes>"
      ]
     },
     "metadata": {
      "needs_background": "light"
     },
     "output_type": "display_data"
    }
   ],
   "source": [
    "l=0.1\n",
    "error=0\n",
    "lt=np.array([])\n",
    "for j in range(50):\n",
    "        error=0\n",
    "            #directly can also give input matrix without iterating each input\n",
    "        t=y\n",
    "        i=x\n",
    "        # i - 10x2 w1 2x4 o = 10x4 \n",
    "        hidden_o=act(i@w1+b1) #10x4\n",
    "        final_o=act(hidden_o@w2+b2) #10x1\n",
    "        error=abs(t-final_o)        \n",
    "    \n",
    "        final_e=derivative(final_o)*(t-final_o) #1x1\n",
    "        hidden_e=derivative(hidden_o)*(final_e@w2.T)  #should be 1x4\n",
    "\n",
    "        #final_e 1x1 and hidden_o is 1x4\n",
    "        #i is 1x2 and hidden_e is 1x4\n",
    "#         print(final_e)\n",
    "\n",
    "        w2+=l*(hidden_o.T@final_e)   #should be 4x1\n",
    "        w1+=l*(i.T@hidden_e)         #should be 2x4\n",
    "    \n",
    "        b2+=l*np.mean(final_e,axis=0)\n",
    "        b1+=l*np.mean(hidden_e,axis=0)  \n",
    "        \n",
    "        error=error/len(error)\n",
    "        lt=np.append(lt,error)\n",
    "lt #to check if error reducing\n",
    "\n",
    "print(lt)\n",
    "plt.plot(lt)"
   ]
  },
  {
   "cell_type": "code",
   "execution_count": 738,
   "id": "e80bbb3d",
   "metadata": {},
   "outputs": [],
   "source": [
    "def predict(x):\n",
    "    hidden_o=act(x@w1+b1)\n",
    "    final_o=act(hidden_o@w2+b2)\n",
    "    return final_o\n"
   ]
  },
  {
   "cell_type": "code",
   "execution_count": 739,
   "id": "72c15d46",
   "metadata": {
    "scrolled": false
   },
   "outputs": [
    {
     "name": "stdout",
     "output_type": "stream",
     "text": [
      "[[0.49975413]]\n",
      "[[0.49975413]]\n",
      "[[0.49975413]]\n",
      "[[0.49975413]]\n",
      "[[0.49975413]]\n",
      "[[0.49975413]]\n",
      "[[0.49975413]]\n",
      "[[0.49975413]]\n",
      "[[0.49975413]]\n",
      "[[0.49975413]]\n"
     ]
    },
    {
     "name": "stderr",
     "output_type": "stream",
     "text": [
      "C:\\Users\\kello\\AppData\\Local\\Temp\\ipykernel_17608\\3516417595.py:2: RuntimeWarning: overflow encountered in exp\n",
      "  return 1/(1+ np.exp(-x))\n"
     ]
    }
   ],
   "source": [
    "test=x\n",
    "for i in test:\n",
    "    print(predict(i))"
   ]
  },
  {
   "cell_type": "code",
   "execution_count": 740,
   "id": "c605061d",
   "metadata": {
    "scrolled": true
   },
   "outputs": [
    {
     "name": "stdout",
     "output_type": "stream",
     "text": [
      "[[0.]]\n",
      "[[0.]]\n",
      "[[0.]]\n",
      "[[0.]]\n",
      "[[0.]]\n",
      "[[0.]]\n",
      "[[0.]]\n",
      "[[0.]]\n",
      "[[0.]]\n",
      "[[0.]]\n"
     ]
    },
    {
     "name": "stderr",
     "output_type": "stream",
     "text": [
      "C:\\Users\\kello\\AppData\\Local\\Temp\\ipykernel_17608\\3516417595.py:2: RuntimeWarning: overflow encountered in exp\n",
      "  return 1/(1+ np.exp(-x))\n"
     ]
    },
    {
     "data": {
      "text/plain": [
       "array([[0],\n",
       "       [1],\n",
       "       [0],\n",
       "       [0],\n",
       "       [1],\n",
       "       [1],\n",
       "       [0],\n",
       "       [1],\n",
       "       [0],\n",
       "       [1]])"
      ]
     },
     "execution_count": 740,
     "metadata": {},
     "output_type": "execute_result"
    }
   ],
   "source": [
    "test=x\n",
    "for i in test:\n",
    "    print(np.round(predict(i)))\n",
    "y"
   ]
  },
  {
   "cell_type": "code",
   "execution_count": null,
   "id": "02fde17e",
   "metadata": {},
   "outputs": [],
   "source": []
  }
 ],
 "metadata": {
  "kernelspec": {
   "display_name": "Python 3 (ipykernel)",
   "language": "python",
   "name": "python3"
  },
  "language_info": {
   "codemirror_mode": {
    "name": "ipython",
    "version": 3
   },
   "file_extension": ".py",
   "mimetype": "text/x-python",
   "name": "python",
   "nbconvert_exporter": "python",
   "pygments_lexer": "ipython3",
   "version": "3.9.12"
  }
 },
 "nbformat": 4,
 "nbformat_minor": 5
}
