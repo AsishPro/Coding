{
 "cells": [
  {
   "cell_type": "code",
   "execution_count": 39,
   "id": "62d48927",
   "metadata": {},
   "outputs": [
    {
     "ename": "NameError",
     "evalue": "name 'getsizeof' is not defined",
     "output_type": "error",
     "traceback": [
      "\u001b[1;31m---------------------------------------------------------------------------\u001b[0m",
      "\u001b[1;31mNameError\u001b[0m                                 Traceback (most recent call last)",
      "Input \u001b[1;32mIn [39]\u001b[0m, in \u001b[0;36m<cell line: 2>\u001b[1;34m()\u001b[0m\n\u001b[0;32m      1\u001b[0m a\u001b[38;5;241m=\u001b[39m\u001b[38;5;241m10\u001b[39m\n\u001b[1;32m----> 2\u001b[0m \u001b[38;5;28mprint\u001b[39m(\u001b[43mgetsizeof\u001b[49m(a))\n",
      "\u001b[1;31mNameError\u001b[0m: name 'getsizeof' is not defined"
     ]
    }
   ],
   "source": [
    "a=10\n",
    "print(getsizeof(a))"
   ]
  },
  {
   "cell_type": "code",
   "execution_count": 33,
   "id": "0c900321",
   "metadata": {},
   "outputs": [
    {
     "name": "stdout",
     "output_type": "stream",
     "text": [
      "14.142135623730951\n"
     ]
    }
   ],
   "source": [
    "x1=10\n",
    "x2=20\n",
    "y1=30\n",
    "y2=40\n",
    "\n",
    "\n",
    "print(((x1-x2)**2+(y1-y2)**2)**(0.5))"
   ]
  },
  {
   "cell_type": "code",
   "execution_count": 32,
   "id": "381d0953",
   "metadata": {
    "scrolled": true
   },
   "outputs": [],
   "source": [
    "#sizeof(float)"
   ]
  },
  {
   "cell_type": "code",
   "execution_count": 1,
   "id": "ab6abb09",
   "metadata": {},
   "outputs": [
    {
     "name": "stdout",
     "output_type": "stream",
     "text": [
      "Enter the Percentage40\n"
     ]
    }
   ],
   "source": [
    "x=eval(input(\"Enter the Percentage\"))\n",
    "if (x>=90):\n",
    "    print(\"A\");\n",
    "elif (x>=80 and x<90):\n",
    "    print(\"B\")\n",
    "elif (x>=70 and x<80):\n",
    "    print(\"C\")\n",
    "elif (x>=60 and x<70):\n",
    "    print(\"D\")\n",
    "elif (x>=50 and x<60):\n",
    "    print(\"E\")\n"
   ]
  },
  {
   "cell_type": "code",
   "execution_count": 69,
   "id": "d45f8b69",
   "metadata": {},
   "outputs": [
    {
     "name": "stdout",
     "output_type": "stream",
     "text": [
      "Enter a: 60.5\n",
      "Enter b: 20.5\n",
      "Enter c: 14.5\n",
      "60.5\n"
     ]
    }
   ],
   "source": [
    "a=eval(input(\"Enter a: \"))\n",
    "b=eval(input(\"Enter b: \"))\n",
    "c=eval(input(\"Enter c: \"))\n",
    "\n",
    "print(a if (a > b) and (a>c) else (b if b>c else c))\n",
    "\n",
    "\n",
    "\n",
    "# if(a>b and a>c):\n",
    "#     print(\"\\na=\",a,\"is greater\")\n",
    "# elif(b>c):\n",
    "#     print(\"\\na=\",b,\"is greater\")\n",
    "# else:\n",
    "#     print(\"\\nc=\",c,\"is greater\")\n",
    "    "
   ]
  },
  {
   "cell_type": "code",
   "execution_count": null,
   "id": "55b8d9cf",
   "metadata": {},
   "outputs": [],
   "source": [
    "a=eval(input(\"Enter angle1: \"))\n",
    "b=eval(input(\"Enter angle2: \"))\n",
    "c=eval(input(\"Enter angle3: \"))\n",
    "if(a+b+c==180):\n",
    " print(\"\\nTriangle\")\n",
    "else:\n",
    " print(\"\\nNot a Triangle\")"
   ]
  },
  {
   "cell_type": "code",
   "execution_count": 13,
   "id": "2d6c8903",
   "metadata": {},
   "outputs": [
    {
     "name": "stdout",
     "output_type": "stream",
     "text": [
      "Enter the Basic Salary288384\n",
      "576768.0\n"
     ]
    }
   ],
   "source": [
    "sal=eval(input(\"Enter the Basic Salary\"))\n",
    "\n",
    "if(sal>=10000):\n",
    "    gross=sal+sal*0.2+sal*0.8\n",
    "elif(sal>10000 and sal<=20000):\n",
    "    gross=sal+sal*0.25+sal*0.9\n",
    "elif(sal>20000):\n",
    "    gross=sal+sal*0.3+sal*0.95\n",
    "print(gross)"
   ]
  },
  {
   "cell_type": "code",
   "execution_count": 11,
   "id": "7b6324c0",
   "metadata": {},
   "outputs": [
    {
     "name": "stdout",
     "output_type": "stream",
     "text": [
      "Enter the Number till to print: 10\n",
      "1 2 3 4 5 6 7 8 9 10 "
     ]
    }
   ],
   "source": [
    "n=int(input(\"Enter the Number till to print: \"))\n",
    "\n",
    "for i in range(0,n):\n",
    "    print(i+1,end=\" \")"
   ]
  },
  {
   "cell_type": "code",
   "execution_count": 11,
   "id": "0043b547",
   "metadata": {},
   "outputs": [
    {
     "name": "stdout",
     "output_type": "stream",
     "text": [
      "Enter the Number till to print: 5\n",
      "1/2+1/3+1/4+1/5\n"
     ]
    }
   ],
   "source": [
    "n=int(input(\"Enter the Number till to print: \"))\n",
    "for i in range(2,n):\n",
    "        print(\"1/\",i,\"+\",sep=\"\",end=\"\")\n",
    "\n",
    "print(\"1/\",n,sep='')\n",
    "   "
   ]
  },
  {
   "cell_type": "code",
   "execution_count": 35,
   "id": "240650c9",
   "metadata": {},
   "outputs": [
    {
     "name": "stdout",
     "output_type": "stream",
     "text": [
      "Enter the Number: 23\n",
      "Prime\n"
     ]
    }
   ],
   "source": [
    "n=int(input(\"Enter the Number: \"))\n",
    "count=0\n",
    "for i in range (2,n+1):\n",
    "    if(n%i==0):\n",
    "        count=count+1\n",
    "    \n",
    "if(count==1):\n",
    "    print(\"Prime\")\n",
    "else:\n",
    "    print(\"Composite\")\n"
   ]
  },
  {
   "cell_type": "code",
   "execution_count": 11,
   "id": "aae7c69f",
   "metadata": {},
   "outputs": [
    {
     "name": "stdout",
     "output_type": "stream",
     "text": [
      "Enter the Number3\n",
      "1.8333333333333333\n"
     ]
    }
   ],
   "source": [
    "x=int(input(\"Enter the Number: \"))\n",
    "sum=1\n",
    "for i in range(2,x+1):\n",
    "     sum=sum+((1/i))\n",
    "\n",
    "print(sum)"
   ]
  },
  {
   "cell_type": "code",
   "execution_count": null,
   "id": "88c63aef",
   "metadata": {},
   "outputs": [],
   "source": [
    "n=int(input(\"Enter the Number: \"))\n",
    "for i in range()"
   ]
  },
  {
   "cell_type": "code",
   "execution_count": 15,
   "id": "287eb6ef",
   "metadata": {},
   "outputs": [
    {
     "name": "stdout",
     "output_type": "stream",
     "text": [
      "6\n",
      "7\n",
      "0\n",
      "13\n"
     ]
    }
   ],
   "source": [
    "sum=0\n",
    "while(1):\n",
    "    n=int(input())\n",
    "    if(n==0):\n",
    "        break\n",
    "    sum=sum+n\n",
    "print(sum)\n"
   ]
  },
  {
   "cell_type": "code",
   "execution_count": 2,
   "id": "4ea6d81e",
   "metadata": {},
   "outputs": [
    {
     "name": "stdout",
     "output_type": "stream",
     "text": [
      "169\n"
     ]
    }
   ],
   "source": [
    "count=0\n",
    "for i in range(2,1001):\n",
    "    if(i%2!=0 and i%3!=0 and i%5!=0 and i%7!=0 and i%11!=0 and i%13!=0 and i%17!=0 and i%19!=0):\n",
    "        count=count+1\n",
    "print(count)"
   ]
  },
  {
   "cell_type": "code",
   "execution_count": 11,
   "id": "b5264207",
   "metadata": {},
   "outputs": [
    {
     "name": "stdout",
     "output_type": "stream",
     "text": [
      "Enter the first number: 12\n",
      "Enter the Second number: 56\n",
      "4\n"
     ]
    }
   ],
   "source": [
    "\n",
    "def HCF(x,y):\n",
    "    if(y%x==0):\n",
    "        print(x)\n",
    "    if y%x!=0:\n",
    "        HCF(y%x,x)\n",
    "    \n",
    "a=int(input(\"Enter the first number: \"));\n",
    "b=int(input(\"Enter the Second number: \"))\n",
    "if(a<b):\n",
    "    HCF(a,b)\n",
    "else:\n",
    "    HCF(b,a)"
   ]
  },
  {
   "cell_type": "code",
   "execution_count": 27,
   "id": "b40a3b54",
   "metadata": {},
   "outputs": [
    {
     "name": "stdout",
     "output_type": "stream",
     "text": [
      "Enter the Number: 678923\n",
      "378926\n"
     ]
    }
   ],
   "source": [
    "n=int(input(\"Enter the Number: \"))\n",
    "temp=n\n",
    "k=0\n",
    "count=0\n",
    "while(n!=0):\n",
    "    k=k*10+n%10\n",
    "    count=count+1\n",
    "    n=n//10\n",
    "    \n",
    "\n",
    "n=temp\n",
    "r1=n%10\n",
    "r2=k%10\n",
    "\n",
    "sum=r1\n",
    "k=k//10\n",
    "count=count-2\n",
    "while(count):\n",
    "    sum=sum*10+k%10\n",
    "    k=k//10\n",
    "    count=count-1\n",
    "    \n",
    "sum=sum*10+r2\n",
    "print(sum)\n"
   ]
  },
  {
   "cell_type": "code",
   "execution_count": 7,
   "id": "7fc77380",
   "metadata": {},
   "outputs": [
    {
     "ename": "NameError",
     "evalue": "name 'sys' is not defined",
     "output_type": "error",
     "traceback": [
      "\u001b[1;31m---------------------------------------------------------------------------\u001b[0m",
      "\u001b[1;31mNameError\u001b[0m                                 Traceback (most recent call last)",
      "Input \u001b[1;32mIn [7]\u001b[0m, in \u001b[0;36m<cell line: 1>\u001b[1;34m()\u001b[0m\n\u001b[1;32m----> 1\u001b[0m \u001b[43msys\u001b[49m\u001b[38;5;241m.\u001b[39mversion(\u001b[38;5;241m1\u001b[39m)\n",
      "\u001b[1;31mNameError\u001b[0m: name 'sys' is not defined"
     ]
    }
   ],
   "source": [
    "sys.version(1)"
   ]
  },
  {
   "cell_type": "code",
   "execution_count": 12,
   "id": "b4670354",
   "metadata": {},
   "outputs": [
    {
     "name": "stdout",
     "output_type": "stream",
     "text": [
      "2\n"
     ]
    }
   ],
   "source": [
    "_=2\n",
    "print(_)\n",
    "unlimited number"
   ]
  },
  {
   "cell_type": "code",
   "execution_count": 18,
   "id": "f6c0d19b",
   "metadata": {},
   "outputs": [
    {
     "name": "stderr",
     "output_type": "stream",
     "text": [
      "<>:1: SyntaxWarning: 'bool' object is not callable; perhaps you missed a comma?\n",
      "<>:1: SyntaxWarning: 'bool' object is not callable; perhaps you missed a comma?\n",
      "C:\\Users\\kello\\AppData\\Local\\Temp\\ipykernel_16920\\4004917557.py:1: SyntaxWarning: 'bool' object is not callable; perhaps you missed a comma?\n",
      "  min(True(False))\n",
      "C:\\Users\\kello\\AppData\\Local\\Temp\\ipykernel_16920\\4004917557.py:1: SyntaxWarning: 'bool' object is not callable; perhaps you missed a comma?\n",
      "  min(True(False))\n",
      "C:\\Users\\kello\\AppData\\Local\\Temp\\ipykernel_16920\\4004917557.py:1: SyntaxWarning: 'bool' object is not callable; perhaps you missed a comma?\n",
      "  min(True(False))\n",
      "C:\\Users\\kello\\AppData\\Local\\Temp\\ipykernel_16920\\4004917557.py:1: SyntaxWarning: 'bool' object is not callable; perhaps you missed a comma?\n",
      "  min(True(False))\n"
     ]
    },
    {
     "ename": "TypeError",
     "evalue": "'bool' object is not callable",
     "output_type": "error",
     "traceback": [
      "\u001b[1;31m---------------------------------------------------------------------------\u001b[0m",
      "\u001b[1;31mTypeError\u001b[0m                                 Traceback (most recent call last)",
      "Input \u001b[1;32mIn [18]\u001b[0m, in \u001b[0;36m<cell line: 1>\u001b[1;34m()\u001b[0m\n\u001b[1;32m----> 1\u001b[0m \u001b[38;5;28mmin\u001b[39m(\u001b[38;5;28;43;01mTrue\u001b[39;49;00m\u001b[43m(\u001b[49m\u001b[38;5;28;43;01mFalse\u001b[39;49;00m\u001b[43m)\u001b[49m)\n",
      "\u001b[1;31mTypeError\u001b[0m: 'bool' object is not callable"
     ]
    }
   ],
   "source": [
    "import \n",
    "\n",
    "min(True(False))"
   ]
  },
  {
   "cell_type": "code",
   "execution_count": 19,
   "id": "02d7e9b3",
   "metadata": {},
   "outputs": [
    {
     "ename": "NameError",
     "evalue": "name 'arguments' is not defined",
     "output_type": "error",
     "traceback": [
      "\u001b[1;31m---------------------------------------------------------------------------\u001b[0m",
      "\u001b[1;31mNameError\u001b[0m                                 Traceback (most recent call last)",
      "Input \u001b[1;32mIn [19]\u001b[0m, in \u001b[0;36m<cell line: 4>\u001b[1;34m()\u001b[0m\n\u001b[0;32m      1\u001b[0m \u001b[38;5;28;01mdef\u001b[39;00m \u001b[38;5;21mname_of_func\u001b[39m(parameters):\n\u001b[0;32m      2\u001b[0m      \u001b[38;5;66;03m#body\u001b[39;00m\n\u001b[0;32m      3\u001b[0m     \u001b[38;5;28;01mreturn\u001b[39;00m \n\u001b[1;32m----> 4\u001b[0m name_of_func(\u001b[43marguments\u001b[49m)\n",
      "\u001b[1;31mNameError\u001b[0m: name 'arguments' is not defined"
     ]
    }
   ],
   "source": [
    "def name_of_func(parameters):\n",
    "     #body\n",
    "    return \n",
    "name_of_func(arguments)"
   ]
  },
  {
   "cell_type": "code",
   "execution_count": 23,
   "id": "02be65b4",
   "metadata": {},
   "outputs": [
    {
     "name": "stdout",
     "output_type": "stream",
     "text": [
      "Enter A: 10\n",
      "Enter B: 12\n",
      "22\n",
      "120\n",
      "0.8333333333333334\n",
      "10\n",
      "2\n"
     ]
    }
   ],
   "source": [
    "def sum1(a,b):\n",
    "    return a+b\n",
    "def pro(a,b):\n",
    "    return a*b\n",
    "def div(a,b):\n",
    "    return a/b\n",
    "def mod(a,b):\n",
    "    return a%b\n",
    "def sub(a,b):\n",
    "    return a-b if (a>b) else b-a\n",
    "a=eval(input(\"Enter A: \"))\n",
    "b=eval(input(\"Enter B: \"))\n",
    "\n",
    "print(sum1(a,b))\n",
    "print(pro(a,b))\n",
    "print(div(a,b))\n",
    "print(mod(a,b))\n",
    "print(sub(a,b))\n",
    "    \n",
    "        "
   ]
  },
  {
   "cell_type": "code",
   "execution_count": 43,
   "id": "469dfd7b",
   "metadata": {},
   "outputs": [
    {
     "name": "stdout",
     "output_type": "stream",
     "text": [
      "Enter the number: 7\n"
     ]
    },
    {
     "data": {
      "text/plain": [
       "10"
      ]
     },
     "execution_count": 43,
     "metadata": {},
     "output_type": "execute_result"
    }
   ],
   "source": [
    "def prisum(x):\n",
    "    sum1=0\n",
    "    count=0\n",
    "    for i in range(2,x):\n",
    "        count=0\n",
    "        for j in range(2,x):\n",
    "            if (i%j==0):\n",
    "                count=count+1\n",
    "        if(count==1):\n",
    "            sum1=sum1+i\n",
    "    return sum1\n",
    " \n",
    "\n",
    "x=int(input(\"Enter the number: \"))\n",
    "prisum(x)\n"
   ]
  },
  {
   "cell_type": "code",
   "execution_count": 15,
   "id": "3536c735",
   "metadata": {},
   "outputs": [
    {
     "name": "stdout",
     "output_type": "stream",
     "text": [
      "Enter the Number to add between 1 to N: 7\n"
     ]
    },
    {
     "data": {
      "text/plain": [
       "8"
      ]
     },
     "execution_count": 15,
     "metadata": {},
     "output_type": "execute_result"
    }
   ],
   "source": [
    "def odd(n):\n",
    "    sum1=0\n",
    "    for i in range(2,n):\n",
    "        if i%2!=0:\n",
    "            sum1=sum1+i \n",
    "    return sum1\n",
    "n=int(input(\"Enter the Number to add between 1 to N: \"))\n",
    "odd(n)"
   ]
  },
  {
   "cell_type": "code",
   "execution_count": 16,
   "id": "e91c371a",
   "metadata": {},
   "outputs": [
    {
     "name": "stdout",
     "output_type": "stream",
     "text": [
      "AsA\n",
      "YES\n"
     ]
    }
   ],
   "source": [
    "def pali(s):\n",
    "    if(s==k):\n",
    "      print(\"YES\")\n",
    "    else:\n",
    "      print(\"NO\")\n",
    "      \n",
    "s=input()\n",
    "k=s[::-1]\n",
    "pali(s)"
   ]
  },
  {
   "cell_type": "code",
   "execution_count": 33,
   "id": "229db153",
   "metadata": {},
   "outputs": [
    {
     "name": "stdout",
     "output_type": "stream",
     "text": [
      "3\n"
     ]
    },
    {
     "data": {
      "text/plain": [
       "(1, 2, 3)"
      ]
     },
     "execution_count": 33,
     "metadata": {},
     "output_type": "execute_result"
    }
   ],
   "source": [
    "t1=(1,2,3)\n",
    "print(t1[2])\n",
    "t1"
   ]
  },
  {
   "cell_type": "code",
   "execution_count": 14,
   "id": "b4d4eb84",
   "metadata": {},
   "outputs": [
    {
     "data": {
      "text/plain": [
       "(1, 2, 3, 4, 5, 6)"
      ]
     },
     "execution_count": 14,
     "metadata": {},
     "output_type": "execute_result"
    }
   ],
   "source": [
    "t2=(4,5,6)\n",
    "t1+t2\n"
   ]
  },
  {
   "cell_type": "code",
   "execution_count": 20,
   "id": "1ecc9f37",
   "metadata": {},
   "outputs": [
    {
     "name": "stdout",
     "output_type": "stream",
     "text": [
      "2 6\n"
     ]
    }
   ],
   "source": [
    "print(t1[-2],t2[-1])\n",
    "\n"
   ]
  },
  {
   "cell_type": "code",
   "execution_count": 26,
   "id": "096cb2e8",
   "metadata": {},
   "outputs": [
    {
     "name": "stdout",
     "output_type": "stream",
     "text": [
      "[1, 2, 3, 4, 5, 6]\n",
      "[1, 2, 3, 1, 2, 3]\n"
     ]
    }
   ],
   "source": [
    "l1=[1,2,3]\n",
    "l2=[4,5,6]\n",
    "print(l1+l2)\n",
    "# print(l1*l2)\n"
   ]
  },
  {
   "cell_type": "code",
   "execution_count": 30,
   "id": "83ca08a7",
   "metadata": {},
   "outputs": [
    {
     "name": "stdout",
     "output_type": "stream",
     "text": [
      "[1, 2, 3]\n"
     ]
    },
    {
     "data": {
      "text/plain": [
       "[420, 2, 3]"
      ]
     },
     "execution_count": 30,
     "metadata": {},
     "output_type": "execute_result"
    }
   ],
   "source": [
    "l1=[1,2,3]\n",
    "print(l1)\n",
    "l1[0]=420\n",
    "l1"
   ]
  },
  {
   "cell_type": "code",
   "execution_count": null,
   "id": "bb6d3c71",
   "metadata": {},
   "outputs": [],
   "source": [
    "n=int(input(\"Enter the Number of Students\"))\n",
    "lst=[]\n",
    "tup=(\"\")\n",
    "for i in range(0,n):\n",
    "    print(\"Enter the Student \",i+1,sep='')\n",
    "    lst.append(input())\n",
    "    tup[i]=input()\n",
    "    \n"
   ]
  },
  {
   "cell_type": "code",
   "execution_count": 45,
   "id": "d3ba762d",
   "metadata": {},
   "outputs": [
    {
     "ename": "KeyboardInterrupt",
     "evalue": "Interrupted by user",
     "output_type": "error",
     "traceback": [
      "\u001b[1;31m---------------------------------------------------------------------------\u001b[0m",
      "\u001b[1;31mKeyboardInterrupt\u001b[0m                         Traceback (most recent call last)",
      "Input \u001b[1;32mIn [45]\u001b[0m, in \u001b[0;36m<cell line: 1>\u001b[1;34m()\u001b[0m\n\u001b[1;32m----> 1\u001b[0m n\u001b[38;5;241m=\u001b[39m\u001b[38;5;28mint\u001b[39m(\u001b[38;5;28;43minput\u001b[39;49m\u001b[43m(\u001b[49m\u001b[38;5;124;43m\"\u001b[39;49m\u001b[38;5;124;43mEnter the Number of Students\u001b[39;49m\u001b[38;5;124;43m\"\u001b[39;49m\u001b[43m)\u001b[49m)\n\u001b[0;32m      2\u001b[0m lst\u001b[38;5;241m=\u001b[39m[]\n\u001b[0;32m      3\u001b[0m \u001b[38;5;28;01mfor\u001b[39;00m i \u001b[38;5;129;01min\u001b[39;00m \u001b[38;5;28mrange\u001b[39m(\u001b[38;5;241m0\u001b[39m,n):\n",
      "File \u001b[1;32m~\\anaconda3\\lib\\site-packages\\ipykernel\\kernelbase.py:1075\u001b[0m, in \u001b[0;36mKernel.raw_input\u001b[1;34m(self, prompt)\u001b[0m\n\u001b[0;32m   1071\u001b[0m \u001b[38;5;28;01mif\u001b[39;00m \u001b[38;5;129;01mnot\u001b[39;00m \u001b[38;5;28mself\u001b[39m\u001b[38;5;241m.\u001b[39m_allow_stdin:\n\u001b[0;32m   1072\u001b[0m     \u001b[38;5;28;01mraise\u001b[39;00m StdinNotImplementedError(\n\u001b[0;32m   1073\u001b[0m         \u001b[38;5;124m\"\u001b[39m\u001b[38;5;124mraw_input was called, but this frontend does not support input requests.\u001b[39m\u001b[38;5;124m\"\u001b[39m\n\u001b[0;32m   1074\u001b[0m     )\n\u001b[1;32m-> 1075\u001b[0m \u001b[38;5;28;01mreturn\u001b[39;00m \u001b[38;5;28;43mself\u001b[39;49m\u001b[38;5;241;43m.\u001b[39;49m\u001b[43m_input_request\u001b[49m\u001b[43m(\u001b[49m\n\u001b[0;32m   1076\u001b[0m \u001b[43m    \u001b[49m\u001b[38;5;28;43mstr\u001b[39;49m\u001b[43m(\u001b[49m\u001b[43mprompt\u001b[49m\u001b[43m)\u001b[49m\u001b[43m,\u001b[49m\n\u001b[0;32m   1077\u001b[0m \u001b[43m    \u001b[49m\u001b[38;5;28;43mself\u001b[39;49m\u001b[38;5;241;43m.\u001b[39;49m\u001b[43m_parent_ident\u001b[49m\u001b[43m[\u001b[49m\u001b[38;5;124;43m\"\u001b[39;49m\u001b[38;5;124;43mshell\u001b[39;49m\u001b[38;5;124;43m\"\u001b[39;49m\u001b[43m]\u001b[49m\u001b[43m,\u001b[49m\n\u001b[0;32m   1078\u001b[0m \u001b[43m    \u001b[49m\u001b[38;5;28;43mself\u001b[39;49m\u001b[38;5;241;43m.\u001b[39;49m\u001b[43mget_parent\u001b[49m\u001b[43m(\u001b[49m\u001b[38;5;124;43m\"\u001b[39;49m\u001b[38;5;124;43mshell\u001b[39;49m\u001b[38;5;124;43m\"\u001b[39;49m\u001b[43m)\u001b[49m\u001b[43m,\u001b[49m\n\u001b[0;32m   1079\u001b[0m \u001b[43m    \u001b[49m\u001b[43mpassword\u001b[49m\u001b[38;5;241;43m=\u001b[39;49m\u001b[38;5;28;43;01mFalse\u001b[39;49;00m\u001b[43m,\u001b[49m\n\u001b[0;32m   1080\u001b[0m \u001b[43m\u001b[49m\u001b[43m)\u001b[49m\n",
      "File \u001b[1;32m~\\anaconda3\\lib\\site-packages\\ipykernel\\kernelbase.py:1120\u001b[0m, in \u001b[0;36mKernel._input_request\u001b[1;34m(self, prompt, ident, parent, password)\u001b[0m\n\u001b[0;32m   1117\u001b[0m             \u001b[38;5;28;01mbreak\u001b[39;00m\n\u001b[0;32m   1118\u001b[0m \u001b[38;5;28;01mexcept\u001b[39;00m \u001b[38;5;167;01mKeyboardInterrupt\u001b[39;00m:\n\u001b[0;32m   1119\u001b[0m     \u001b[38;5;66;03m# re-raise KeyboardInterrupt, to truncate traceback\u001b[39;00m\n\u001b[1;32m-> 1120\u001b[0m     \u001b[38;5;28;01mraise\u001b[39;00m \u001b[38;5;167;01mKeyboardInterrupt\u001b[39;00m(\u001b[38;5;124m\"\u001b[39m\u001b[38;5;124mInterrupted by user\u001b[39m\u001b[38;5;124m\"\u001b[39m) \u001b[38;5;28;01mfrom\u001b[39;00m \u001b[38;5;28mNone\u001b[39m\n\u001b[0;32m   1121\u001b[0m \u001b[38;5;28;01mexcept\u001b[39;00m \u001b[38;5;167;01mException\u001b[39;00m:\n\u001b[0;32m   1122\u001b[0m     \u001b[38;5;28mself\u001b[39m\u001b[38;5;241m.\u001b[39mlog\u001b[38;5;241m.\u001b[39mwarning(\u001b[38;5;124m\"\u001b[39m\u001b[38;5;124mInvalid Message:\u001b[39m\u001b[38;5;124m\"\u001b[39m, exc_info\u001b[38;5;241m=\u001b[39m\u001b[38;5;28;01mTrue\u001b[39;00m)\n",
      "\u001b[1;31mKeyboardInterrupt\u001b[0m: Interrupted by user"
     ]
    }
   ],
   "source": [
    "n=int(input(\"Enter the Number of Students\"))\n",
    "lst=[]\n",
    "for i in range(0,n):\n",
    "    print(\"Enter the Student %d:\"%(i+1),sep='')\n",
    "    lst.append(input())\n",
    "tup=(\"Asish\",\"Rocip\",\"Hima\",\"Puji\",123)\n",
    "lst.append(tup)\n",
    "print(lst)"
   ]
  },
  {
   "cell_type": "code",
   "execution_count": 52,
   "id": "0191520a",
   "metadata": {},
   "outputs": [
    {
     "ename": "TypeError",
     "evalue": "can only concatenate tuple (not \"str\") to tuple",
     "output_type": "error",
     "traceback": [
      "\u001b[1;31m---------------------------------------------------------------------------\u001b[0m",
      "\u001b[1;31mTypeError\u001b[0m                                 Traceback (most recent call last)",
      "Input \u001b[1;32mIn [52]\u001b[0m, in \u001b[0;36m<cell line: 4>\u001b[1;34m()\u001b[0m\n\u001b[0;32m      1\u001b[0m t1 \u001b[38;5;241m=\u001b[39m (\u001b[38;5;241m0\u001b[39m, \u001b[38;5;241m1\u001b[39m, \u001b[38;5;241m2\u001b[39m, \u001b[38;5;241m3\u001b[39m)\n\u001b[0;32m      2\u001b[0m t2 \u001b[38;5;241m=\u001b[39m (\u001b[38;5;124m'\u001b[39m\u001b[38;5;124mpython\u001b[39m\u001b[38;5;124m'\u001b[39m)\n\u001b[1;32m----> 4\u001b[0m \u001b[43mt1\u001b[49m\u001b[43m \u001b[49m\u001b[38;5;241;43m+\u001b[39;49m\u001b[43m \u001b[49m\u001b[43mt2\u001b[49m\n",
      "\u001b[1;31mTypeError\u001b[0m: can only concatenate tuple (not \"str\") to tuple"
     ]
    }
   ],
   "source": [
    "\n",
    "t1 = (0, 1, 2, 3)\n",
    "t2 = ('python')\n",
    "\n",
    "t1 + t2\n",
    "\n"
   ]
  },
  {
   "cell_type": "code",
   "execution_count": 14,
   "id": "63c5294c",
   "metadata": {},
   "outputs": [
    {
     "name": "stdout",
     "output_type": "stream",
     "text": [
      "* \n",
      "* * \n",
      "* * * \n",
      "* * * * \n",
      "* * * * * \n",
      "* * * * \n",
      "* * * \n",
      "* * \n",
      "* \n"
     ]
    }
   ],
   "source": [
    "n=5\n",
    "for i in range(1,n+1):\n",
    "    for j in range(1,i+1):\n",
    "        print(\"*\",end=\" \")\n",
    "    print()\n",
    "for i in range(n-1,0,-1):\n",
    "    for k in range(1,i+1):\n",
    "        print(\"*\",end=\" \")\n",
    "    print()"
   ]
  }
 ],
 "metadata": {
  "kernelspec": {
   "display_name": "Python 3 (ipykernel)",
   "language": "python",
   "name": "python3"
  },
  "language_info": {
   "codemirror_mode": {
    "name": "ipython",
    "version": 3
   },
   "file_extension": ".py",
   "mimetype": "text/x-python",
   "name": "python",
   "nbconvert_exporter": "python",
   "pygments_lexer": "ipython3",
   "version": "3.9.12"
  }
 },
 "nbformat": 4,
 "nbformat_minor": 5
}
