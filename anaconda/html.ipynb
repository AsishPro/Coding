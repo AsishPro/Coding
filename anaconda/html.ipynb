{
 "cells": [
  {
   "cell_type": "markdown",
   "id": "1fe8c101",
   "metadata": {},
   "source": [
    "<!DOCTYPE html>\n",
    "<html>\n",
    "<head>\n",
    "<title>Page Title</title>\n",
    "</head>\n",
    "<body>\n",
    "\n",
    "<img src=\"C:\\Users\\kello\\Downloads\\Web Development\\prac_web\\c++.png\" width=\"50\" />\n",
    "    \n",
    "</html>\n",
    "\n"
   ]
  },
  {
   "cell_type": "markdown",
   "id": "746ed41d",
   "metadata": {},
   "source": [
    "<div style=\"background-color: #ccc; padding: 10px;\">\n",
    "    <span style=\"font-weight: bold;\">This is a heading:</span> Lorem ipsum dolor sit amet, consectetur adipiscing elit.\n",
    "</div>\n",
    "\n",
    "\n"
   ]
  }
 ],
 "metadata": {
  "kernelspec": {
   "display_name": "Python 3 (ipykernel)",
   "language": "python",
   "name": "python3"
  },
  "language_info": {
   "codemirror_mode": {
    "name": "ipython",
    "version": 3
   },
   "file_extension": ".py",
   "mimetype": "text/x-python",
   "name": "python",
   "nbconvert_exporter": "python",
   "pygments_lexer": "ipython3",
   "version": "3.9.12"
  }
 },
 "nbformat": 4,
 "nbformat_minor": 5
}
